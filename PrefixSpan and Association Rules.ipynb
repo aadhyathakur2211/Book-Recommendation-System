{
 "cells": [
  {
   "cell_type": "code",
   "execution_count": 1,
   "metadata": {},
   "outputs": [],
   "source": [
    "#importing the necessary libraries\n",
    "import pandas as pd\n",
    "import numpy as np\n",
    "import matplotlib.pyplot as plt\n",
    "pd.options.display.float_format = '{:,}'.format\n",
    "%matplotlib inline\n",
    "\n"
   ]
  },
  {
   "cell_type": "code",
   "execution_count": 2,
   "metadata": {},
   "outputs": [],
   "source": [
    "#ignoring warnings\n",
    "import warnings\n",
    "warnings.filterwarnings('ignore')"
   ]
  },
  {
   "cell_type": "code",
   "execution_count": 3,
   "metadata": {},
   "outputs": [],
   "source": [
    "#loading the dataset\n",
    "interactions=pd.read_csv(\"goodreads_interactions.csv\")"
   ]
  },
  {
   "cell_type": "code",
   "execution_count": 4,
   "metadata": {},
   "outputs": [
    {
     "data": {
      "text/html": [
       "<div>\n",
       "<style scoped>\n",
       "    .dataframe tbody tr th:only-of-type {\n",
       "        vertical-align: middle;\n",
       "    }\n",
       "\n",
       "    .dataframe tbody tr th {\n",
       "        vertical-align: top;\n",
       "    }\n",
       "\n",
       "    .dataframe thead th {\n",
       "        text-align: right;\n",
       "    }\n",
       "</style>\n",
       "<table border=\"1\" class=\"dataframe\">\n",
       "  <thead>\n",
       "    <tr style=\"text-align: right;\">\n",
       "      <th></th>\n",
       "      <th>user_id</th>\n",
       "      <th>book_id</th>\n",
       "      <th>is_read</th>\n",
       "      <th>rating</th>\n",
       "      <th>is_reviewed</th>\n",
       "    </tr>\n",
       "  </thead>\n",
       "  <tbody>\n",
       "    <tr>\n",
       "      <th>0</th>\n",
       "      <td>0</td>\n",
       "      <td>948</td>\n",
       "      <td>1</td>\n",
       "      <td>5</td>\n",
       "      <td>0</td>\n",
       "    </tr>\n",
       "    <tr>\n",
       "      <th>1</th>\n",
       "      <td>0</td>\n",
       "      <td>947</td>\n",
       "      <td>1</td>\n",
       "      <td>5</td>\n",
       "      <td>1</td>\n",
       "    </tr>\n",
       "    <tr>\n",
       "      <th>2</th>\n",
       "      <td>0</td>\n",
       "      <td>946</td>\n",
       "      <td>1</td>\n",
       "      <td>5</td>\n",
       "      <td>0</td>\n",
       "    </tr>\n",
       "    <tr>\n",
       "      <th>3</th>\n",
       "      <td>0</td>\n",
       "      <td>945</td>\n",
       "      <td>1</td>\n",
       "      <td>5</td>\n",
       "      <td>0</td>\n",
       "    </tr>\n",
       "    <tr>\n",
       "      <th>4</th>\n",
       "      <td>0</td>\n",
       "      <td>944</td>\n",
       "      <td>1</td>\n",
       "      <td>5</td>\n",
       "      <td>0</td>\n",
       "    </tr>\n",
       "  </tbody>\n",
       "</table>\n",
       "</div>"
      ],
      "text/plain": [
       "   user_id  book_id  is_read  rating  is_reviewed\n",
       "0        0      948        1       5            0\n",
       "1        0      947        1       5            1\n",
       "2        0      946        1       5            0\n",
       "3        0      945        1       5            0\n",
       "4        0      944        1       5            0"
      ]
     },
     "execution_count": 4,
     "metadata": {},
     "output_type": "execute_result"
    }
   ],
   "source": [
    "# Let's look at the first 5 rows of the dataset\n",
    "interactions.head()"
   ]
  },
  {
   "cell_type": "code",
   "execution_count": 5,
   "metadata": {},
   "outputs": [
    {
     "data": {
      "text/plain": [
       "Index(['user_id', 'book_id', 'is_read', 'rating', 'is_reviewed'], dtype='object')"
      ]
     },
     "execution_count": 5,
     "metadata": {},
     "output_type": "execute_result"
    }
   ],
   "source": [
    "interactions.columns"
   ]
  },
  {
   "cell_type": "code",
   "execution_count": 6,
   "metadata": {},
   "outputs": [
    {
     "name": "stdout",
     "output_type": "stream",
     "text": [
      "<class 'pandas.core.frame.DataFrame'>\n",
      "RangeIndex: 228648342 entries, 0 to 228648341\n",
      "Data columns (total 5 columns):\n",
      " #   Column       Dtype\n",
      "---  ------       -----\n",
      " 0   user_id      int64\n",
      " 1   book_id      int64\n",
      " 2   is_read      int64\n",
      " 3   rating       int64\n",
      " 4   is_reviewed  int64\n",
      "dtypes: int64(5)\n",
      "memory usage: 8.5 GB\n"
     ]
    }
   ],
   "source": [
    "#Extracting information on type of the attributes\n",
    "interactions.info()"
   ]
  },
  {
   "cell_type": "code",
   "execution_count": 7,
   "metadata": {},
   "outputs": [
    {
     "data": {
      "text/html": [
       "<div>\n",
       "<style scoped>\n",
       "    .dataframe tbody tr th:only-of-type {\n",
       "        vertical-align: middle;\n",
       "    }\n",
       "\n",
       "    .dataframe tbody tr th {\n",
       "        vertical-align: top;\n",
       "    }\n",
       "\n",
       "    .dataframe thead th {\n",
       "        text-align: right;\n",
       "    }\n",
       "</style>\n",
       "<table border=\"1\" class=\"dataframe\">\n",
       "  <thead>\n",
       "    <tr style=\"text-align: right;\">\n",
       "      <th></th>\n",
       "      <th>user_id</th>\n",
       "      <th>book_id</th>\n",
       "      <th>is_read</th>\n",
       "      <th>rating</th>\n",
       "      <th>is_reviewed</th>\n",
       "    </tr>\n",
       "  </thead>\n",
       "  <tbody>\n",
       "  </tbody>\n",
       "</table>\n",
       "</div>"
      ],
      "text/plain": [
       "Empty DataFrame\n",
       "Columns: [user_id, book_id, is_read, rating, is_reviewed]\n",
       "Index: []"
      ]
     },
     "execution_count": 7,
     "metadata": {},
     "output_type": "execute_result"
    }
   ],
   "source": [
    "# Checking for duplicate user_id and book_id pairs\n",
    "interactions[interactions.duplicated(['user_id','book_id'], keep=False)]"
   ]
  },
  {
   "cell_type": "markdown",
   "metadata": {},
   "source": [
    "The output above means that we don't have any duplicate user_id and book_id pairs. So, Let us now check for missing values if any."
   ]
  },
  {
   "cell_type": "code",
   "execution_count": 8,
   "metadata": {},
   "outputs": [
    {
     "data": {
      "text/plain": [
       "user_id        False\n",
       "book_id        False\n",
       "is_read        False\n",
       "rating         False\n",
       "is_reviewed    False\n",
       "dtype: bool"
      ]
     },
     "execution_count": 8,
     "metadata": {},
     "output_type": "execute_result"
    }
   ],
   "source": [
    "#Checking if we have any missing values\n",
    "interactions.isnull().any()"
   ]
  },
  {
   "cell_type": "markdown",
   "metadata": {},
   "source": [
    "There are no missing values which is great! We can now look at the basic statistics of the dataset to get further insights"
   ]
  },
  {
   "cell_type": "code",
   "execution_count": 9,
   "metadata": {},
   "outputs": [
    {
     "data": {
      "text/plain": [
       "228648342"
      ]
     },
     "execution_count": 9,
     "metadata": {},
     "output_type": "execute_result"
    }
   ],
   "source": [
    "#total number of records in this dataframe\n",
    "interactions.shape[0]"
   ]
  },
  {
   "cell_type": "code",
   "execution_count": 10,
   "metadata": {},
   "outputs": [
    {
     "data": {
      "text/plain": [
       "112131203"
      ]
     },
     "execution_count": 10,
     "metadata": {},
     "output_type": "execute_result"
    }
   ],
   "source": [
    "#The number of records where the book has been read by the users\n",
    "interactions['is_read'].sum()"
   ]
  },
  {
   "cell_type": "code",
   "execution_count": 11,
   "metadata": {},
   "outputs": [
    {
     "name": "stdout",
     "output_type": "stream",
     "text": [
      "104551549\n"
     ]
    }
   ],
   "source": [
    "# displaying the number of records where the books have been rated by users\n",
    "print((interactions['rating']>0).sum())"
   ]
  },
  {
   "cell_type": "code",
   "execution_count": 12,
   "metadata": {},
   "outputs": [
    {
     "data": {
      "text/plain": [
       "16219149"
      ]
     },
     "execution_count": 12,
     "metadata": {},
     "output_type": "execute_result"
    }
   ],
   "source": [
    "#total number of records where the books have been reviewed by users\n",
    "interactions['is_reviewed'].sum()"
   ]
  },
  {
   "cell_type": "code",
   "execution_count": 13,
   "metadata": {},
   "outputs": [
    {
     "name": "stdout",
     "output_type": "stream",
     "text": [
      "0    124096793\n",
      "4     37497451\n",
      "5     35506166\n",
      "3     23307457\n",
      "2      6189946\n",
      "1      2050529\n",
      "Name: rating, dtype: int64\n"
     ]
    }
   ],
   "source": [
    "#Number of records where the rating has been provided, here '0' in the output means that no rating has been given to the book by the user\n",
    "count_rating= interactions['rating'].value_counts()\n",
    "print(count_rating)"
   ]
  },
  {
   "cell_type": "markdown",
   "metadata": {},
   "source": [
    "Now that we have seen the basic stats of the dataframe, let us know look at the interactions of each user with each action i.e, read, review and rate"
   ]
  },
  {
   "cell_type": "code",
   "execution_count": 14,
   "metadata": {},
   "outputs": [],
   "source": [
    "user_shelf = interactions['user_id'].value_counts().value_counts().reset_index().sort_values('index').values\n",
    "user_read = interactions['user_id'].loc[interactions['is_read']>0].value_counts().value_counts().reset_index().sort_values('index').values\n",
    "user_rating = interactions['user_id'].loc[interactions['rating']>0].value_counts().value_counts().reset_index().sort_values('index').values\n",
    "user_reviews = interactions['user_id'].loc[interactions['is_reviewed']>0].value_counts().value_counts().reset_index().sort_values('index').values\n"
   ]
  },
  {
   "cell_type": "markdown",
   "metadata": {},
   "source": [
    "Plotting a log-log plot to visualize the interactions between users and actions"
   ]
  },
  {
   "cell_type": "code",
   "execution_count": 15,
   "metadata": {},
   "outputs": [
    {
     "data": {
      "text/plain": [
       "<matplotlib.legend.Legend at 0x13b09254e80>"
      ]
     },
     "execution_count": 15,
     "metadata": {},
     "output_type": "execute_result"
    },
    {
     "data": {
      "image/png": "[encoded data removed]",
      "text/plain": [
       "<Figure size 360x360 with 1 Axes>"
      ]
     },
     "metadata": {},
     "output_type": "display_data"
    }
   ],
   "source": [
    "plt.figure(figsize=(5,5))\n",
    "plt.loglog(user_shelf[:,0], user_shelf[:,1], label='shelf')\n",
    "plt.loglog(user_read[:,0], user_read[:,1], label='read')\n",
    "plt.loglog(user_rating[:,0], user_rating[:,1], label='rating')\n",
    "plt.loglog(user_reviews[:,0], user_reviews[:,1], label='reviews')\n",
    "plt.xlabel('rank')\n",
    "plt.ylabel('frequency')\n",
    "plt.title('Log-Log Plot of the Distribution of Users')\n",
    "plt.legend(loc='upper right')"
   ]
  },
  {
   "cell_type": "markdown",
   "metadata": {},
   "source": [
    "From the above plot, we can see that users have mostly reviewed the books than rating and reading."
   ]
  },
  {
   "cell_type": "markdown",
   "metadata": {},
   "source": [
    "Reference for the plots: https://github.com/MengtingWan/goodreads/"
   ]
  },
  {
   "cell_type": "markdown",
   "metadata": {},
   "source": [
    "Let us now visualize the interactions of books with the actions performed by the users i.e, books that are read, reviewed, shelved, and rated."
   ]
  },
  {
   "cell_type": "code",
   "execution_count": 16,
   "metadata": {},
   "outputs": [],
   "source": [
    "book_shelf = interactions['book_id'].value_counts().value_counts().reset_index().sort_values('index').values\n",
    "book_read = interactions['book_id'].loc[interactions['is_read']>0].value_counts().value_counts().reset_index().sort_values('index').values\n",
    "book_rating = interactions['book_id'].loc[interactions['rating']>0].value_counts().value_counts().reset_index().sort_values('index').values\n",
    "book_reviews = interactions['book_id'].loc[interactions['is_reviewed']>0].value_counts().value_counts().reset_index().sort_values('index').values"
   ]
  },
  {
   "cell_type": "code",
   "execution_count": 17,
   "metadata": {},
   "outputs": [
    {
     "data": {
      "text/plain": [
       "<matplotlib.legend.Legend at 0x13b0957f748>"
      ]
     },
     "execution_count": 17,
     "metadata": {},
     "output_type": "execute_result"
    },
    {
     "data": {
      "image/png": "[encoded data removed]",
      "text/plain": [
       "<Figure size 360x360 with 1 Axes>"
      ]
     },
     "metadata": {},
     "output_type": "display_data"
    }
   ],
   "source": [
    "plt.figure(figsize=(5,5))\n",
    "plt.loglog(book_shelf[:,0], book_shelf[:,1], label='shelf')\n",
    "plt.loglog(book_read[:,0], book_read[:,1], label='read')\n",
    "plt.loglog(book_rating[:,0], book_rating[:,1], label='rating')\n",
    "plt.loglog(book_reviews[:,0], book_reviews[:,1], label='reviews')\n",
    "plt.xlabel('rank')\n",
    "plt.ylabel('frequency')\n",
    "plt.title('Log-Log Plot of the Distribution of Books')\n",
    "plt.legend(loc='upper right')"
   ]
  },
  {
   "cell_type": "markdown",
   "metadata": {},
   "source": [
    "The log-log plot of the distribution of books shows us that most books have been reviewed by the users."
   ]
  },
  {
   "cell_type": "code",
   "execution_count": 18,
   "metadata": {},
   "outputs": [],
   "source": [
    "# Let us now extract all the unique user ids\n",
    "all_user_id = interactions.user_id.unique()"
   ]
  },
  {
   "cell_type": "code",
   "execution_count": 19,
   "metadata": {},
   "outputs": [
    {
     "data": {
      "text/plain": [
       "5"
      ]
     },
     "execution_count": 19,
     "metadata": {},
     "output_type": "execute_result"
    }
   ],
   "source": [
    "# Let's check the user id with index 5\n",
    "all_user_id[5]"
   ]
  },
  {
   "cell_type": "code",
   "execution_count": 20,
   "metadata": {},
   "outputs": [],
   "source": [
    "# importing tqdm library to get the progess of the python code\n",
    "from tqdm import tqdm"
   ]
  },
  {
   "cell_type": "code",
   "execution_count": null,
   "metadata": {},
   "outputs": [
    {
     "name": "stderr",
     "output_type": "stream",
     "text": [
      "  1%|▍                                                                        | 5814/876145 [13:02<31:46:34,  7.61it/s]"
     ]
    }
   ],
   "source": [
    "#here, we are creating a database of baskets of all the books a user reads\n",
    "db = []\n",
    "for user in tqdm(all_user_id):\n",
    "    db.append(list(interactions[interactions.user_id==user]['book_id'].values))\n",
    "    "
   ]
  },
  {
   "cell_type": "code",
   "execution_count": null,
   "metadata": {},
   "outputs": [],
   "source": [
    "db"
   ]
  },
  {
   "cell_type": "code",
   "execution_count": null,
   "metadata": {},
   "outputs": [],
   "source": [
    "# importing prefixspan library\n",
    "from prefixspan import PrefixSpan"
   ]
  },
  {
   "cell_type": "code",
   "execution_count": null,
   "metadata": {},
   "outputs": [],
   "source": [
    "#implementing prefixspan on the database we created\n",
    "ps = PrefixSpan(db)"
   ]
  },
  {
   "cell_type": "code",
   "execution_count": null,
   "metadata": {},
   "outputs": [],
   "source": [
    "# finding the frequent sequences with min_support = 5 \n",
    "freq_seq = ps.frequent(5)"
   ]
  },
  {
   "cell_type": "code",
   "execution_count": null,
   "metadata": {},
   "outputs": [],
   "source": [
    "import pickle\n",
    "\n",
    "with open('freq_seq.pckle', 'wb') as f:\n",
    "    pickle.dump(freq_seq, f)"
   ]
  },
  {
   "cell_type": "code",
   "execution_count": null,
   "metadata": {},
   "outputs": [],
   "source": []
  },
  {
   "cell_type": "code",
   "execution_count": 60,
   "metadata": {},
   "outputs": [
    {
     "data": {
      "text/plain": [
       "[(30, [536]),\n",
       " (29, [943]),\n",
       " (27, [862]),\n",
       " (23, [939]),\n",
       " (23, [1386]),\n",
       " (23, [1387]),\n",
       " (22, [858]),\n",
       " (21, [536, 1387]),\n",
       " (21, [613]),\n",
       " (21, [938]),\n",
       " (21, [941]),\n",
       " (21, [943, 941]),\n",
       " (20, [536, 1386]),\n",
       " (20, [943, 939]),\n",
       " (20, [944]),\n",
       " (20, [1473]),\n",
       " (19, [943, 938]),\n",
       " (19, [943, 968]),\n",
       " (19, [968]),\n",
       " (19, [996]),\n",
       " (19, [999]),\n",
       " (19, [1574]),\n",
       " (18, [461]),\n",
       " (18, [821]),\n",
       " (17, [943, 944]),\n",
       " (17, [1000]),\n",
       " (17, [1402]),\n",
       " (16, [772]),\n",
       " (16, [786]),\n",
       " (16, [941, 939]),\n",
       " (16, [943, 613]),\n",
       " (16, [943, 941, 939]),\n",
       " (16, [997]),\n",
       " (16, [1387, 1386]),\n",
       " (15, [197]),\n",
       " (15, [536, 1387, 1386]),\n",
       " (15, [670]),\n",
       " (15, [938, 939]),\n",
       " (15, [1011]),\n",
       " (15, [1012]),\n",
       " (15, [1211]),\n",
       " (15, [1233]),\n",
       " (14, [255]),\n",
       " (14, [524]),\n",
       " (14, [739]),\n",
       " (14, [839]),\n",
       " (14, [938, 944]),\n",
       " (14, [941, 938]),\n",
       " (14, [943, 941, 938]),\n",
       " (14, [1004])]"
      ]
     },
     "execution_count": 60,
     "metadata": {},
     "output_type": "execute_result"
    }
   ],
   "source": [
    "# finding the top k frequent subsequence patterns\n",
    "ps.topk(50)"
   ]
  },
  {
   "cell_type": "markdown",
   "metadata": {},
   "source": [
    "A pattern is said to be closed if there are no super-sequence pattern with same frequency. Closed patterns are much more compact due to small numbers."
   ]
  },
  {
   "cell_type": "code",
   "execution_count": 61,
   "metadata": {},
   "outputs": [
    {
     "name": "stdout",
     "output_type": "stream",
     "text": [
      "[(6, [947]), (20, [944]), (5, [944, 941]), (13, [944, 939]), (6, [944, 939, 772]), (7, [944, 862]), (8, [944, 858]), (8, [944, 772]), (6, [944, 739]), (5, [944, 670]), (6, [944, 613]), (5, [944, 536]), (6, [944, 255]), (5, [944, 66]), (5, [944, 43]), (5, [944, 1203]), (6, [944, 1004]), (5, [944, 997]), (29, [943]), (21, [943, 941]), (16, [943, 941, 939]), (6, [943, 941, 939, 858]), (5, [943, 941, 939, 772]), (5, [943, 941, 939, 255]), (5, [943, 941, 939, 66]), (6, [943, 941, 939, 968]), (14, [943, 941, 938]), (6, [943, 941, 938, 858]), (5, [943, 941, 938, 772]), (5, [943, 941, 938, 255]), (11, [943, 941, 938, 944]), (7, [943, 941, 938, 944, 968]), (8, [943, 941, 938, 944, 939]), (5, [943, 941, 938, 944, 939, 968]), (5, [943, 941, 938, 944, 1387]), (5, [943, 941, 938, 944, 858]), (8, [943, 941, 938, 968]), (11, [943, 941, 938, 939]), (5, [943, 941, 938, 939, 1387]), (5, [943, 941, 892]), (6, [943, 941, 862]), (8, [943, 941, 858]), (6, [943, 941, 821]), (5, [943, 941, 786]), (7, [943, 941, 772]), (6, [943, 941, 739]), (5, [943, 941, 706]), (5, [943, 941, 670]), (5, [943, 941, 669, 668]), (6, [943, 941, 668]), (8, [943, 941, 613]), (5, [943, 941, 586]), (5, [943, 941, 547]), (5, [943, 941, 536]), (5, [943, 941, 531]), (7, [943, 941, 66]), (13, [943, 941, 944]), (8, [943, 941, 944, 968]), (9, [943, 941, 944, 939]), (6, [943, 941, 944, 1387]), (5, [943, 941, 944, 1386]), (6, [943, 941, 944, 858]), (13, [943, 941, 968]), (5, [943, 941, 968, 772]), (5, [943, 941, 968, 1233]), (5, [943, 941, 968, 1387]), (5, [943, 941, 968, 858]), (5, [943, 941, 1203]), (5, [943, 941, 999]), (5, [943, 941, 1125]), (6, [943, 941, 1117]), (6, [943, 941, 1116]), (5, [943, 941, 1555]), (7, [943, 941, 1387]), (6, [943, 941, 1386]), (5, [943, 941, 1004]), (5, [943, 941, 1574]), (5, [943, 941, 12923]), (5, [943, 941, 7212]), (20, [943, 939]), (5, [943, 939, 938]), (5, [943, 939, 862]), (7, [943, 939, 858]), (6, [943, 939, 821]), (5, [943, 939, 786]), (7, [943, 939, 772]), (6, [943, 939, 739]), (5, [943, 939, 706]), (6, [943, 939, 613]), (5, [943, 939, 586]), (6, [943, 939, 66]), (5, [943, 939, 1203]), (5, [943, 939, 999]), (5, [943, 939, 1117]), (5, [943, 939, 1116]), (9, [943, 939, 968]), (5, [943, 939, 1555]), (7, [943, 939, 1387]), (6, [943, 939, 1386]), (5, [943, 939, 1574]), (5, [943, 939, 12923]), (5, [943, 939, 7212]), (5, [943, 939, 944]), (19, [943, 938]), (6, [943, 938, 862]), (7, [943, 938, 858]), (5, [943, 938, 821]), (6, [943, 938, 772]), (5, [943, 938, 739]), (5, [943, 938, 547]), (6, [943, 938, 66]), (12, [943, 938, 944]), (8, [943, 938, 944, 968]), (6, [943, 938, 944, 1387]), (5, [943, 938, 944, 1386]), (6, [943, 938, 944, 858]), (11, [943, 938, 968]), (5, [943, 938, 968, 858]), (13, [943, 938, 939]), (5, [943, 938, 939, 772]), (6, [943, 938, 939, 968]), (5, [943, 938, 941]), (5, [943, 938, 1203]), (5, [943, 938, 1117]), (5, [943, 938, 1116]), (5, [943, 938, 12923]), (5, [943, 938, 7212]), (7, [943, 924]), (6, [943, 892]), (12, [943, 862]), (5, [943, 862, 858]), (5, [943, 862, 772]), (5, [943, 862, 547]), (5, [943, 862, 126]), (5, [943, 862, 1599]), (5, [943, 862, 1203]), (10, [943, 858]), (5, [943, 853]), (7, [943, 839]), (6, [943, 837]), (7, [943, 828]), (10, [943, 821]), (5, [943, 821, 772]), (5, [943, 821, 739]), (7, [943, 821, 547]), (5, [943, 790]), (9, [943, 786]), (5, [943, 786, 461]), (6, [943, 786, 66]), (5, [943, 786, 821]), (5, [943, 786, 1203]), (5, [943, 786, 1117]), (5, [943, 786, 1116]), (5, [943, 773]), (10, [943, 772]), (6, [943, 759]), (8, [943, 739]), (5, [943, 707]), (7, [943, 706]), (9, [943, 677]), (5, [943, 677, 944]), (5, [943, 677, 968]), (9, [943, 670]), (16, [943, 613]), (5, [943, 613, 255]), (10, [943, 613, 938]), (9, [943, 613, 938, 944]), (7, [943, 613, 938, 944, 968]), (8, [943, 613, 938, 944, 939]), (5, [943, 613, 938, 944, 939, 968]), (9, [943, 613, 938, 968]), (5, [943, 613, 938, 1004]), (11, [943, 613, 944]), (8, [943, 613, 944, 968]), (9, [943, 613, 944, 939]), (5, [943, 613, 944, 1004]), (10, [943, 613, 968]), (6, [943, 613, 772]), (8, [943, 613, 941]), (5, [943, 613, 941, 938, 944, 939]), (6, [943, 613, 941, 944, 939]), (5, [943, 613, 941, 968]), (7, [943, 613, 1387]), (6, [943, 613, 1386]), (5, [943, 613, 1574]), (5, [943, 613, 12923]), (5, [943, 613, 858]), (5, [943, 613, 7212]), (7, [943, 609]), (8, [943, 547]), (10, [943, 536]), (5, [943, 536, 325]), (5, [943, 536, 938]), (5, [943, 536, 939]), (6, [943, 536, 1387]), (6, [943, 536, 1386]), (7, [943, 531]), (5, [943, 531, 66]), (5, [943, 530]), (7, [943, 461]), (5, [943, 460]), (5, [943, 446]), (5, [943, 443]), (5, [943, 439]), (6, [943, 438]), (5, [943, 427]), (5, [943, 407]), (5, [943, 370]), (6, [943, 325]), (8, [943, 255]), (6, [943, 197]), (5, [943, 43]), (6, [943, 1016]), (9, [943, 1012]), (6, [943, 1012, 999]), (5, [943, 1012, 1555]), (6, [943, 1010]), (5, [943, 1007]), (7, [943, 1004]), (5, [943, 1003]), (6, [943, 1002]), (9, [943, 1000]), (5, [943, 1000, 941]), (6, [943, 1000, 938]), (5, [943, 1000, 944]), (5, [943, 1000, 968]), (5, [943, 1000, 939]), (10, [943, 999]), (6, [943, 998]), (5, [943, 998, 941, 944]), (5, [943, 998, 941, 968]), (5, [943, 998, 939]), (9, [943, 997]), (5, [943, 997, 941]), (5, [943, 997, 938]), (5, [943, 997, 968]), (9, [943, 996]), (6, [943, 995]), (6, [943, 993]), (5, [943, 993, 999]), (17, [943, 944]), (11, [943, 944, 968]), (5, [943, 944, 968, 772]), (5, [943, 944, 968, 1387]), (11, [943, 944, 939]), (5, [943, 944, 939, 772]), (7, [943, 944, 939, 968]), (5, [943, 944, 939, 1387]), (7, [943, 944, 772]), (5, [943, 944, 1555]), (7, [943, 944, 1387]), (6, [943, 944, 1386]), (5, [943, 944, 12923]), (5, [943, 944, 862]), (5, [943, 944, 7212]), (19, [943, 968]), (9, [943, 968, 939]), (6, [943, 968, 772]), (6, [943, 968, 938]), (6, [943, 968, 941]), (5, [943, 968, 821]), (5, [943, 968, 739]), (5, [943, 968, 1117]), (5, [943, 968, 66]), (5, [943, 968, 1116]), (6, [943, 968, 1387]), (7, [943, 968, 858]), (5, [943, 968, 1386]), (5, [943, 968, 7212]), (5, [943, 968, 944]), (5, [943, 1211]), (5, [943, 1210]), (9, [943, 1203]), (5, [943, 1202]), (6, [943, 1201]), (5, [943, 1067]), (6, [943, 7212]), (6, [943, 7161]), (6, [943, 1555]), (5, [943, 8001]), (6, [943, 7993]), (7, [943, 1233]), (6, [943, 1599]), (6, [943, 1602]), (5, [943, 7284]), (5, [943, 8434]), (8, [943, 8433]), (5, [943, 8425]), (6, [943, 3640]), (5, [943, 8411]), (5, [943, 8402]), (12, [943, 1387]), (5, [943, 1387, 255]), (8, [943, 1387, 1386]), (5, [943, 1387, 1386, 858]), (5, [943, 1387, 1004]), (5, [943, 1387, 1574]), (6, [943, 1387, 858]), (5, [943, 7432]), (5, [943, 12981]), (11, [943, 1386]), (6, [943, 1386, 858]), (6, [943, 7008]), (6, [943, 1471]), (6, [943, 5466]), (5, [943, 5467]), (5, [943, 5465]), (6, [943, 1370]), (5, [943, 1473]), (11, [943, 1574]), (6, [943, 12923]), (5, [943, 13440]), (6, [943, 7238]), (6, [943, 1402]), (5, [943, 7457]), (23, [939]), (6, [939, 938]), (6, [939, 892]), (7, [939, 862]), (5, [939, 859]), (9, [939, 858]), (5, [939, 853]), (5, [939, 837]), (7, [939, 821]), (5, [939, 821, 739]), (5, [939, 821, 547]), (8, [939, 772]), (8, [939, 739]), (6, [939, 706]), (5, [939, 670]), (8, [939, 613]), (5, [939, 536]), (5, [939, 530]), (5, [939, 524]), (5, [939, 461]), (6, [939, 255]), (5, [939, 197]), (5, [939, 43]), (6, [939, 997]), (5, [939, 1218]), (5, [939, 1211]), (7, [939, 1203]), (5, [939, 1012]), (7, [939, 999]), (5, [939, 1125]), (5, [939, 1067]), (10, [939, 968]), (9, [939, 1387]), (5, [939, 1387, 1386]), (7, [939, 1386]), (6, [939, 1004]), (7, [939, 944]), (5, [939, 941]), (21, [938]), (5, [938, 892]), (7, [938, 862]), (8, [938, 858]), (6, [938, 821]), (5, [938, 786]), (7, [938, 772]), (6, [938, 739]), (6, [938, 706]), (5, [938, 670]), (6, [938, 613]), (5, [938, 586]), (5, [938, 536]), (6, [938, 255]), (14, [938, 944]), (9, [938, 944, 968]), (5, [938, 944, 968, 1387]), (9, [938, 944, 939]), (6, [938, 944, 939, 968]), (5, [938, 944, 939, 1387]), (5, [938, 944, 772]), (5, [938, 944, 1555]), (8, [938, 944, 1387]), (5, [938, 944, 1387, 1386]), (5, [938, 944, 255]), (7, [938, 944, 1386]), (5, [938, 944, 1004]), (5, [938, 944, 999]), (7, [938, 944, 858]), (12, [938, 968]), (5, [938, 968, 772]), (15, [938, 939]), (6, [938, 939, 772]), (5, [938, 939, 997]), (6, [938, 939, 999]), (7, [938, 939, 968]), (7, [938, 939, 1387]), (6, [938, 939, 1386]), (5, [938, 939, 862]), (5, [938, 939, 858]), (6, [938, 941]), (5, [938, 1218]), (6, [938, 1203]), (6, [938, 1004]), (5, [938, 1574]), (12, [924]), (5, [924, 255]), (6, [924, 1203]), (5, [924, 999]), (5, [924, 1574]), (6, [919]), (5, [898]), (12, [892]), (5, [892, 828]), (5, [892, 739]), (6, [892, 547]), (5, [879]), (27, [862]), (9, [862, 858]), (5, [862, 858, 255]), (5, [862, 858, 66]), (5, [862, 858, 999]), (11, [862, 853]), (5, [862, 853, 828]), (5, [862, 853, 8433]), (8, [862, 848]), (5, [862, 848, 846]), (5, [862, 848, 828]), (6, [862, 846]), (11, [862, 839]), (6, [862, 839, 828]), (5, [862, 839, 547]), (5, [862, 839, 536]), (5, [862, 839, 460]), (5, [862, 839, 297]), (5, [862, 839, 924]), (5, [862, 839, 1011]), (5, [862, 839, 999]), (5, [862, 839, 853]), (5, [862, 839, 8425]), (5, [862, 837]), (9, [862, 828]), (7, [862, 821]), (6, [862, 821, 547]), (6, [862, 821, 461]), (5, [862, 821, 7239]), (8, [862, 790]), (5, [862, 773]), (6, [862, 772]), (5, [862, 767]), (7, [862, 759]), (6, [862, 739]), (5, [862, 719]), (6, [862, 707]), (5, [862, 706]), (5, [862, 684]), (5, [862, 677]), (7, [862, 670]), (6, [862, 637]), (5, [862, 634]), (8, [862, 613]), (9, [862, 547]), (6, [862, 536]), (6, [862, 531]), (5, [862, 531, 66]), (5, [862, 468]), (11, [862, 461]), (5, [862, 461, 460]), (5, [862, 461, 999]), (6, [862, 461, 839]), (5, [862, 461, 853]), (7, [862, 460]), (6, [862, 443]), (5, [862, 438]), (5, [862, 430]), (6, [862, 427]), (6, [862, 370]), (6, [862, 297]), (9, [862, 255]), (6, [862, 197]), (6, [862, 126]), (7, [862, 66]), (9, [862, 943]), (5, [862, 943, 968]), (5, [862, 943, 938, 939]), (5, [862, 943, 941, 939]), (5, [862, 943, 999]), (9, [862, 968]), (9, [862, 938]), (6, [862, 938, 939]), (6, [862, 938, 944]), (9, [862, 941]), (7, [862, 941, 939]), (5, [862, 941, 1117]), (5, [862, 941, 66]), (5, [862, 941, 1116]), (5, [862, 941, 968]), (6, [862, 941, 938]), (5, [862, 941, 938, 944]), (5, [862, 941, 938, 939]), (6, [862, 941, 944]), (9, [862, 939]), (6, [862, 997]), (5, [862, 1218]), (5, [862, 1211]), (5, [862, 1210]), (8, [862, 924]), (7, [862, 1011]), (8, [862, 1203]), (7, [862, 892]), (9, [862, 999]), (5, [862, 1201]), (5, [862, 1196]), (5, [862, 1188]), (5, [862, 1125]), (6, [862, 1123]), (6, [862, 1117]), (6, [862, 1116]), (7, [862, 1000]), (5, [862, 1605]), (6, [862, 1448]), (5, [862, 1448, 255]), (8, [862, 996]), (5, [862, 996, 427]), (5, [862, 6361]), (5, [862, 7212]), (6, [862, 7170]), (5, [862, 7161]), (5, [862, 1555]), (5, [862, 7376]), (6, [862, 1599]), (8, [862, 7239]), (5, [862, 7239, 853]), (5, [862, 7239, 943]), (5, [862, 7239, 8425]), (9, [862, 7135]), (5, [862, 7135, 1471]), (5, [862, 7135, 8425]), (5, [862, 7300]), (5, [862, 7284]), (5, [862, 7431]), (5, [862, 7120]), (6, [862, 1233]), (6, [862, 1002]), (7, [862, 1004]), (5, [862, 1004, 255]), (5, [862, 993]), (6, [862, 1602]), (6, [862, 8433]), (7, [862, 8425]), (7, [862, 944]), (5, [862, 1387]), (6, [862, 12981]), (5, [862, 1386]), (7, [862, 1471]), (5, [862, 1471, 255]), (5, [862, 1473]), (7, [862, 1574]), (5, [862, 12923]), (7, [862, 7238]), (6, [859]), (22, [858]), (6, [858, 853]), (6, [858, 848]), (7, [858, 839]), (5, [858, 839, 828]), (5, [858, 839, 460]), (5, [858, 839, 1011]), (5, [858, 837]), (6, [858, 828]), (6, [858, 821]), (5, [858, 821, 547]), (5, [858, 821, 461]), (5, [858, 821, 460]), (5, [858, 790]), (6, [858, 759]), (6, [858, 739]), (5, [858, 706]), (5, [858, 684]), (6, [858, 670]), (9, [858, 613]), (5, [858, 613, 938]), (6, [858, 613, 944]), (5, [858, 613, 944, 939]), (6, [858, 547]), (5, [858, 536]), (5, [858, 524]), (8, [858, 461]), (5, [858, 461, 460]), (5, [858, 461, 839]), (7, [858, 460]), (5, [858, 443]), (5, [858, 438]), (5, [858, 370]), (8, [858, 255]), (6, [858, 197]), (6, [858, 66]), (6, [858, 1011]), (5, [858, 1007]), (8, [858, 1004]), (5, [858, 1004, 999]), (6, [858, 1002]), (6, [858, 1000]), (9, [858, 999]), (7, [858, 997]), (5, [858, 996]), (5, [858, 995]), (7, [858, 941]), (5, [858, 941, 938, 944]), (5, [858, 941, 938, 939]), (6, [858, 941, 939]), (8, [858, 938]), (7, [858, 938, 939]), (7, [858, 944]), (6, [858, 968]), (8, [858, 939]), (7, [858, 943]), (5, [858, 943, 968]), (5, [858, 943, 938]), (5, [858, 943, 941]), (5, [858, 1211]), (5, [858, 924]), (5, [858, 1203]), (6, [858, 892]), (5, [858, 1123]), (5, [858, 1117]), (5, [858, 1116]), (5, [858, 1067]), (6, [858, 1563]), (5, [858, 1448]), (5, [858, 1714]), (6, [858, 862]), (6, [858, 7239]), (5, [858, 7239, 943]), (5, [858, 7239, 8425]), (5, [858, 7135]), (5, [858, 7300]), (5, [858, 1602]), (6, [858, 8433]), (6, [858, 8425]), (5, [858, 1471]), (6, [858, 7238]), (13, [853]), (5, [853, 848]), (5, [853, 255]), (5, [853, 197]), (5, [853, 943]), (5, [853, 7238]), (6, [849]), (5, [849, 790]), (9, [848]), (5, [848, 1386]), (5, [848, 7238]), (8, [846]), (14, [839]), (6, [839, 837]), (7, [839, 828]), (5, [839, 790]), (5, [839, 707]), (5, [839, 706]), (6, [839, 677]), (5, [839, 613]), (6, [839, 547]), (5, [839, 531]), (5, [839, 461]), (6, [839, 460]), (5, [839, 443]), (5, [839, 255]), (6, [839, 1211]), (6, [839, 1011]), (5, [839, 1012]), (7, [839, 892]), (6, [839, 999]), (5, [839, 1000]), (5, [839, 848]), (7, [839, 853]), (6, [839, 941]), (6, [839, 968]), (5, [839, 1233]), (5, [839, 939]), (6, [839, 938]), (6, [839, 996]), (5, [839, 8433]), (6, [839, 8425]), (5, [839, 3640]), (5, [839, 944]), (5, [839, 7238]), (7, [837]), (7, [834]), (5, [833]), (10, [828]), (5, [828, 670]), (5, [828, 999]), (18, [821]), (7, [821, 790]), (6, [821, 772]), (7, [821, 739]), (5, [821, 707]), (5, [821, 706]), (6, [821, 684]), (6, [821, 677]), (5, [821, 671]), (5, [821, 670]), (6, [821, 613]), (5, [821, 609]), (13, [821, 547]), (5, [821, 547, 536]), (5, [821, 547, 297]), (8, [821, 536]), (5, [821, 536, 297]), (11, [821, 461]), (6, [821, 461, 547]), (6, [821, 461, 839]), (6, [821, 446]), (5, [821, 438]), (6, [821, 430]), (7, [821, 427]), (5, [821, 427, 430]), (5, [821, 407]), (5, [821, 370]), (6, [821, 297]), (6, [821, 255]), (5, [821, 197]), (8, [821, 839]), (5, [821, 997]), (5, [821, 924]), (5, [821, 1011]), (5, [821, 1203]), (5, [821, 892]), (6, [821, 999]), (6, [821, 7135]), (6, [821, 858]), (7, [821, 7239]), (5, [821, 7238]), (7, [821, 862]), (6, [821, 996]), (5, [821, 996, 427]), (5, [821, 7170]), (5, [821, 1555]), (5, [821, 848]), (5, [821, 1599]), (6, [821, 853]), (6, [821, 7300]), (5, [821, 941]), (5, [821, 1233]), (5, [821, 939]), (5, [821, 938]), (5, [821, 8430]), (6, [821, 944]), (6, [821, 1387]), (5, [821, 1386]), (5, [821, 1574]), (6, [791]), (13, [790]), (5, [790, 739]), (7, [790, 613]), (5, [790, 547]), (5, [790, 1000]), (5, [790, 7239]), (6, [790, 7135]), (5, [790, 968]), (5, [790, 939]), (5, [790, 938]), (5, [790, 8425]), (5, [790, 943]), (5, [790, 944]), (6, [787]), (16, [786]), (5, [786, 772]), (5, [786, 767]), (7, [786, 759]), (5, [786, 739]), (5, [786, 707]), (7, [786, 670]), (5, [786, 637]), (6, [786, 613]), (5, [786, 586]), (6, [786, 547]), (7, [786, 536]), (5, [786, 531]), (6, [786, 524]), (10, [786, 461]), (5, [786, 461, 460]), (5, [786, 461, 7135]), (6, [786, 460]), (5, [786, 438]), (5, [786, 297]), (5, [786, 255]), (5, [786, 51]), (8, [786, 821]), (5, [786, 821, 839]), (5, [786, 821, 828]), (6, [786, 821, 461]), (5, [786, 821, 547]), (7, [786, 839]), (5, [786, 839, 1011]), (5, [786, 839, 828]), (6, [786, 1013]), (6, [786, 1211]), (5, [786, 1210]), (6, [786, 924]), (6, [786, 1011]), (6, [786, 1203]), (7, [786, 828]), (6, [786, 892]), (6, [786, 999]), (6, [786, 1201]), (5, [786, 1123]), (6, [786, 1000]), (5, [786, 1007]), (6, [786, 1002]), (6, [786, 858]), (5, [786, 858, 8433]), (5, [786, 7432]), (6, [786, 7431]), (11, [786, 862]), (6, [786, 862, 759]), (5, [786, 862, 7420]), (7, [786, 862, 461]), (5, [786, 862, 461, 839]), (6, [786, 862, 839]), (5, [786, 862, 848]), (5, [786, 862, 1599]), (5, [786, 862, 790]), (6, [786, 862, 7239]), (5, [786, 862, 828]), (6, [786, 862, 7135]), (7, [786, 862, 853]), (5, [786, 862, 670]), (5, [786, 862, 941]), (5, [786, 862, 924]), (5, [786, 862, 939]), (5, [786, 862, 938]), (5, [786, 862, 943]), (5, [786, 862, 8425]), (5, [786, 862, 8402]), (5, [786, 862, 1574]), (6, [786, 848]), (6, [786, 790]), (5, [786, 7351]), (8, [786, 853]), (5, [786, 7161]), (5, [786, 968]), (6, [786, 939]), (6, [786, 938]), (6, [786, 943]), (5, [786, 993]), (6, [786, 8425]), (5, [786, 944]), (5, [786, 1555]), (5, [786, 1387]), (6, [786, 1386]), (5, [786, 1471]), (6, [786, 1574]), (6, [773]), (16, [772]), (5, [772, 668]), (6, [772, 547]), (5, [772, 536]), (5, [772, 446]), (5, [772, 430]), (5, [772, 126]), (5, [772, 862]), (5, [772, 853]), (5, [772, 8433]), (5, [772, 12951]), (5, [768]), (6, [767]), (5, [762]), (11, [759]), (5, [759, 707]), (6, [759, 7387]), (5, [759, 828]), (5, [759, 853]), (5, [759, 7161]), (5, [759, 1574]), (5, [758]), (5, [740]), (14, [739]), (6, [739, 613]), (5, [739, 547]), (6, [739, 536]), (5, [739, 461]), (5, [739, 446]), (5, [739, 43]), (5, [739, 924]), (5, [739, 1203]), (5, [739, 947]), (5, [739, 1387]), (5, [739, 944]), (5, [739, 938]), (5, [739, 862]), (5, [739, 7238]), (5, [739, 7239]), (5, [739, 8425]), (5, [739, 943]), (5, [739, 1574]), (6, [737]), (7, [719]), (6, [716]), (9, [707]), (10, [706]), (6, [704]), (8, [684]), (13, [677]), (6, [677, 858]), (6, [677, 944]), (5, [677, 939]), (9, [671]), (15, [670]), (6, [670, 669, 668]), (8, [670, 668]), (5, [670, 613]), (5, [670, 446]), (5, [670, 43]), (5, [670, 1002]), (5, [670, 999]), (6, [670, 997]), (5, [670, 941, 938]), (5, [670, 941, 968]), (5, [670, 941, 939]), (6, [670, 938]), (5, [670, 938, 939]), (6, [670, 939]), (6, [670, 772]), (5, [670, 8433]), (5, [670, 8425]), (5, [670, 8393]), (5, [670, 7457]), (7, [669, 668]), (7, [637]), (7, [621]), (5, [614]), (21, [613]), (5, [613, 547]), (5, [613, 536]), (5, [613, 530]), (7, [613, 255]), (5, [613, 66]), (5, [613, 43]), (12, [613, 938]), (10, [613, 938, 968]), (10, [613, 938, 939]), (6, [613, 938, 939, 968]), (13, [613, 944]), (9, [613, 944, 968]), (11, [613, 944, 939]), (6, [613, 944, 939, 968]), (5, [613, 944, 772]), (12, [613, 968]), (12, [613, 939]), (7, [613, 772]), (7, [613, 862]), (7, [613, 858]), (10, [613, 941]), (7, [613, 941, 939]), (6, [613, 941, 968]), (5, [613, 821]), (6, [613, 997]), (5, [613, 706]), (5, [613, 739]), (6, [613, 1203]), (6, [613, 999]), (5, [613, 1007]), (8, [613, 1387]), (5, [613, 1387, 1386]), (7, [613, 1386]), (6, [613, 1004]), (5, [613, 1233]), (10, [609]), (6, [609, 446]), (5, [609, 1370]), (5, [609, 677]), (9, [586]), (5, [586, 461]), (5, [578]), (5, [553]), (30, [536]), (6, [536, 531]), (8, [536, 524]), (5, [536, 475]), (8, [536, 461]), (5, [536, 461, 255]), (5, [536, 461, 197]), (6, [536, 446]), (7, [536, 443]), (5, [536, 430]), (6, [536, 427]), (6, [536, 410]), (6, [536, 407]), (6, [536, 370]), (5, [536, 334]), (6, [536, 297]), (12, [536, 255]), (6, [536, 255, 197]), (11, [536, 197]), (6, [536, 197, 1242]), (5, [536, 197, 1514]), (5, [536, 126]), (5, [536, 105]), (7, [536, 80]), (6, [536, 66]), (5, [536, 43]), (5, [536, 19]), (5, [536, 1013]), (10, [536, 1012]), (5, [536, 1012, 1002, 938]), (5, [536, 1012, 999]), (5, [536, 1012, 995]), (5, [536, 1012, 941]), (6, [536, 1012, 938]), (6, [536, 1012, 944]), (5, [536, 1012, 939]), (5, [536, 1012, 255]), (5, [536, 1012, 1387]), (5, [536, 1012, 197]), (5, [536, 1012, 858]), (6, [536, 1011]), (6, [536, 670]), (5, [536, 1010]), (8, [536, 1007]), (8, [536, 1004]), (9, [536, 1002]), (5, [536, 1002, 941]), (5, [536, 1002, 613, 938]), (5, [536, 1002, 613, 944]), (6, [536, 1002, 938]), (5, [536, 1002, 939]), (7, [536, 1000]), (11, [536, 999]), (8, [536, 998]), (6, [536, 998, 941, 944]), (5, [536, 998, 941, 944, 968]), (5, [536, 998, 941, 944, 939]), (6, [536, 998, 941, 968]), (5, [536, 998, 613, 944, 939]), (5, [536, 998, 613, 968]), (5, [536, 998, 938, 944, 968]), (6, [536, 998, 939]), (7, [536, 706]), (9, [536, 997]), (13, [536, 996]), (5, [536, 996, 197]), (7, [536, 996, 255]), (5, [536, 996, 1555]), (5, [536, 996, 999]), (5, [536, 996, 1471]), (5, [536, 996, 8433]), (5, [536, 996, 1387]), (5, [536, 996, 1386]), (6, [536, 995]), (5, [536, 994]), (6, [536, 993]), (11, [536, 941]), (8, [536, 941, 938, 944]), (5, [536, 941, 938, 944, 968]), (6, [536, 941, 938, 944, 939]), (6, [536, 941, 938, 968]), (7, [536, 941, 938, 939]), (10, [536, 941, 944]), (6, [536, 941, 944, 968]), (7, [536, 941, 944, 939]), (8, [536, 941, 968]), (9, [536, 941, 939]), (5, [536, 941, 939, 968]), (10, [536, 613]), (8, [536, 613, 938]), (7, [536, 613, 938, 944]), (5, [536, 613, 938, 944, 968]), (6, [536, 613, 938, 944, 939]), (7, [536, 613, 938, 968]), (9, [536, 613, 944]), (6, [536, 613, 944, 968]), (7, [536, 613, 944, 939]), (8, [536, 613, 968]), (6, [536, 613, 941]), (5, [536, 613, 941, 944, 939]), (11, [536, 938]), (9, [536, 938, 944]), (6, [536, 938, 944, 968]), (8, [536, 938, 968]), (11, [536, 944]), (7, [536, 944, 968]), (10, [536, 968]), (12, [536, 939]), (7, [536, 939, 968]), (5, [536, 939, 1387]), (5, [536, 939, 858]), (7, [536, 772]), (7, [536, 1211]), (9, [536, 1423]), (5, [536, 1423, 255]), (5, [536, 1423, 197]), (5, [536, 1423, 999]), (5, [536, 1423, 1599]), (6, [536, 1210]), (6, [536, 1201]), (5, [536, 1201, 255]), (9, [536, 1402]), (7, [536, 1402, 255]), (6, [536, 1402, 197]), (5, [536, 1402, 1313]), (6, [536, 707]), (21, [536, 1387]), (15, [536, 1387, 1386]), (7, [536, 1387, 1386, 197]), (5, [536, 1387, 1386, 1574]), (6, [536, 1387, 1386, 862]), (5, [536, 1387, 1386, 1604]), (6, [536, 1387, 1386, 255]), (6, [536, 1387, 1386, 999]), (5, [536, 1387, 1386, 1473]), (5, [536, 1387, 1386, 7057]), (6, [536, 1387, 1386, 858]), (8, [536, 1387, 197]), (5, [536, 1387, 1313]), (5, [536, 1387, 1283]), (5, [536, 1387, 1242]), (6, [536, 1387, 1233]), (5, [536, 1387, 7249]), (7, [536, 1387, 1574]), (5, [536, 1387, 6970]), (6, [536, 1387, 7238]), (8, [536, 1387, 862]), (5, [536, 1387, 7212]), (5, [536, 1387, 7197]), (5, [536, 1387, 1563]), (8, [536, 1387, 255]), (5, [536, 1387, 1555]), (7, [536, 1387, 999]), (6, [536, 1387, 1473]), (5, [536, 1387, 7008]), (6, [536, 1387, 997]), (5, [536, 1387, 7457]), (5, [536, 1387, 1116]), (5, [536, 1387, 80]), (5, [536, 1387, 1004]), (5, [536, 1387, 995]), (5, [536, 1387, 677]), (5, [536, 1387, 837]), (5, [536, 1387, 613]), (6, [536, 1387, 944]), (5, [536, 1387, 938]), (6, [536, 1387, 968]), (6, [536, 1387, 941]), (5, [536, 1387, 941, 944]), (5, [536, 1387, 941, 939]), (8, [536, 1387, 858]), (20, [536, 1386]), (8, [536, 1386, 197]), (5, [536, 1386, 1313]), (6, [536, 1386, 1233]), (7, [536, 1386, 1574]), (5, [536, 1386, 1574, 255]), (5, [536, 1386, 6970]), (5, [536, 1386, 461]), (8, [536, 1386, 862]), (5, [536, 1386, 7212]), (5, [536, 1386, 7197]), (8, [536, 1386, 255]), (5, [536, 1386, 1555]), (7, [536, 1386, 999]), (6, [536, 1386, 1473]), (6, [536, 1386, 7457]), (5, [536, 1386, 80]), (5, [536, 1386, 1471]), (5, [536, 1386, 1004]), (7, [536, 1386, 858]), (7, [536, 1370]), (5, [536, 1368]), (5, [536, 1280]), (5, [536, 1248]), (8, [536, 1233]), (6, [536, 7135]), (11, [536, 858]), (6, [536, 1494]), (6, [536, 7099]), (5, [536, 1067]), (12, [536, 1574]), (5, [536, 1574, 1473]), (5, [536, 1574, 1233]), (7, [536, 6970]), (6, [536, 821]), (8, [536, 7238]), (13, [536, 862]), (5, [536, 862, 197]), (5, [536, 862, 255]), (5, [536, 862, 1423]), (5, [536, 862, 999]), (5, [536, 862, 858]), (5, [536, 862, 1004]), (5, [536, 862, 1574]), (5, [536, 862, 7238]), (7, [536, 1605]), (5, [536, 1605, 1604]), (6, [536, 1448]), (5, [536, 1448, 255]), (5, [536, 6361]), (6, [536, 1604]), (5, [536, 1604, 197]), (12, [536, 943]), (5, [536, 943, 255]), (7, [536, 943, 613]), (5, [536, 943, 613, 938]), (6, [536, 943, 613, 944]), (5, [536, 943, 613, 968]), (7, [536, 943, 941]), (5, [536, 943, 941, 938, 944]), (6, [536, 943, 941, 944]), (6, [536, 943, 941, 939]), (6, [536, 943, 938]), (7, [536, 943, 944]), (6, [536, 943, 1387]), (5, [536, 943, 1387, 1386]), (5, [536, 943, 1004]), (6, [536, 943, 1574]), (5, [536, 943, 677]), (6, [536, 943, 968]), (5, [536, 7220]), (6, [536, 1563]), (5, [536, 1563, 1242]), (6, [536, 7173]), (5, [536, 3603]), (7, [536, 839]), (5, [536, 7161]), (8, [536, 1555]), (5, [536, 4477]), (10, [536, 1473]), (5, [536, 1473, 197]), (10, [536, 7008]), (5, [536, 7008, 997]), (6, [536, 7008, 5466]), (5, [536, 7008, 5467]), (5, [536, 7008, 1574]), (5, [536, 7008, 5793]), (5, [536, 7008, 939]), (5, [536, 7008, 858]), (5, [536, 7008, 1387]), (5, [536, 7008, 613, 944]), (5, [536, 7008, 613, 968]), (5, [536, 7008, 941]), (6, [536, 1594]), (8, [536, 7457]), (5, [536, 1123]), (6, [536, 7976]), (7, [536, 1599]), (5, [536, 1117]), (5, [536, 7517]), (5, [536, 8101]), (6, [536, 7348]), (9, [536, 1471]), (5, [536, 1471, 255]), (6, [536, 609]), (5, [536, 8441]), (7, [536, 1602]), (5, [536, 1602, 7993]), (6, [536, 837]), (5, [536, 7284]), (5, [536, 8434]), (9, [536, 8433]), (5, [536, 8433, 3640]), (9, [536, 677]), (5, [536, 677, 944]), (5, [536, 677, 968]), (8, [536, 8425]), (5, [536, 834]), (5, [536, 8001]), (6, [536, 853]), (5, [536, 828]), (5, [536, 924]), (6, [536, 12981]), (7, [536, 1203]), (5, [536, 12962]), (5, [536, 5463]), (5, [536, 12923]), (6, [536, 5793]), (5, [536, 13552]), (6, [536, 7993]), (5, [536, 1450]), (5, [536, 7000]), (5, [536, 1621]), (12, [531]), (5, [531, 530]), (5, [531, 524]), (5, [531, 443]), (6, [531, 66]), (5, [531, 999]), (5, [531, 1117]), (5, [531, 1116]), (5, [531, 939]), (5, [531, 938]), (5, [531, 1387]), (6, [530]), (14, [524]), (5, [524, 446]), (5, [524, 443]), (7, [524, 255]), (5, [524, 197]), (5, [524, 997]), (5, [524, 1002]), (5, [524, 7351]), (5, [524, 996]), (5, [524, 1471]), (7, [524, 943]), (5, [524, 943, 1387]), (6, [524, 1004]), (6, [524, 999]), (6, [524, 8433]), (5, [524, 677]), (5, [524, 613]), (6, [524, 1387]), (7, [524, 862]), (5, [524, 862, 1004]), (5, [524, 1386]), (5, [524, 995]), (5, [493, 255]), (6, [475]), (5, [475, 255]), (18, [461]), (6, [461, 460]), (7, [461, 255]), (7, [461, 547]), (7, [461, 999]), (5, [461, 1011]), (5, [461, 996]), (7, [461, 943]), (8, [461, 839]), (5, [461, 839, 460]), (5, [461, 839, 853]), (5, [461, 839, 7300]), (5, [461, 839, 943]), (5, [461, 839, 8425]), (5, [461, 7387]), (6, [461, 790]), (5, [461, 892]), (6, [461, 7135]), (6, [461, 853]), (5, [461, 941]), (5, [461, 968]), (5, [461, 1233]), (6, [461, 939]), (6, [461, 938]), (5, [461, 1004]), (5, [461, 8402]), (5, [461, 613]), (6, [461, 944]), (5, [461, 1574]), (10, [460]), (5, [460, 255]), (5, [459]), (10, [446]), (6, [446, 197]), (10, [443]), (5, [443, 255]), (5, [443, 999]), (7, [439]), (5, [439, 1233]), (7, [438]), (11, [430]), (5, [430, 255]), (5, [430, 43]), (8, [430, 6360]), (11, [427]), (5, [427, 255]), (5, [427, 43]), (9, [427, 430]), (8, [427, 430, 6361]), (6, [417]), (5, [417, 197]), (6, [412]), (8, [410]), (5, [410, 197]), (8, [407]), (5, [407, 255]), (5, [384]), (7, [370]), (6, [334]), (5, [334, 255]), (5, [334, 197]), (7, [332]), (7, [325]), (7, [307]), (5, [307, 197]), (8, [297]), (5, [294]), (14, [255]), (7, [255, 197]), (15, [197]), (5, [197, 105]), (7, [197, 1242]), (5, [197, 1543]), (6, [197, 1514]), (5, [197, 1511]), (6, [182]), (8, [150]), (5, [138]), (5, [134]), (6, [105]), (8, [80]), (12, [66]), (8, [66, 1116]), (7, [51]), (10, [43]), (6, [43, 2590, 2589]), (5, [43, 2590, 2589, 2588, 2586, 2585]), (5, [43, 2590, 2589, 2588, 2584]), (6, [19]), (9, [1053]), (5, [1050]), (5, [1049]), (8, [1041]), (7, [1016]), (12, [1013]), (5, [1013, 1011, 999]), (5, [1013, 670]), (5, [1013, 1010]), (6, [1013, 1007]), (5, [1013, 1004]), (5, [1013, 1000]), (7, [1013, 999]), (7, [1013, 996]), (6, [1013, 993]), (5, [1013, 1218]), (5, [1013, 1211]), (7, [1013, 1210]), (5, [1013, 924]), (5, [1013, 828]), (5, [1013, 1202]), (6, [1013, 862]), (8, [1013, 943]), (5, [1013, 943, 1574]), (5, [1013, 255]), (5, [1013, 536]), (7, [1013, 1386]), (5, [1013, 1387]), (5, [1013, 8425]), (6, [1013, 1574]), (5, [1013, 7457]), (15, [1012]), (5, [1012, 1007]), (6, [1012, 1002]), (5, [1012, 1002, 997]), (5, [1012, 1000]), (8, [1012, 999]), (6, [1012, 995]), (5, [1012, 1202]), (5, [1012, 586]), (5, [1012, 707]), (6, [1012, 1387]), (5, [1012, 1386]), (6, [1012, 197]), (6, [1012, 1555]), (6, [1012, 858]), (5, [1012, 7432]), (5, [1012, 821]), (5, [1012, 1599]), (5, [1012, 1211]), (15, [1011]), (5, [1011, 670]), (5, [1011, 1007]), (6, [1011, 1004]), (6, [1011, 1000]), (9, [1011, 999]), (5, [1011, 996]), (5, [1011, 995]), (5, [1011, 993]), (6, [1011, 941]), (5, [1011, 941, 938, 944, 968]), (5, [1011, 941, 938, 944, 939]), (7, [1011, 613]), (5, [1011, 613, 938, 944, 968]), (5, [1011, 613, 938, 944, 939]), (6, [1011, 613, 938, 968]), (6, [1011, 613, 944, 968]), (5, [1011, 613, 941]), (6, [1011, 939]), (5, [1011, 531]), (5, [1011, 1012, 999]), (5, [1011, 828]), (5, [1011, 1202]), (7, [1011, 1233]), (7, [1011, 943]), (5, [1011, 943, 999]), (5, [1011, 943, 1387]), (5, [1011, 255]), (5, [1011, 443]), (5, [1011, 1555]), (6, [1011, 1211]), (6, [1011, 524]), (5, [1011, 536]), (6, [1011, 8433]), (6, [1011, 1387]), (6, [1011, 858]), (5, [1011, 862]), (6, [1011, 1386]), (9, [1010]), (6, [1010, 1007]), (5, [1009]), (12, [1007]), (6, [1007, 255]), (5, [1007, 1386]), (5, [1007, 1233]), (5, [1007, 1471]), (14, [1004]), (7, [1004, 999]), (7, [1004, 1448]), (5, [1004, 1448, 255]), (7, [1004, 255]), (5, [1004, 197]), (5, [1004, 1250]), (5, [1004, 1511]), (11, [1003]), (5, [1003, 1000]), (6, [1003, 999]), (5, [1003, 993]), (6, [1003, 531]), (5, [1003, 1210]), (5, [1003, 828]), (5, [1003, 1096]), (5, [1003, 1555]), (6, [1003, 1386]), (5, [1003, 536]), (13, [1002]), (6, [1002, 999]), (6, [1002, 997]), (5, [1002, 996]), (6, [1002, 1004]), (5, [1002, 848]), (5, [1002, 1599]), (5, [1002, 853]), (5, [1002, 1471]), (5, [1002, 943]), (17, [1000]), (6, [1000, 997]), (5, [1000, 996]), (6, [1000, 941]), (5, [1000, 941, 944]), (6, [1000, 613]), (7, [1000, 938]), (5, [1000, 938, 944]), (6, [1000, 944]), (6, [1000, 939]), (5, [1000, 828]), (9, [1000, 1117]), (5, [1000, 1117, 1116]), (5, [1000, 1117, 66]), (9, [1000, 1116]), (9, [1000, 66]), (6, [1000, 66, 1116]), (5, [1000, 1002]), (5, [1000, 1471]), (5, [1000, 1004]), (5, [1000, 8433]), (5, [1000, 1386]), (7, [1000, 1574]), (19, [999]), (5, [999, 530]), (5, [999, 1067]), (7, [999, 197]), (5, [999, 1602]), (9, [998]), (7, [998, 941]), (5, [998, 941, 938, 939]), (6, [998, 941, 939]), (6, [998, 938]), (7, [998, 968]), (7, [998, 939]), (16, [997]), (6, [997, 941]), (6, [997, 938]), (5, [997, 944]), (6, [997, 968]), (6, [997, 939]), (5, [997, 1203]), (5, [997, 999]), (5, [997, 858]), (19, [996]), (5, [996, 995]), (5, [996, 941, 944]), (5, [996, 613]), (5, [996, 938, 944]), (7, [996, 944]), (5, [996, 968]), (6, [996, 939]), (9, [996, 1386]), (5, [996, 1386, 255]), (9, [996, 1387]), (6, [996, 1387, 255]), (6, [996, 1387, 1386]), (6, [996, 1471]), (5, [996, 1609, 255]), (5, [996, 1609, 197]), (5, [996, 1599]), (5, [996, 609]), (5, [996, 1588]), (5, [996, 1423]), (5, [996, 677]), (9, [996, 255]), (5, [996, 1368]), (6, [996, 858]), (5, [996, 410]), (5, [996, 1563, 1514]), (6, [996, 1555]), (7, [996, 197]), (5, [996, 197, 1514]), (5, [996, 1448]), (5, [996, 1004]), (7, [996, 999]), (9, [996, 427]), (8, [996, 427, 430]), (7, [996, 427, 430, 6361]), (5, [996, 427, 430, 6361, 6360]), (7, [996, 427, 430, 6360]), (5, [996, 427, 1386]), (6, [996, 3640]), (5, [996, 43]), (10, [995]), (6, [995, 197]), (7, [994]), (8, [993]), (9, [1226]), (5, [1226, 858]), (5, [1226, 943]), (5, [1226, 1011]), (5, [1226, 999]), (5, [1226, 536]), (9, [1218]), (6, [1218, 999]), (5, [1218, 8433]), (6, [1212]), (5, [1212, 999]), (15, [1211]), (6, [1211, 1210]), (5, [1211, 1205]), (5, [1211, 1012]), (6, [1211, 828]), (7, [1211, 999]), (6, [1211, 1201]), (5, [1211, 1200]), (7, [1211, 1000]), (6, [1211, 1007]), (5, [1211, 1096]), (5, [1211, 1423]), (6, [1211, 1402]), (6, [1211, 1387]), (8, [1211, 1386]), (5, [1211, 197]), (5, [1211, 1233]), (5, [1211, 670]), (5, [1211, 997]), (5, [1211, 536, 1386]), (6, [1211, 943]), (5, [1211, 862, 1004]), (5, [1211, 858]), (5, [1211, 613, 938]), (5, [1211, 613, 944]), (5, [1211, 941]), (5, [1211, 8433]), (5, [1211, 1473]), (6, [1211, 1574]), (5, [1211, 1599]), (8, [1210]), (5, [1210, 1386]), (7, [1205]), (5, [1205, 1386]), (14, [1203]), (5, [1203, 1125]), (5, [1203, 370]), (6, [1203, 739]), (5, [1203, 613]), (5, [1203, 944]), (5, [1203, 968]), (5, [1203, 941]), (6, [1202]), (10, [1201]), (5, [1201, 1007]), (6, [1201, 1386]), (5, [1201, 1471]), (5, [1201, 1574]), (8, [1200]), (5, [1200, 1007]), (5, [1200, 1386]), (6, [1197]), (7, [1196]), (9, [1188]), (6, [1125]), (9, [1123]), (5, [1123, 1004]), (6, [1123, 999]), (5, [1123, 1599]), (5, [1123, 997]), (5, [1121]), (11, [1117]), (7, [1117, 66]), (6, [1117, 66, 1116]), (7, [1117, 1116]), (11, [1116]), (7, [1096]), (5, [1095]), (5, [1072]), (6, [1070]), (5, [1070, 862]), (7, [1067]), (10, [1494]), (5, [1494, 1370]), (5, [1494, 1599]), (5, [1483]), (20, [1473]), (6, [1473, 536]), (5, [1473, 1423]), (7, [1473, 1402]), (5, [1473, 1402, 255]), (5, [1473, 1402, 197]), (7, [1473, 255]), (5, [1473, 255, 197]), (6, [1473, 1387]), (7, [1473, 1386]), (5, [1473, 1370]), (7, [1473, 1368]), (5, [1473, 1368, 197]), (8, [1473, 197]), (5, [1473, 197, 1242]), (5, [1473, 1320, 1250]), (5, [1473, 1313]), (6, [1473, 1283]), (7, [1473, 1233]), (5, [1473, 1599]), (7, [1473, 1574]), (6, [1473, 1572]), (7, [1473, 858]), (6, [1473, 1563]), (5, [1473, 1546]), (5, [1473, 1537]), (6, [1473, 1004]), (5, [1473, 1511]), (5, [1473, 999]), (5, [1473, 1502]), (5, [1473, 5793]), (5, [1473, 1604]), (6, [1473, 4767]), (5, [1473, 1714]), (5, [1473, 943, 941, 968]), (6, [1473, 943, 941, 939]), (5, [1473, 943, 941, 938]), (5, [1473, 943, 941, 944]), (6, [1473, 943, 968]), (5, [1473, 943, 613]), (5, [1473, 80]), (14, [1471]), (6, [1471, 1448]), (5, [1471, 1448, 255]), (5, [1471, 1423]), (5, [1471, 1402, 197]), (8, [1471, 255]), (5, [1471, 255, 197]), (6, [1471, 1370]), (5, [1471, 1370, 197]), (5, [1471, 1368]), (6, [1471, 197]), (5, [1471, 1233]), (5, [1471, 1605]), (6, [1471, 1473]), (5, [1471, 1599]), (5, [1471, 1574]), (5, [1471, 1555]), (5, [1471, 12851]), (6, [1465]), (7, [1450]), (10, [1448]), (7, [1448, 255]), (6, [1435]), (5, [1430]), (11, [1423]), (7, [1423, 255]), (6, [1423, 197]), (5, [1423, 197, 1242]), (5, [1423, 1283]), (5, [1423, 858]), (5, [1423, 1555]), (5, [1423, 1004]), (7, [1423, 999]), (7, [1408]), (6, [1408, 255]), (6, [1405]), (17, [1402]), (5, [1402, 707]), (9, [1402, 255]), (5, [1402, 255, 197]), (6, [1402, 1387]), (5, [1402, 1387, 1386]), (6, [1402, 1386]), (8, [1402, 1370]), (6, [1402, 1368]), (5, [1402, 1368, 197]), (10, [1402, 197]), (5, [1402, 197, 1250]), (6, [1402, 197, 1242]), (5, [1402, 197, 1546]), (5, [1402, 197, 1514]), (6, [1402, 1313]), (5, [1402, 1312]), (6, [1402, 1283]), (5, [1402, 1608]), (5, [1402, 1602]), (6, [1402, 1599]), (5, [1402, 1597]), (5, [1402, 1002, 1004]), (5, [1402, 1423]), (7, [1402, 677]), (7, [1402, 1574]), (5, [1402, 858, 1004]), (6, [1402, 1563]), (5, [1402, 1563, 1242]), (5, [1402, 1563, 1546]), (5, [1402, 1555]), (5, [1402, 1543]), (6, [1402, 1004]), (7, [1402, 999]), (6, [1402, 13295]), (5, [1402, 995]), (6, [1402, 8433]), (5, [1402, 13552]), (7, [1402, 939]), (5, [1402, 939, 613]), (5, [1402, 939, 944]), (6, [1402, 461]), (6, [1402, 943]), (7, [1402, 613]), (7, [1402, 944]), (6, [1402, 938]), (6, [1402, 968]), (6, [1402, 941]), (7, [1402, 862]), (5, [1402, 7238]), (23, [1387]), (16, [1387, 1386]), (5, [1387, 1368, 197]), (9, [1387, 197]), (5, [1387, 197, 1242]), (6, [1387, 1313]), (7, [1387, 1283]), (6, [1387, 1242]), (7, [1387, 1233]), (6, [1387, 995]), (5, [1387, 1471]), (5, [1387, 1402]), (6, [1387, 1604]), (5, [1387, 1604, 197]), (5, [1387, 1602]), (7, [1387, 1473]), (5, [1387, 1591]), (5, [1387, 1002]), (5, [1387, 1423]), (6, [1387, 677]), (9, [1387, 255]), (8, [1387, 1574]), (5, [1387, 1574, 1555]), (5, [1387, 1574, 197]), (9, [1387, 858]), (6, [1387, 1563]), (5, [1387, 1563, 1242]), (6, [1387, 1555]), (5, [1387, 1448]), (6, [1387, 1004]), (5, [1387, 1514]), (8, [1387, 999]), (23, [1386]), (5, [1386, 1370]), (5, [1386, 1368, 197]), (9, [1386, 197]), (5, [1386, 197, 1242]), (6, [1386, 1313]), (6, [1386, 1283]), (7, [1386, 1233]), (5, [1386, 1387]), (5, [1386, 995]), (6, [1386, 1471]), (5, [1386, 1402]), (5, [1386, 1605]), (7, [1386, 1604]), (5, [1386, 1604, 197]), (7, [1386, 1473]), (5, [1386, 1591]), (6, [1386, 1002]), (5, [1386, 1423]), (5, [1386, 677]), (9, [1386, 255]), (8, [1386, 1574]), (5, [1386, 1574, 1555]), (5, [1386, 1574, 197]), (9, [1386, 858]), (5, [1386, 1563]), (6, [1386, 1555]), (5, [1386, 1448]), (6, [1386, 1004]), (8, [1386, 999]), (5, [1386, 943]), (5, [1386, 7008]), (5, [1386, 997]), (5, [1386, 941, 944]), (5, [1386, 941, 939]), (5, [1386, 968]), (5, [1376]), (11, [1370]), (6, [1370, 197]), (8, [1368]), (6, [1368, 197]), (5, [1366]), (5, [1352]), (5, [1334]), (6, [1320]), (6, [1310]), (5, [1294]), (5, [1264]), (6, [1250]), (15, [1233]), (5, [1233, 1599]), (6, [1233, 255]), (5, [1233, 858]), (6, [1233, 1563]), (6, [1233, 1555]), (6, [1233, 197]), (6, [1233, 999]), (5, [1233, 939]), (5, [1233, 938]), (5, [1233, 8433]), (5, [1233, 944]), (6, [1628]), (5, [1628, 1627]), (5, [1628, 1002]), (7, [1627]), (5, [1627, 1471]), (5, [1627, 1002]), (5, [1627, 255]), (9, [1621]), (5, [1621, 1402]), (5, [1621, 1473]), (7, [1611]), (5, [1611, 7050, 6989, 6917]), (5, [1611, 4477]), (7, [1606]), (10, [1605]), (7, [1605, 1604]), (5, [1605, 1604, 197]), (5, [1605, 1594]), (6, [1605, 255]), (5, [1605, 1555]), (12, [1604]), (5, [1604, 1473]), (5, [1604, 1591]), (5, [1604, 255]), (6, [1604, 1574]), (5, [1604, 1563]), (6, [1604, 197]), (5, [1604, 4767]), (5, [1604, 1387]), (5, [1604, 943]), (12, [1602]), (5, [1602, 677]), (5, [1602, 255]), (5, [1602, 1283]), (5, [1602, 941]), (5, [1602, 938]), (5, [1602, 944]), (5, [1602, 968]), (11, [1599]), (9, [1594]), (6, [1594, 1574]), (5, [1594, 197]), (6, [1588]), (6, [1576]), (19, [1574]), (5, [1574, 1368]), (5, [1574, 858]), (6, [1574, 1555]), (6, [1574, 197]), (6, [1574, 999]), (5, [1574, 1494]), (6, [1574, 941]), (5, [1574, 941, 939]), (6, [1574, 968]), (7, [1574, 1233]), (6, [1574, 939]), (5, [1574, 938]), (5, [1574, 1599]), (5, [1574, 1370]), (5, [1574, 1621]), (5, [1574, 613]), (6, [1574, 944]), (9, [1572]), (5, [1572, 1283]), (5, [1572, 197]), (5, [1572, 1004]), (5, [1572, 1502]), (5, [1572, 5239]), (5, [1572, 4767]), (10, [1563]), (5, [1563, 1283]), (6, [1563, 1242]), (13, [1555]), (5, [1555, 999]), (6, [1546]), (6, [1543]), (9, [1526]), (5, [1526, 6410]), (5, [1526, 5683]), (5, [1526, 5675]), (5, [1526, 5672]), (7, [1525]), (6, [1511]), (5, [1504]), (6, [1502]), (5, [7071]), (6, [7057]), (6, [7051]), (6, [7050]), (6, [7049]), (5, [7049, 6989, 6917]), (6, [7048]), (5, [7048, 7047]), (5, [7048, 6917]), (5, [7048, 4767]), (5, [7048, 7051]), (6, [7010]), (5, [7010, 6229]), (12, [7008]), (5, [7008, 1473]), (5, [7008, 6832]), (6, [7008, 5793]), (6, [7008, 5467]), (5, [7008, 5467, 5466]), (7, [7008, 5466]), (5, [7008, 5466, 5465]), (6, [7008, 1387]), (5, [7008, 1387, 1386]), (6, [7000]), (7, [6989]), (5, [6989, 4767]), (8, [6970]), (6, [6969]), (5, [6960]), (6, [6917]), (5, [6807, 6420]), (5, [6461]), (8, [6452]), (5, [6452, 6451]), (5, [6452, 6420]), (6, [6452, 6410]), (5, [6452, 5996]), (5, [6452, 4767]), (6, [6420]), (5, [6414]), (7, [6410]), (5, [6398]), (9, [6361]), (6, [6361, 6360]), (5, [6361, 999]), (7, [6194]), (5, [6085]), (7, [5793]), (6, [5770]), (5, [5676]), (5, [5526]), (6, [5465]), (6, [5463]), (8, [4767]), (5, [4766]), (8, [4477]), (5, [3777]), (9, [3640]), (5, [3640, 8410]), (5, [3640, 8402]), (5, [3640, 8401]), (5, [3640, 613]), (5, [3639]), (7, [3603]), (6, [1714]), (12, [7135]), (5, [7135, 7087]), (5, [7135, 1574]), (5, [7135, 7238]), (5, [7135, 255]), (6, [7129]), (6, [7120]), (7, [7107]), (5, [7089]), (6, [7249]), (11, [7239]), (6, [7239, 7238]), (5, [7239, 1011]), (7, [7239, 943]), (5, [7239, 255]), (5, [7239, 839]), (5, [7239, 460]), (6, [7239, 8425]), (5, [7239, 3640]), (5, [7239, 8411]), (5, [7239, 8402]), (5, [7239, 613]), (5, [7239, 12981]), (9, [7238]), (6, [7237]), (5, [7237, 4767]), (5, [7236]), (7, [7220]), (6, [7197]), (5, [7197, 197]), (5, [7176]), (7, [7173]), (7, [7170]), (10, [7161]), (12, [7432]), (5, [7432, 862]), (5, [7432, 461]), (5, [7432, 1599]), (5, [7432, 1211]), (5, [7432, 853]), (5, [7432, 670]), (5, [7432, 941]), (5, [7432, 1117]), (5, [7432, 1116]), (5, [7432, 66]), (5, [7432, 536]), (6, [7432, 939]), (6, [7432, 938]), (5, [7432, 944]), (6, [7432, 8433]), (5, [7432, 1386]), (6, [7432, 999]), (5, [7432, 1555]), (5, [7432, 1003]), (5, [7432, 524]), (7, [7431]), (6, [7390]), (5, [7389]), (8, [7387]), (8, [7351]), (8, [7348]), (8, [7341]), (5, [7341, 13330, 13322, 13320, 13319, 13316, 13317, 13315, 13314, 13313]), (5, [7341, 13330, 13321, 13320, 13319, 13316, 13317, 13315, 13314, 13313]), (5, [7341, 13330, 13320, 13318, 13315, 13313]), (5, [7341, 13330, 13320, 13318, 13315, 13312]), (5, [7341, 13330, 13320, 13318, 13314, 13313]), (5, [7341, 13330, 13320, 13318, 13314, 13312]), (6, [7341, 13330, 13320, 13316, 13315, 13313]), (5, [7341, 13330, 13320, 13316, 13315, 13312]), (6, [7341, 13330, 13320, 13316, 13314, 13313]), (5, [7341, 13330, 13320, 13316, 13314, 13312]), (5, [7341, 13330, 13319, 13318, 13315, 13313]), (5, [7341, 13330, 13319, 13318, 13315, 13312]), (5, [7341, 13330, 13319, 13318, 13314, 13313]), (5, [7341, 13330, 13319, 13318, 13314, 13312]), (6, [7341, 13330, 13319, 13316, 13315, 13313]), (5, [7341, 13330, 13319, 13316, 13315, 13312]), (6, [7341, 13330, 13319, 13316, 13314, 13313]), (5, [7341, 13330, 13319, 13316, 13314, 13312]), (5, [7341, 13322, 13320, 13318, 13315, 13313]), (5, [7341, 13322, 13320, 13318, 13315, 13312]), (5, [7341, 13322, 13320, 13318, 13314, 13313]), (5, [7341, 13322, 13320, 13318, 13314, 13312]), (6, [7341, 13322, 13320, 13316, 13315, 13313]), (5, [7341, 13322, 13320, 13316, 13315, 13312]), (6, [7341, 13322, 13320, 13316, 13314, 13313]), (5, [7341, 13322, 13320, 13316, 13314, 13312]), (5, [7341, 13322, 13319, 13318, 13315, 13313]), (5, [7341, 13322, 13319, 13318, 13315, 13312]), (5, [7341, 13322, 13319, 13318, 13314, 13313]), (5, [7341, 13322, 13319, 13318, 13314, 13312]), (6, [7341, 13322, 13319, 13316, 13315, 13313]), (5, [7341, 13322, 13319, 13316, 13315, 13312]), (6, [7341, 13322, 13319, 13316, 13314, 13313]), (5, [7341, 13322, 13319, 13316, 13314, 13312]), (6, [7341, 13322, 13317, 13315, 13313]), (5, [7341, 13322, 13317, 13315, 13312]), (6, [7341, 13322, 13317, 13314, 13313]), (5, [7341, 13322, 13317, 13314, 13312]), (5, [7341, 13321, 13320, 13318, 13315, 13313]), (5, [7341, 13321, 13320, 13318, 13315, 13312]), (5, [7341, 13321, 13320, 13318, 13314, 13313]), (5, [7341, 13321, 13320, 13318, 13314, 13312]), (6, [7341, 13321, 13320, 13316, 13315, 13313]), (5, [7341, 13321, 13320, 13316, 13315, 13312]), (6, [7341, 13321, 13320, 13316, 13314, 13313]), (5, [7341, 13321, 13320, 13316, 13314, 13312]), (5, [7341, 13321, 13319, 13318, 13315, 13313]), (5, [7341, 13321, 13319, 13318, 13315, 13312]), (5, [7341, 13321, 13319, 13318, 13314, 13313]), (5, [7341, 13321, 13319, 13318, 13314, 13312]), (6, [7341, 13321, 13319, 13316, 13315, 13313]), (5, [7341, 13321, 13319, 13316, 13315, 13312]), (6, [7341, 13321, 13319, 13316, 13314, 13313]), (5, [7341, 13321, 13319, 13316, 13314, 13312]), (6, [7341, 13321, 13317, 13315, 13313]), (5, [7341, 13321, 13317, 13315, 13312]), (6, [7341, 13321, 13317, 13314, 13313]), (5, [7341, 13321, 13317, 13314, 13312]), (6, [7333]), (5, [7333, 772]), (5, [7299]), (8, [7284]), (5, [7284, 8433]), (6, [7518]), (7, [7517]), (5, [7517, 1594]), (7, [7503]), (5, [7503, 1604]), (5, [7503, 1473]), (7, [7491]), (5, [7476]), (11, [7457]), (5, [7457, 862]), (5, [8043]), (5, [8042]), (5, [8010]), (6, [8001]), (5, [8000]), (9, [7993]), (5, [7992]), (7, [7976]), (5, [7972]), (5, [8080]), (5, [8449]), (6, [8441]), (6, [8434]), (13, [8433]), (5, [8433, 8430]), (6, [8433, 8402]), (5, [8433, 8393]), (5, [8433, 8281]), (5, [8433, 999]), (5, [8433, 862]), (7, [8430]), (5, [8430, 8402]), (10, [8425]), (5, [8425, 3640]), (5, [8425, 8402]), (5, [8425, 613]), (5, [8425, 944]), (7, [8411]), (6, [8411, 8410]), (5, [8411, 8410, 8403, 8402]), (5, [8411, 8410, 8403, 8401]), (5, [8411, 8410, 613]), (6, [8411, 8402]), (8, [8402]), (5, [8402, 8399]), (6, [8399]), (6, [8393]), (5, [8282, 8281]), (5, [8280]), (5, [12710]), (5, [12698]), (5, [12681]), (5, [12603]), (10, [12981]), (5, [12981, 939]), (5, [12981, 1203]), (5, [12981, 12923]), (6, [12981, 370]), (6, [12981, 613]), (5, [12981, 944]), (5, [12981, 938]), (5, [12981, 968]), (5, [12981, 941]), (5, [12967]), (7, [12851]), (5, [12851, 12744]), (9, [13228]), (5, [13228, 862]), (5, [13228, 13099]), (5, [13228, 8433]), (5, [13098]), (5, [13547]), (5, [13521]), (5, [13510]), (5, [13452]), (5, [14064]), (5, [14850]), (6, [14599]), (5, [15444])]\n"
     ]
    },
    {
     "name": "stdout",
     "output_type": "stream",
     "text": [
      "the top sub-sequence patterns are: [(30, [536]), (29, [943]), (27, [862]), (23, [939]), (23, [1386]), (23, [1387]), (22, [858]), (21, [536, 1387]), (21, [613]), (21, [938]), (21, [943, 941]), (20, [536, 1386]), (20, [943, 939]), (20, [944]), (20, [1473]), (19, [943, 938]), (19, [943, 968]), (19, [996]), (19, [999]), (19, [1574]), (18, [461]), (18, [821]), (17, [943, 944]), (17, [1000]), (17, [1402]), (16, [772]), (16, [786]), (16, [943, 613]), (16, [943, 941, 939]), (16, [997]), (16, [1387, 1386]), (15, [197]), (15, [536, 1387, 1386]), (15, [670]), (15, [938, 939]), (15, [1011]), (15, [1012]), (15, [1211]), (15, [1233]), (14, [255]), (14, [524]), (14, [739]), (14, [839]), (14, [938, 944]), (14, [943, 941, 938]), (14, [1004]), (14, [1203]), (14, [1471]), (13, [943, 941, 968]), (13, [944, 939])]\n"
     ]
    }
   ],
   "source": [
    "#displaying closed frequent patterns and top k closed patterns. \n",
    "print(ps.frequent(5, closed=True))\n",
    "print(\"the top sub-sequence patterns are:\" ,ps.topk(50, closed=True))"
   ]
  },
  {
   "cell_type": "markdown",
   "metadata": {},
   "source": [
    "A pattern is said to be a generator pattern if there is no sub-pattern with same frequency. Generator patterns are highly compact due small numbers and shorter lengths. Due to which these patterns are mainly used in tasks like classification etc."
   ]
  },
  {
   "cell_type": "code",
   "execution_count": 62,
   "metadata": {},
   "outputs": [
    {
     "name": "stdout",
     "output_type": "stream",
     "text": [
      "[(6, [947]), (20, [944]), (5, [944, 941]), (13, [944, 939]), (6, [944, 939, 772]), (7, [944, 939, 968]), (5, [944, 939, 1387]), (7, [944, 862]), (8, [944, 858]), (8, [944, 772]), (6, [944, 739]), (5, [944, 670]), (6, [944, 613]), (5, [944, 536]), (6, [944, 255]), (5, [944, 66]), (5, [944, 43]), (11, [944, 968]), (5, [944, 968, 772]), (5, [944, 968, 1387]), (5, [944, 1555]), (8, [944, 1387]), (5, [944, 1387, 1386]), (5, [944, 1203]), (7, [944, 1386]), (6, [944, 1004]), (5, [944, 999]), (5, [944, 12923]), (5, [944, 997]), (5, [944, 7212]), (29, [943]), (20, [943, 939]), (5, [943, 939, 938]), (5, [943, 939, 862]), (7, [943, 939, 858]), (6, [943, 939, 821]), (7, [943, 939, 772]), (6, [943, 939, 739]), (5, [943, 939, 706]), (6, [943, 939, 613]), (5, [943, 939, 255]), (5, [943, 939, 1203]), (5, [943, 939, 999]), (9, [943, 939, 968]), (7, [943, 939, 1387]), (6, [943, 939, 1386]), (5, [943, 939, 944]), (19, [943, 938]), (6, [943, 938, 862]), (7, [943, 938, 858]), (5, [943, 938, 821]), (6, [943, 938, 772]), (5, [943, 938, 739]), (5, [943, 938, 255]), (12, [943, 938, 944]), (8, [943, 938, 944, 968]), (8, [943, 938, 944, 939]), (5, [943, 938, 944, 939, 968]), (11, [943, 938, 968]), (13, [943, 938, 939]), (5, [943, 938, 939, 772]), (6, [943, 938, 939, 968]), (5, [943, 938, 939, 1387]), (5, [943, 938, 941]), (5, [943, 938, 1203]), (6, [943, 938, 1387]), (5, [943, 938, 1386]), (5, [943, 938, 1004]), (7, [943, 924]), (6, [943, 892]), (12, [943, 862]), (5, [943, 862, 858]), (5, [943, 862, 772]), (5, [943, 862, 547]), (5, [943, 862, 1599]), (5, [943, 862, 1203]), (10, [943, 858]), (5, [943, 853]), (7, [943, 839]), (6, [943, 837]), (7, [943, 828]), (10, [943, 821]), (5, [943, 821, 772]), (5, [943, 821, 739]), (7, [943, 821, 547]), (5, [943, 790]), (9, [943, 786]), (5, [943, 786, 461]), (5, [943, 786, 821]), (5, [943, 786, 1203]), (5, [943, 773]), (10, [943, 772]), (6, [943, 759]), (8, [943, 739]), (5, [943, 707]), (7, [943, 706]), (9, [943, 677]), (5, [943, 677, 944]), (9, [943, 670]), (5, [943, 669]), (6, [943, 668]), (16, [943, 613]), (5, [943, 613, 255]), (10, [943, 613, 938]), (9, [943, 613, 938, 968]), (8, [943, 613, 938, 939]), (11, [943, 613, 944]), (8, [943, 613, 944, 968]), (10, [943, 613, 968]), (9, [943, 613, 939]), (5, [943, 613, 939, 968]), (6, [943, 613, 772]), (8, [943, 613, 941]), (6, [943, 613, 941, 939]), (5, [943, 613, 941, 968]), (7, [943, 613, 1387]), (6, [943, 613, 1386]), (5, [943, 613, 1004]), (5, [943, 613, 858]), (7, [943, 609]), (5, [943, 586]), (8, [943, 547]), (10, [943, 536]), (5, [943, 536, 938]), (5, [943, 536, 939]), (6, [943, 536, 1387]), (6, [943, 536, 1386]), (7, [943, 531]), (5, [943, 531, 66]), (5, [943, 530]), (7, [943, 461]), (5, [943, 460]), (5, [943, 446]), (5, [943, 443]), (5, [943, 439]), (6, [943, 438]), (5, [943, 427]), (5, [943, 407]), (5, [943, 370]), (6, [943, 325]), (8, [943, 255]), (6, [943, 197]), (5, [943, 126]), (7, [943, 66]), (5, [943, 43]), (6, [943, 1016]), (9, [943, 1012]), (6, [943, 1012, 999]), (5, [943, 1012, 1555]), (6, [943, 1010]), (5, [943, 1007]), (7, [943, 1004]), (5, [943, 1003]), (6, [943, 1002]), (9, [943, 1000]), (5, [943, 1000, 941]), (6, [943, 1000, 938]), (5, [943, 1000, 944]), (5, [943, 1000, 939]), (10, [943, 999]), (6, [943, 998]), (5, [943, 998, 941]), (5, [943, 998, 944]), (5, [943, 998, 968]), (5, [943, 998, 939]), (9, [943, 997]), (5, [943, 997, 941]), (5, [943, 997, 938]), (5, [943, 997, 968]), (9, [943, 996]), (6, [943, 995]), (6, [943, 993]), (17, [943, 944]), (11, [943, 944, 939]), (5, [943, 944, 939, 772]), (7, [943, 944, 772]), (7, [943, 944, 1387]), (6, [943, 944, 1386]), (5, [943, 944, 1004]), (5, [943, 944, 862]), (6, [943, 944, 858]), (5, [943, 1211]), (5, [943, 1210]), (9, [943, 1203]), (5, [943, 1202]), (6, [943, 1201]), (5, [943, 1125]), (6, [943, 1117]), (6, [943, 1116]), (5, [943, 1067]), (6, [943, 7161]), (6, [943, 1555]), (5, [943, 8001]), (6, [943, 7993]), (7, [943, 1233]), (6, [943, 1599]), (6, [943, 1602]), (5, [943, 7284]), (5, [943, 8434]), (8, [943, 8433]), (5, [943, 8425]), (6, [943, 3640]), (5, [943, 8411]), (5, [943, 8402]), (12, [943, 1387]), (5, [943, 1387, 255]), (8, [943, 1387, 1386]), (5, [943, 1387, 1386, 858]), (5, [943, 1387, 1004]), (5, [943, 1387, 1574]), (6, [943, 1387, 858]), (5, [943, 7432]), (5, [943, 12981]), (11, [943, 1386]), (6, [943, 1386, 858]), (6, [943, 7008]), (6, [943, 1471]), (6, [943, 5466]), (5, [943, 5467]), (5, [943, 5465]), (6, [943, 1370]), (5, [943, 1473]), (11, [943, 1574]), (6, [943, 7238]), (6, [943, 1402]), (5, [943, 7457]), (21, [941]), (16, [941, 939]), (6, [941, 939, 858]), (5, [941, 939, 772]), (5, [941, 939, 66]), (6, [941, 939, 968]), (5, [941, 939, 1387]), (14, [941, 938]), (6, [941, 938, 858]), (5, [941, 938, 772]), (11, [941, 938, 944]), (7, [941, 938, 944, 968]), (8, [941, 938, 944, 939]), (5, [941, 938, 944, 858]), (8, [941, 938, 968]), (11, [941, 938, 939]), (5, [941, 938, 939, 968]), (5, [941, 938, 1387]), (5, [941, 892]), (6, [941, 862]), (8, [941, 858]), (6, [941, 821]), (5, [941, 786]), (7, [941, 772]), (6, [941, 739]), (5, [941, 706]), (5, [941, 670]), (5, [941, 669]), (6, [941, 668]), (8, [941, 613]), (5, [941, 586]), (5, [941, 547]), (5, [941, 536]), (5, [941, 531]), (5, [941, 255]), (7, [941, 66]), (13, [941, 944]), (8, [941, 944, 968]), (9, [941, 944, 939]), (5, [941, 944, 939, 968]), (6, [941, 944, 1387]), (5, [941, 944, 1386]), (6, [941, 944, 858]), (13, [941, 968]), (5, [941, 968, 772]), (5, [941, 968, 1387]), (5, [941, 968, 858]), (5, [941, 1203]), (5, [941, 999]), (5, [941, 1125]), (6, [941, 1117]), (6, [941, 1116]), (5, [941, 1233]), (5, [941, 1555]), (7, [941, 1387]), (6, [941, 1386]), (5, [941, 1004]), (5, [941, 1574]), (5, [941, 12923]), (5, [941, 7212]), (23, [939]), (6, [939, 938]), (6, [939, 892]), (7, [939, 862]), (5, [939, 859]), (9, [939, 858]), (5, [939, 853]), (5, [939, 837]), (7, [939, 821]), (5, [939, 821, 739]), (5, [939, 786]), (8, [939, 772]), (8, [939, 739]), (6, [939, 706]), (5, [939, 670]), (8, [939, 613]), (5, [939, 586]), (5, [939, 547]), (5, [939, 536]), (5, [939, 530]), (5, [939, 524]), (5, [939, 461]), (6, [939, 255]), (5, [939, 197]), (6, [939, 66]), (5, [939, 43]), (6, [939, 997]), (5, [939, 1218]), (5, [939, 1211]), (7, [939, 1203]), (5, [939, 1012]), (7, [939, 999]), (5, [939, 1125]), (5, [939, 1117]), (5, [939, 1116]), (5, [939, 1067]), (10, [939, 968]), (5, [939, 1555]), (9, [939, 1387]), (5, [939, 1387, 1386]), (7, [939, 1386]), (6, [939, 1004]), (5, [939, 1574]), (5, [939, 12923]), (7, [939, 944]), (5, [939, 941]), (5, [939, 7212]), (21, [938]), (5, [938, 892]), (7, [938, 862]), (8, [938, 858]), (6, [938, 821]), (5, [938, 786]), (7, [938, 772]), (6, [938, 739]), (6, [938, 706]), (5, [938, 670]), (6, [938, 613]), (5, [938, 586]), (5, [938, 547]), (5, [938, 536]), (6, [938, 255]), (6, [938, 66]), (14, [938, 944]), (9, [938, 944, 968]), (9, [938, 944, 939]), (6, [938, 944, 939, 968]), (5, [938, 944, 772]), (5, [938, 944, 255]), (5, [938, 944, 1004]), (7, [938, 944, 858]), (12, [938, 968]), (5, [938, 968, 772]), (5, [938, 968, 1387]), (5, [938, 968, 858]), (15, [938, 939]), (6, [938, 939, 772]), (7, [938, 939, 968]), (7, [938, 939, 1387]), (6, [938, 939, 1386]), (5, [938, 939, 862]), (5, [938, 939, 858]), (6, [938, 941]), (5, [938, 997]), (5, [938, 1218]), (6, [938, 1203]), (6, [938, 999]), (5, [938, 1117]), (5, [938, 1116]), (5, [938, 1555]), (8, [938, 1387]), (5, [938, 1387, 1386]), (7, [938, 1386]), (6, [938, 1004]), (5, [938, 1574]), (5, [938, 12923]), (5, [938, 7212]), (12, [924]), (5, [924, 255]), (6, [924, 1203]), (5, [924, 999]), (5, [924, 1574]), (6, [919]), (5, [898]), (12, [892]), (5, [892, 828]), (5, [892, 739]), (6, [892, 547]), (5, [879]), (27, [862]), (9, [862, 858]), (5, [862, 858, 255]), (5, [862, 858, 66]), (5, [862, 858, 999]), (11, [862, 853]), (8, [862, 848]), (6, [862, 846]), (11, [862, 839]), (6, [862, 839, 828]), (5, [862, 839, 547]), (5, [862, 839, 460]), (5, [862, 839, 1011]), (5, [862, 839, 999]), (5, [862, 839, 853]), (5, [862, 839, 8425]), (5, [862, 837]), (9, [862, 828]), (7, [862, 821]), (6, [862, 821, 547]), (6, [862, 821, 461]), (5, [862, 821, 7239]), (8, [862, 790]), (5, [862, 773]), (6, [862, 772]), (5, [862, 767]), (7, [862, 759]), (6, [862, 739]), (5, [862, 719]), (6, [862, 707]), (5, [862, 706]), (5, [862, 684]), (5, [862, 677]), (7, [862, 670]), (6, [862, 637]), (8, [862, 613]), (9, [862, 547]), (6, [862, 536]), (6, [862, 531]), (5, [862, 531, 66]), (11, [862, 461]), (5, [862, 461, 460]), (5, [862, 461, 999]), (6, [862, 461, 839]), (5, [862, 461, 853]), (7, [862, 460]), (6, [862, 443]), (5, [862, 438]), (5, [862, 430]), (6, [862, 427]), (6, [862, 370]), (6, [862, 297]), (9, [862, 255]), (6, [862, 197]), (7, [862, 66]), (9, [862, 943]), (5, [862, 943, 968]), (5, [862, 943, 938]), (5, [862, 943, 941]), (5, [862, 943, 939]), (5, [862, 943, 999]), (9, [862, 968]), (9, [862, 938]), (6, [862, 938, 939]), (6, [862, 938, 944]), (9, [862, 941]), (7, [862, 941, 939]), (5, [862, 941, 1117]), (5, [862, 941, 66]), (5, [862, 941, 1116]), (5, [862, 941, 968]), (6, [862, 941, 938]), (5, [862, 941, 938, 944]), (5, [862, 941, 938, 939]), (6, [862, 941, 944]), (9, [862, 939]), (6, [862, 997]), (5, [862, 1218]), (5, [862, 1211]), (5, [862, 1210]), (8, [862, 924]), (7, [862, 1011]), (8, [862, 1203]), (7, [862, 892]), (9, [862, 999]), (5, [862, 1201]), (5, [862, 1196]), (5, [862, 1188]), (5, [862, 1125]), (6, [862, 1123]), (6, [862, 1117]), (6, [862, 1116]), (7, [862, 1000]), (5, [862, 1605]), (6, [862, 1448]), (5, [862, 1448, 255]), (8, [862, 996]), (5, [862, 996, 427]), (5, [862, 6361]), (5, [862, 7212]), (6, [862, 7170]), (5, [862, 1423]), (5, [862, 7161]), (5, [862, 1555]), (6, [862, 1599]), (8, [862, 7239]), (5, [862, 7239, 943]), (5, [862, 7239, 8425]), (9, [862, 7135]), (5, [862, 7300]), (5, [862, 7284]), (5, [862, 7431]), (5, [862, 7120]), (6, [862, 1233]), (6, [862, 1002]), (7, [862, 1004]), (5, [862, 1004, 255]), (5, [862, 993]), (6, [862, 1602]), (6, [862, 8433]), (7, [862, 8425]), (5, [862, 8402]), (7, [862, 944]), (5, [862, 1387]), (6, [862, 12981]), (5, [862, 1386]), (7, [862, 1471]), (5, [862, 1471, 255]), (5, [862, 1473]), (7, [862, 1574]), (5, [862, 12923]), (7, [862, 7238]), (6, [859]), (22, [858]), (6, [858, 853]), (6, [858, 848]), (7, [858, 839]), (5, [858, 839, 828]), (5, [858, 839, 460]), (5, [858, 839, 1011]), (5, [858, 837]), (6, [858, 828]), (6, [858, 821]), (5, [858, 821, 547]), (5, [858, 821, 461]), (5, [858, 790]), (6, [858, 759]), (6, [858, 739]), (5, [858, 706]), (5, [858, 684]), (6, [858, 670]), (9, [858, 613]), (5, [858, 613, 938]), (6, [858, 613, 944]), (5, [858, 613, 939]), (6, [858, 547]), (5, [858, 536]), (5, [858, 524]), (8, [858, 461]), (5, [858, 461, 460]), (5, [858, 461, 839]), (7, [858, 460]), (5, [858, 443]), (5, [858, 438]), (5, [858, 370]), (8, [858, 255]), (6, [858, 197]), (6, [858, 66]), (6, [858, 1011]), (5, [858, 1007]), (8, [858, 1004]), (5, [858, 1004, 999]), (6, [858, 1002]), (6, [858, 1000]), (9, [858, 999]), (7, [858, 997]), (5, [858, 996]), (5, [858, 995]), (7, [858, 941]), (5, [858, 941, 938]), (5, [858, 941, 944]), (6, [858, 941, 939]), (8, [858, 938]), (5, [858, 938, 944]), (7, [858, 938, 939]), (7, [858, 944]), (5, [858, 944, 939]), (6, [858, 968]), (8, [858, 939]), (7, [858, 943]), (5, [858, 943, 968]), (5, [858, 943, 938]), (5, [858, 943, 941]), (5, [858, 1211]), (5, [858, 924]), (5, [858, 1203]), (6, [858, 892]), (5, [858, 1123]), (5, [858, 1117]), (5, [858, 1116]), (5, [858, 1067]), (6, [858, 1563]), (5, [858, 1448]), (5, [858, 1714]), (6, [858, 862]), (6, [858, 7239]), (5, [858, 7239, 943]), (5, [858, 7239, 8425]), (5, [858, 7135]), (5, [858, 7300]), (5, [858, 1602]), (6, [858, 8433]), (6, [858, 8425]), (5, [858, 1471]), (6, [858, 7238]), (13, [853]), (5, [853, 848]), (5, [853, 828]), (5, [853, 255]), (5, [853, 197]), (5, [853, 8433]), (5, [853, 943]), (5, [853, 7238]), (6, [849]), (5, [849, 790]), (9, [848]), (5, [848, 846]), (5, [848, 828]), (5, [848, 1386]), (5, [848, 7238]), (8, [846]), (14, [839]), (6, [839, 837]), (7, [839, 828]), (5, [839, 790]), (5, [839, 707]), (5, [839, 706]), (6, [839, 677]), (5, [839, 613]), (6, [839, 547]), (5, [839, 536]), (5, [839, 531]), (5, [839, 461]), (6, [839, 460]), (5, [839, 443]), (5, [839, 297]), (5, [839, 255]), (6, [839, 1211]), (5, [839, 924]), (6, [839, 1011]), (5, [839, 1012]), (7, [839, 892]), (6, [839, 999]), (5, [839, 1000]), (5, [839, 848]), (7, [839, 853]), (5, [839, 7300]), (6, [839, 941]), (6, [839, 968]), (5, [839, 1233]), (5, [839, 939]), (6, [839, 938]), (5, [839, 943]), (6, [839, 996]), (5, [839, 8433]), (6, [839, 8425]), (5, [839, 3640]), (5, [839, 944]), (5, [839, 7238]), (7, [837]), (7, [834]), (5, [833]), (10, [828]), (5, [828, 670]), (5, [828, 999]), (18, [821]), (7, [821, 790]), (6, [821, 772]), (7, [821, 739]), (5, [821, 707]), (5, [821, 706]), (6, [821, 684]), (6, [821, 677]), (5, [821, 671]), (5, [821, 670]), (6, [821, 613]), (5, [821, 609]), (8, [821, 536]), (5, [821, 536, 297]), (11, [821, 461]), (6, [821, 461, 547]), (6, [821, 461, 839]), (5, [821, 460]), (6, [821, 446]), (5, [821, 438]), (6, [821, 430]), (7, [821, 427]), (5, [821, 427, 430]), (5, [821, 407]), (5, [821, 370]), (6, [821, 297]), (6, [821, 255]), (5, [821, 197]), (8, [821, 839]), (5, [821, 997]), (5, [821, 924]), (5, [821, 1011]), (5, [821, 1203]), (5, [821, 828]), (5, [821, 892]), (6, [821, 999]), (6, [821, 7135]), (6, [821, 858]), (7, [821, 7239]), (5, [821, 7238]), (7, [821, 862]), (6, [821, 996]), (5, [821, 996, 427]), (5, [821, 7170]), (5, [821, 1555]), (5, [821, 848]), (5, [821, 1599]), (6, [821, 853]), (5, [821, 941]), (5, [821, 1233]), (5, [821, 939]), (5, [821, 938]), (5, [821, 8430]), (6, [821, 944]), (6, [821, 1387]), (5, [821, 1386]), (5, [821, 1574]), (6, [791]), (13, [790]), (5, [790, 739]), (7, [790, 613]), (5, [790, 547]), (5, [790, 1000]), (5, [790, 7239]), (6, [790, 7135]), (5, [790, 968]), (5, [790, 939]), (5, [790, 938]), (5, [790, 8425]), (5, [790, 943]), (5, [790, 944]), (6, [787]), (16, [786]), (5, [786, 772]), (5, [786, 767]), (7, [786, 759]), (5, [786, 739]), (5, [786, 707]), (7, [786, 670]), (5, [786, 637]), (6, [786, 613]), (5, [786, 586]), (6, [786, 547]), (7, [786, 536]), (5, [786, 531]), (6, [786, 524]), (10, [786, 461]), (5, [786, 461, 460]), (5, [786, 461, 839]), (5, [786, 461, 7135]), (6, [786, 460]), (5, [786, 438]), (5, [786, 297]), (5, [786, 255]), (6, [786, 66]), (5, [786, 51]), (8, [786, 821]), (5, [786, 821, 839]), (6, [786, 821, 461]), (5, [786, 821, 547]), (7, [786, 839]), (5, [786, 839, 1011]), (5, [786, 839, 828]), (6, [786, 1013]), (6, [786, 1211]), (5, [786, 1210]), (6, [786, 924]), (6, [786, 1011]), (6, [786, 1203]), (7, [786, 828]), (6, [786, 892]), (6, [786, 999]), (6, [786, 1201]), (5, [786, 1123]), (5, [786, 1117]), (5, [786, 1116]), (6, [786, 1000]), (5, [786, 1007]), (6, [786, 1002]), (6, [786, 858]), (5, [786, 7432]), (6, [786, 7431]), (11, [786, 862]), (6, [786, 862, 759]), (7, [786, 862, 461]), (6, [786, 862, 839]), (5, [786, 862, 848]), (5, [786, 862, 790]), (5, [786, 862, 828]), (7, [786, 862, 853]), (5, [786, 862, 670]), (5, [786, 862, 924]), (5, [786, 862, 939]), (5, [786, 862, 938]), (5, [786, 862, 943]), (5, [786, 862, 8425]), (5, [786, 862, 1574]), (6, [786, 848]), (5, [786, 1599]), (6, [786, 790]), (6, [786, 7239]), (5, [786, 7351]), (6, [786, 7135]), (8, [786, 853]), (5, [786, 7161]), (5, [786, 941]), (5, [786, 968]), (6, [786, 939]), (6, [786, 938]), (6, [786, 943]), (5, [786, 993]), (5, [786, 8433]), (6, [786, 8425]), (5, [786, 8402]), (5, [786, 944]), (5, [786, 1555]), (5, [786, 1387]), (6, [786, 1386]), (5, [786, 1471]), (6, [786, 1574]), (6, [773]), (16, [772]), (5, [772, 668]), (6, [772, 547]), (5, [772, 536]), (5, [772, 446]), (5, [772, 430]), (5, [772, 126]), (5, [772, 862]), (5, [772, 853]), (5, [772, 8433]), (5, [768]), (6, [767]), (5, [762]), (11, [759]), (5, [759, 707]), (6, [759, 7387]), (5, [759, 828]), (5, [759, 853]), (5, [759, 7161]), (5, [759, 1574]), (5, [758]), (5, [740]), (14, [739]), (6, [739, 613]), (5, [739, 547]), (6, [739, 536]), (5, [739, 461]), (5, [739, 446]), (5, [739, 43]), (5, [739, 924]), (5, [739, 1203]), (5, [739, 947]), (5, [739, 1387]), (5, [739, 944]), (5, [739, 938]), (5, [739, 862]), (5, [739, 7238]), (5, [739, 7239]), (5, [739, 8425]), (5, [739, 943]), (5, [739, 1574]), (6, [737]), (7, [719]), (6, [716]), (9, [707]), (10, [706]), (6, [704]), (8, [684]), (13, [677]), (6, [677, 858]), (6, [677, 944]), (5, [677, 939]), (5, [677, 968]), (9, [671]), (15, [670]), (6, [670, 669]), (5, [670, 613]), (5, [670, 446]), (5, [670, 43]), (5, [670, 1002]), (5, [670, 999]), (6, [670, 997]), (5, [670, 941]), (6, [670, 938]), (5, [670, 938, 939]), (5, [670, 968]), (6, [670, 939]), (6, [670, 772]), (5, [670, 8433]), (5, [670, 8425]), (5, [670, 8393]), (5, [670, 7457]), (7, [669]), (8, [668]), (7, [637]), (5, [634]), (7, [621]), (5, [614]), (21, [613]), (5, [613, 547]), (5, [613, 536]), (5, [613, 530]), (7, [613, 255]), (5, [613, 66]), (5, [613, 43]), (12, [613, 938]), (9, [613, 938, 944]), (7, [613, 938, 944, 968]), (8, [613, 938, 944, 939]), (5, [613, 938, 944, 939, 968]), (10, [613, 938, 968]), (10, [613, 938, 939]), (5, [613, 938, 1004]), (13, [613, 944]), (9, [613, 944, 968]), (11, [613, 944, 939]), (5, [613, 944, 772]), (5, [613, 944, 1004]), (12, [613, 968]), (12, [613, 939]), (6, [613, 939, 968]), (7, [613, 772]), (7, [613, 862]), (7, [613, 858]), (10, [613, 941]), (7, [613, 941, 939]), (5, [613, 941, 938]), (6, [613, 941, 944]), (6, [613, 941, 968]), (5, [613, 821]), (6, [613, 997]), (5, [613, 706]), (5, [613, 739]), (6, [613, 1203]), (6, [613, 999]), (5, [613, 1007]), (8, [613, 1387]), (5, [613, 1387, 1386]), (7, [613, 1386]), (6, [613, 1004]), (5, [613, 1574]), (5, [613, 12923]), (5, [613, 1233]), (5, [613, 7212]), (10, [609]), (6, [609, 446]), (5, [609, 1370]), (5, [609, 677]), (9, [586]), (5, [586, 461]), (5, [578]), (5, [553]), (13, [547]), (5, [547, 536]), (5, [547, 297]), (30, [536]), (6, [536, 531]), (8, [536, 524]), (5, [536, 475]), (8, [536, 461]), (5, [536, 461, 255]), (6, [536, 446]), (7, [536, 443]), (5, [536, 430]), (6, [536, 427]), (6, [536, 410]), (6, [536, 407]), (6, [536, 370]), (5, [536, 334]), (5, [536, 325]), (6, [536, 297]), (12, [536, 255]), (6, [536, 255, 197]), (11, [536, 197]), (5, [536, 126]), (5, [536, 105]), (7, [536, 80]), (6, [536, 66]), (5, [536, 43]), (5, [536, 19]), (5, [536, 1013]), (10, [536, 1012]), (5, [536, 1012, 1002]), (5, [536, 1012, 999]), (5, [536, 1012, 995]), (5, [536, 1012, 1387]), (5, [536, 1012, 197]), (5, [536, 1012, 858]), (6, [536, 1011]), (6, [536, 670]), (5, [536, 1010]), (8, [536, 1007]), (8, [536, 1004]), (9, [536, 1002]), (7, [536, 1000]), (11, [536, 999]), (8, [536, 998]), (6, [536, 998, 941]), (5, [536, 998, 941, 939]), (5, [536, 998, 938]), (6, [536, 998, 968]), (6, [536, 998, 939]), (7, [536, 706]), (9, [536, 997]), (13, [536, 996]), (5, [536, 996, 197]), (7, [536, 996, 255]), (5, [536, 996, 1555]), (5, [536, 996, 999]), (5, [536, 996, 1471]), (5, [536, 996, 1387]), (5, [536, 996, 1386]), (6, [536, 995]), (5, [536, 994]), (6, [536, 993]), (11, [536, 941]), (8, [536, 941, 938]), (5, [536, 941, 938, 944, 968]), (6, [536, 941, 938, 968]), (10, [536, 941, 944]), (6, [536, 941, 944, 968]), (8, [536, 941, 968]), (9, [536, 941, 939]), (5, [536, 941, 939, 968]), (10, [536, 613]), (8, [536, 613, 938]), (7, [536, 613, 938, 944]), (5, [536, 613, 938, 944, 968]), (7, [536, 613, 938, 968]), (6, [536, 613, 938, 939]), (9, [536, 613, 944]), (6, [536, 613, 944, 968]), (8, [536, 613, 968]), (7, [536, 613, 939]), (6, [536, 613, 941]), (5, [536, 613, 941, 944]), (5, [536, 613, 941, 939]), (11, [536, 938]), (9, [536, 938, 944]), (6, [536, 938, 944, 968]), (6, [536, 938, 944, 939]), (8, [536, 938, 968]), (7, [536, 938, 939]), (11, [536, 944]), (7, [536, 944, 968]), (7, [536, 944, 939]), (10, [536, 968]), (12, [536, 939]), (7, [536, 939, 968]), (5, [536, 939, 1387]), (5, [536, 939, 858]), (7, [536, 772]), (7, [536, 1211]), (9, [536, 1423]), (5, [536, 1423, 255]), (5, [536, 1423, 197]), (5, [536, 1423, 999]), (6, [536, 1210]), (6, [536, 1201]), (9, [536, 1402]), (7, [536, 1402, 255]), (6, [536, 1402, 197]), (6, [536, 707]), (21, [536, 1387]), (15, [536, 1387, 1386]), (8, [536, 1387, 197]), (5, [536, 1387, 1242]), (6, [536, 1387, 1233]), (7, [536, 1387, 1574]), (5, [536, 1387, 1604]), (5, [536, 1387, 1563]), (8, [536, 1387, 255]), (5, [536, 1387, 1555]), (7, [536, 1387, 999]), (6, [536, 1387, 1473]), (5, [536, 1387, 1004]), (5, [536, 1387, 995]), (5, [536, 1387, 677]), (8, [536, 1387, 858]), (20, [536, 1386]), (8, [536, 1386, 197]), (6, [536, 1386, 1233]), (7, [536, 1386, 1574]), (5, [536, 1386, 1604]), (8, [536, 1386, 255]), (5, [536, 1386, 1555]), (7, [536, 1386, 999]), (6, [536, 1386, 1473]), (5, [536, 1386, 1471]), (5, [536, 1386, 1004]), (7, [536, 1386, 858]), (7, [536, 1370]), (5, [536, 1368]), (5, [536, 1313]), (5, [536, 1283]), (6, [536, 1242]), (8, [536, 1233]), (6, [536, 7135]), (11, [536, 858]), (6, [536, 1494]), (5, [536, 1067]), (5, [536, 7249]), (12, [536, 1574]), (5, [536, 1574, 1233]), (7, [536, 6970]), (6, [536, 821]), (8, [536, 7238]), (13, [536, 862]), (5, [536, 862, 197]), (5, [536, 862, 255]), (5, [536, 862, 999]), (5, [536, 862, 858]), (5, [536, 862, 1004]), (5, [536, 862, 1574]), (5, [536, 862, 7238]), (7, [536, 1605]), (5, [536, 1605, 1604]), (6, [536, 1448]), (5, [536, 1448, 255]), (5, [536, 6361]), (6, [536, 1604]), (5, [536, 1604, 197]), (12, [536, 943]), (5, [536, 943, 255]), (7, [536, 943, 613]), (5, [536, 943, 613, 938]), (6, [536, 943, 613, 944]), (5, [536, 943, 613, 968]), (7, [536, 943, 941]), (5, [536, 943, 941, 938]), (6, [536, 943, 941, 944]), (6, [536, 943, 938]), (5, [536, 943, 938, 944]), (7, [536, 943, 944]), (6, [536, 943, 939]), (6, [536, 943, 1387]), (5, [536, 943, 1386]), (5, [536, 943, 1004]), (6, [536, 943, 1574]), (5, [536, 943, 677]), (6, [536, 943, 968]), (5, [536, 7220]), (5, [536, 7212]), (5, [536, 7197]), (6, [536, 1563]), (5, [536, 1563, 1242]), (6, [536, 7173]), (5, [536, 1514]), (5, [536, 3603]), (7, [536, 839]), (5, [536, 7161]), (8, [536, 1555]), (5, [536, 4477]), (10, [536, 1473]), (5, [536, 1473, 197]), (10, [536, 7008]), (5, [536, 7008, 5793]), (5, [536, 7008, 1387]), (6, [536, 1594]), (5, [536, 7057]), (8, [536, 7457]), (5, [536, 1123]), (6, [536, 7976]), (7, [536, 1599]), (5, [536, 1116]), (5, [536, 1117]), (5, [536, 7517]), (6, [536, 7348]), (9, [536, 1471]), (5, [536, 1471, 255]), (6, [536, 609]), (5, [536, 8441]), (7, [536, 1602]), (6, [536, 837]), (5, [536, 7284]), (5, [536, 8434]), (9, [536, 8433]), (9, [536, 677]), (5, [536, 677, 944]), (8, [536, 8425]), (5, [536, 3640]), (5, [536, 834]), (5, [536, 8001]), (6, [536, 853]), (5, [536, 828]), (5, [536, 924]), (6, [536, 12981]), (7, [536, 1203]), (6, [536, 5466]), (5, [536, 5467]), (5, [536, 5463]), (5, [536, 12923]), (6, [536, 5793]), (6, [536, 7993]), (5, [536, 1450]), (5, [536, 7000]), (5, [536, 1621]), (12, [531]), (5, [531, 530]), (5, [531, 524]), (5, [531, 443]), (6, [531, 66]), (5, [531, 999]), (5, [531, 1117]), (5, [531, 1116]), (5, [531, 939]), (5, [531, 938]), (5, [531, 1387]), (6, [530]), (14, [524]), (5, [524, 446]), (5, [524, 443]), (7, [524, 255]), (5, [524, 197]), (5, [524, 997]), (5, [524, 1002]), (5, [524, 7351]), (5, [524, 996]), (5, [524, 1471]), (7, [524, 943]), (5, [524, 943, 1387]), (6, [524, 1004]), (6, [524, 999]), (6, [524, 8433]), (5, [524, 677]), (5, [524, 613]), (6, [524, 1387]), (7, [524, 862]), (5, [524, 862, 1004]), (5, [524, 1386]), (5, [524, 995]), (5, [493]), (6, [475]), (5, [475, 255]), (5, [468]), (18, [461]), (6, [461, 460]), (7, [461, 255]), (5, [461, 197]), (7, [461, 547]), (7, [461, 999]), (5, [461, 1011]), (5, [461, 996]), (7, [461, 943]), (8, [461, 839]), (5, [461, 839, 460]), (5, [461, 839, 853]), (5, [461, 7387]), (6, [461, 790]), (5, [461, 892]), (6, [461, 7135]), (6, [461, 853]), (5, [461, 7300]), (5, [461, 941]), (5, [461, 968]), (5, [461, 1233]), (6, [461, 939]), (6, [461, 938]), (5, [461, 1004]), (5, [461, 8425]), (5, [461, 8402]), (5, [461, 613]), (6, [461, 944]), (5, [461, 1574]), (10, [460]), (5, [460, 255]), (5, [459]), (10, [446]), (6, [446, 197]), (10, [443]), (5, [443, 255]), (5, [443, 999]), (7, [439]), (5, [439, 1233]), (7, [438]), (11, [430]), (5, [430, 255]), (5, [430, 43]), (8, [430, 6361]), (5, [430, 6361, 6360]), (11, [427]), (5, [427, 255]), (5, [427, 43]), (9, [427, 430]), (8, [427, 6361]), (5, [427, 6361, 6360]), (7, [427, 6360]), (5, [427, 1386]), (6, [417]), (5, [417, 197]), (6, [412]), (8, [410]), (5, [410, 197]), (8, [407]), (5, [407, 255]), (5, [384]), (7, [370]), (6, [334]), (5, [334, 255]), (5, [334, 197]), (7, [332]), (7, [325]), (7, [307]), (5, [307, 197]), (8, [297]), (5, [294]), (14, [255]), (7, [255, 197]), (15, [197]), (5, [197, 105]), (5, [197, 1250]), (5, [197, 1546]), (5, [197, 1543]), (5, [197, 1511]), (6, [182]), (8, [150]), (5, [138]), (5, [134]), (6, [126]), (6, [105]), (8, [80]), (12, [66]), (8, [66, 1116]), (7, [51]), (10, [43]), (6, [19]), (9, [1053]), (5, [1050]), (5, [1049]), (8, [1041]), (7, [1016]), (12, [1013]), (5, [1013, 1011]), (5, [1013, 670]), (5, [1013, 1010]), (6, [1013, 1007]), (5, [1013, 1004]), (5, [1013, 1000]), (7, [1013, 999]), (7, [1013, 996]), (6, [1013, 993]), (5, [1013, 1218]), (5, [1013, 1211]), (7, [1013, 1210]), (5, [1013, 924]), (5, [1013, 828]), (5, [1013, 1202]), (6, [1013, 862]), (8, [1013, 943]), (5, [1013, 943, 1574]), (5, [1013, 255]), (5, [1013, 536]), (7, [1013, 1386]), (5, [1013, 1387]), (5, [1013, 8425]), (6, [1013, 1574]), (5, [1013, 7457]), (15, [1012]), (5, [1012, 1007]), (6, [1012, 1002]), (5, [1012, 1002, 938]), (5, [1012, 1000]), (8, [1012, 999]), (5, [1012, 997]), (6, [1012, 995]), (5, [1012, 941]), (6, [1012, 938]), (6, [1012, 944]), (5, [1012, 939]), (5, [1012, 1202]), (5, [1012, 586]), (5, [1012, 707]), (5, [1012, 255]), (6, [1012, 1387]), (5, [1012, 1386]), (6, [1012, 197]), (6, [1012, 1555]), (6, [1012, 858]), (5, [1012, 7432]), (5, [1012, 821]), (5, [1012, 1599]), (5, [1012, 1211]), (15, [1011]), (5, [1011, 670]), (5, [1011, 1007]), (6, [1011, 1004]), (6, [1011, 1000]), (9, [1011, 999]), (5, [1011, 996]), (5, [1011, 995]), (5, [1011, 993]), (6, [1011, 941]), (5, [1011, 941, 938]), (5, [1011, 941, 944]), (5, [1011, 941, 968]), (5, [1011, 941, 939]), (7, [1011, 613]), (5, [1011, 613, 939]), (5, [1011, 613, 941]), (6, [1011, 938]), (5, [1011, 938, 944]), (5, [1011, 938, 939]), (6, [1011, 944]), (5, [1011, 944, 939]), (6, [1011, 968]), (6, [1011, 939]), (5, [1011, 531]), (5, [1011, 1012]), (5, [1011, 828]), (5, [1011, 1202]), (7, [1011, 1233]), (7, [1011, 943]), (5, [1011, 943, 999]), (5, [1011, 943, 1387]), (5, [1011, 255]), (5, [1011, 443]), (5, [1011, 1555]), (6, [1011, 1211]), (6, [1011, 524]), (5, [1011, 536]), (6, [1011, 8433]), (6, [1011, 1387]), (6, [1011, 858]), (5, [1011, 862]), (6, [1011, 1386]), (9, [1010]), (6, [1010, 1007]), (5, [1009]), (12, [1007]), (6, [1007, 255]), (5, [1007, 1386]), (5, [1007, 1233]), (5, [1007, 1471]), (14, [1004]), (7, [1004, 999]), (7, [1004, 1448]), (5, [1004, 1448, 255]), (7, [1004, 255]), (5, [1004, 197]), (5, [1004, 1250]), (5, [1004, 1511]), (11, [1003]), (5, [1003, 1000]), (6, [1003, 999]), (5, [1003, 993]), (6, [1003, 531]), (5, [1003, 1210]), (5, [1003, 828]), (5, [1003, 1096]), (5, [1003, 1555]), (6, [1003, 1386]), (5, [1003, 536]), (13, [1002]), (6, [1002, 999]), (6, [1002, 997]), (5, [1002, 996]), (5, [1002, 941]), (5, [1002, 613]), (6, [1002, 938]), (5, [1002, 944]), (5, [1002, 939]), (6, [1002, 1004]), (5, [1002, 848]), (5, [1002, 1599]), (5, [1002, 853]), (5, [1002, 1471]), (5, [1002, 943]), (17, [1000]), (6, [1000, 997]), (5, [1000, 996]), (6, [1000, 941]), (5, [1000, 941, 944]), (6, [1000, 613]), (7, [1000, 938]), (5, [1000, 938, 944]), (6, [1000, 944]), (5, [1000, 968]), (6, [1000, 939]), (5, [1000, 828]), (9, [1000, 1117]), (5, [1000, 1117, 1116]), (5, [1000, 1117, 66]), (9, [1000, 1116]), (9, [1000, 66]), (6, [1000, 66, 1116]), (5, [1000, 1002]), (5, [1000, 1471]), (5, [1000, 1004]), (5, [1000, 8433]), (5, [1000, 1386]), (7, [1000, 1574]), (19, [999]), (5, [999, 530]), (5, [999, 1067]), (7, [999, 197]), (5, [999, 1602]), (9, [998]), (7, [998, 941]), (5, [998, 941, 938]), (6, [998, 941, 968]), (6, [998, 941, 939]), (5, [998, 613]), (6, [998, 938]), (5, [998, 938, 944]), (5, [998, 938, 968]), (5, [998, 938, 939]), (6, [998, 944]), (5, [998, 944, 968]), (5, [998, 944, 939]), (7, [998, 968]), (7, [998, 939]), (16, [997]), (6, [997, 941]), (6, [997, 938]), (5, [997, 944]), (6, [997, 968]), (6, [997, 939]), (5, [997, 1203]), (5, [997, 999]), (5, [997, 858]), (19, [996]), (5, [996, 995]), (5, [996, 941]), (5, [996, 613]), (5, [996, 938]), (7, [996, 944]), (5, [996, 968]), (6, [996, 939]), (9, [996, 1386]), (5, [996, 1386, 255]), (9, [996, 1387]), (6, [996, 1387, 255]), (6, [996, 1387, 1386]), (6, [996, 1471]), (5, [996, 1599]), (5, [996, 609]), (5, [996, 1588]), (5, [996, 1423]), (5, [996, 677]), (9, [996, 255]), (5, [996, 1368]), (6, [996, 858]), (5, [996, 410]), (5, [996, 1563]), (6, [996, 1555]), (7, [996, 197]), (5, [996, 1448]), (5, [996, 1004]), (5, [996, 1514]), (7, [996, 999]), (9, [996, 427]), (8, [996, 430]), (7, [996, 6361]), (5, [996, 6361, 6360]), (7, [996, 6360]), (6, [996, 3640]), (5, [996, 43]), (5, [996, 8433]), (10, [995]), (6, [995, 197]), (7, [994]), (8, [993]), (5, [993, 999]), (19, [968]), (9, [968, 939]), (6, [968, 772]), (6, [968, 938]), (6, [968, 941]), (5, [968, 821]), (5, [968, 739]), (5, [968, 1117]), (5, [968, 66]), (5, [968, 1116]), (5, [968, 1233]), (6, [968, 1387]), (7, [968, 858]), (5, [968, 1386]), (5, [968, 7212]), (5, [968, 944]), (9, [1226]), (5, [1226, 858]), (5, [1226, 943]), (5, [1226, 1011]), (5, [1226, 999]), (5, [1226, 536]), (9, [1218]), (6, [1218, 999]), (5, [1218, 8433]), (6, [1212]), (5, [1212, 999]), (15, [1211]), (6, [1211, 1210]), (5, [1211, 1205]), (5, [1211, 1012]), (6, [1211, 828]), (7, [1211, 999]), (6, [1211, 1201]), (5, [1211, 1200]), (7, [1211, 1000]), (6, [1211, 1007]), (5, [1211, 1096]), (5, [1211, 1423]), (6, [1211, 1402]), (6, [1211, 1387]), (8, [1211, 1386]), (5, [1211, 197]), (5, [1211, 1233]), (5, [1211, 670]), (5, [1211, 997]), (5, [1211, 536]), (6, [1211, 943]), (5, [1211, 862]), (5, [1211, 858]), (5, [1211, 613]), (5, [1211, 941]), (5, [1211, 938]), (5, [1211, 944]), (5, [1211, 8433]), (5, [1211, 1004]), (5, [1211, 1473]), (6, [1211, 1574]), (5, [1211, 1599]), (8, [1210]), (5, [1210, 1386]), (7, [1205]), (5, [1205, 1386]), (14, [1203]), (5, [1203, 1125]), (5, [1203, 370]), (6, [1203, 739]), (5, [1203, 613]), (5, [1203, 944]), (5, [1203, 968]), (5, [1203, 941]), (6, [1202]), (10, [1201]), (5, [1201, 1007]), (5, [1201, 255]), (6, [1201, 1386]), (5, [1201, 1471]), (5, [1201, 1574]), (8, [1200]), (5, [1200, 1007]), (5, [1200, 1386]), (6, [1197]), (7, [1196]), (9, [1188]), (6, [1125]), (9, [1123]), (5, [1123, 1004]), (6, [1123, 999]), (5, [1123, 1599]), (5, [1123, 997]), (5, [1121]), (11, [1117]), (7, [1117, 66]), (6, [1117, 66, 1116]), (7, [1117, 1116]), (11, [1116]), (7, [1096]), (5, [1095]), (5, [1072]), (6, [1070]), (5, [1070, 862]), (7, [1067]), (10, [1494]), (5, [1494, 1370]), (5, [1494, 1599]), (5, [1483]), (20, [1473]), (6, [1473, 536]), (5, [1473, 1423]), (7, [1473, 1402]), (5, [1473, 1402, 255]), (5, [1473, 1402, 197]), (7, [1473, 255]), (5, [1473, 255, 197]), (6, [1473, 1387]), (7, [1473, 1386]), (5, [1473, 1370]), (7, [1473, 1368]), (5, [1473, 1368, 197]), (8, [1473, 197]), (5, [1473, 1320]), (5, [1473, 1313]), (6, [1473, 1283]), (5, [1473, 1250]), (5, [1473, 1242]), (7, [1473, 1233]), (5, [1473, 1599]), (7, [1473, 1574]), (6, [1473, 1572]), (7, [1473, 858]), (6, [1473, 1563]), (5, [1473, 1546]), (6, [1473, 1004]), (5, [1473, 1511]), (5, [1473, 999]), (5, [1473, 1502]), (5, [1473, 5793]), (5, [1473, 1604]), (6, [1473, 4767]), (5, [1473, 1714]), (6, [1473, 943]), (6, [1473, 941]), (5, [1473, 941, 968]), (6, [1473, 968]), (6, [1473, 939]), (5, [1473, 938]), (5, [1473, 80]), (5, [1473, 613]), (5, [1473, 944]), (14, [1471]), (6, [1471, 1448]), (5, [1471, 1448, 255]), (5, [1471, 1423]), (5, [1471, 1402]), (8, [1471, 255]), (5, [1471, 255, 197]), (6, [1471, 1370]), (5, [1471, 1370, 197]), (5, [1471, 1368]), (6, [1471, 197]), (5, [1471, 1233]), (5, [1471, 1605]), (6, [1471, 1473]), (5, [1471, 1599]), (5, [1471, 1574]), (5, [1471, 1555]), (5, [1471, 12851]), (6, [1465]), (7, [1450]), (10, [1448]), (7, [1448, 255]), (6, [1435]), (5, [1430]), (11, [1423]), (7, [1423, 255]), (6, [1423, 197]), (5, [1423, 1283]), (5, [1423, 1242]), (5, [1423, 858]), (5, [1423, 1555]), (5, [1423, 1004]), (7, [1423, 999]), (5, [1423, 1599]), (7, [1408]), (6, [1408, 255]), (6, [1405]), (17, [1402]), (5, [1402, 707]), (9, [1402, 255]), (5, [1402, 255, 197]), (6, [1402, 1387]), (5, [1402, 1387, 1386]), (6, [1402, 1386]), (8, [1402, 1370]), (6, [1402, 1368]), (5, [1402, 1368, 197]), (10, [1402, 197]), (6, [1402, 1283]), (5, [1402, 1250]), (6, [1402, 1242]), (5, [1402, 1602]), (6, [1402, 1599]), (5, [1402, 1002]), (5, [1402, 1423]), (7, [1402, 677]), (7, [1402, 1574]), (5, [1402, 858]), (6, [1402, 1563]), (5, [1402, 1563, 1242]), (5, [1402, 1555]), (5, [1402, 1546]), (5, [1402, 1543]), (6, [1402, 1004]), (5, [1402, 1514]), (7, [1402, 999]), (5, [1402, 995]), (6, [1402, 8433]), (7, [1402, 939]), (5, [1402, 939, 613]), (5, [1402, 939, 944]), (6, [1402, 461]), (6, [1402, 943]), (7, [1402, 613]), (7, [1402, 944]), (6, [1402, 938]), (6, [1402, 968]), (6, [1402, 941]), (7, [1402, 862]), (5, [1402, 7238]), (23, [1387]), (16, [1387, 1386]), (7, [1387, 1386, 197]), (5, [1387, 1386, 1574]), (6, [1387, 1386, 862]), (5, [1387, 1386, 1604]), (6, [1387, 1386, 255]), (6, [1387, 1386, 999]), (5, [1387, 1386, 1473]), (6, [1387, 1386, 858]), (5, [1387, 1368]), (9, [1387, 197]), (5, [1387, 197, 1242]), (6, [1387, 1242]), (7, [1387, 1233]), (6, [1387, 995]), (5, [1387, 1471]), (5, [1387, 1402]), (6, [1387, 1604]), (5, [1387, 1604, 197]), (5, [1387, 1602]), (7, [1387, 1473]), (5, [1387, 1002]), (5, [1387, 1423]), (6, [1387, 677]), (9, [1387, 255]), (8, [1387, 1574]), (5, [1387, 1574, 1555]), (5, [1387, 1574, 197]), (9, [1387, 858]), (6, [1387, 1563]), (5, [1387, 1563, 1242]), (6, [1387, 1555]), (5, [1387, 1448]), (6, [1387, 1004]), (5, [1387, 1514]), (8, [1387, 999]), (5, [1387, 7249]), (5, [1387, 6970]), (6, [1387, 7238]), (8, [1387, 862]), (5, [1387, 7212]), (5, [1387, 7197]), (5, [1387, 7008]), (6, [1387, 997]), (5, [1387, 7057]), (5, [1387, 7457]), (5, [1387, 1116]), (5, [1387, 80]), (5, [1387, 837]), (5, [1387, 613]), (6, [1387, 944]), (5, [1387, 938]), (6, [1387, 968]), (6, [1387, 941]), (5, [1387, 941, 944]), (5, [1387, 939]), (23, [1386]), (5, [1386, 1370]), (5, [1386, 1368]), (9, [1386, 197]), (6, [1386, 1283]), (5, [1386, 1242]), (7, [1386, 1233]), (5, [1386, 1387]), (5, [1386, 995]), (6, [1386, 1471]), (5, [1386, 1402]), (5, [1386, 1605]), (7, [1386, 1604]), (5, [1386, 1604, 197]), (7, [1386, 1473]), (6, [1386, 1002]), (5, [1386, 1423]), (5, [1386, 677]), (9, [1386, 255]), (8, [1386, 1574]), (5, [1386, 1574, 1555]), (5, [1386, 1574, 197]), (9, [1386, 858]), (5, [1386, 1563]), (6, [1386, 1555]), (5, [1386, 1448]), (6, [1386, 1004]), (8, [1386, 999]), (5, [1386, 6970]), (5, [1386, 461]), (8, [1386, 862]), (5, [1386, 943]), (5, [1386, 7212]), (5, [1386, 7197]), (5, [1386, 7008]), (5, [1386, 997]), (5, [1386, 7057]), (6, [1386, 7457]), (5, [1386, 80]), (5, [1386, 941]), (5, [1386, 968]), (5, [1386, 944]), (5, [1386, 939]), (5, [1376]), (11, [1370]), (6, [1370, 197]), (8, [1368]), (6, [1368, 197]), (5, [1366]), (5, [1352]), (5, [1334]), (6, [1320]), (5, [1320, 1250]), (6, [1313]), (5, [1312]), (6, [1310]), (5, [1294]), (7, [1283]), (5, [1280]), (5, [1264]), (6, [1250]), (5, [1248]), (7, [1242]), (15, [1233]), (5, [1233, 1599]), (6, [1233, 255]), (5, [1233, 858]), (6, [1233, 1563]), (6, [1233, 1555]), (6, [1233, 197]), (6, [1233, 999]), (5, [1233, 939]), (5, [1233, 938]), (5, [1233, 8433]), (5, [1233, 944]), (6, [1628]), (5, [1628, 1627]), (5, [1628, 1002]), (7, [1627]), (5, [1627, 1471]), (5, [1627, 1002]), (5, [1627, 255]), (9, [1621]), (5, [1621, 1402]), (5, [1621, 1473]), (7, [1611]), (5, [1611, 7050]), (5, [1611, 6989]), (5, [1611, 6917]), (5, [1611, 4477]), (5, [1609]), (5, [1608]), (7, [1606]), (10, [1605]), (7, [1605, 1604]), (5, [1605, 1594]), (6, [1605, 255]), (5, [1605, 1555]), (5, [1605, 197]), (12, [1604]), (5, [1604, 1473]), (5, [1604, 255]), (6, [1604, 1574]), (5, [1604, 1563]), (6, [1604, 197]), (5, [1604, 4767]), (5, [1604, 1387]), (5, [1604, 943]), (12, [1602]), (5, [1602, 677]), (5, [1602, 255]), (5, [1602, 1283]), (5, [1602, 941]), (5, [1602, 938]), (5, [1602, 944]), (5, [1602, 968]), (5, [1602, 7993]), (11, [1599]), (5, [1597]), (9, [1594]), (6, [1594, 1574]), (5, [1594, 197]), (5, [1591]), (6, [1588]), (6, [1576]), (19, [1574]), (5, [1574, 1368]), (5, [1574, 858]), (6, [1574, 1555]), (6, [1574, 197]), (6, [1574, 999]), (5, [1574, 255]), (5, [1574, 1494]), (6, [1574, 941]), (5, [1574, 941, 939]), (6, [1574, 968]), (7, [1574, 1233]), (6, [1574, 939]), (5, [1574, 938]), (5, [1574, 1599]), (5, [1574, 1370]), (5, [1574, 1621]), (5, [1574, 613]), (6, [1574, 944]), (5, [1574, 1473]), (9, [1572]), (5, [1572, 1283]), (5, [1572, 197]), (5, [1572, 1004]), (5, [1572, 1502]), (5, [1572, 4767]), (10, [1563]), (5, [1563, 1283]), (6, [1563, 1242]), (5, [1563, 1546]), (5, [1563, 1514]), (13, [1555]), (5, [1555, 999]), (6, [1546]), (6, [1543]), (5, [1537]), (9, [1526]), (5, [1526, 6410]), (7, [1525]), (6, [1514]), (6, [1511]), (5, [1504]), (6, [1502]), (5, [7071]), (6, [7057]), (6, [7051]), (6, [7050]), (5, [7050, 6989]), (5, [7050, 6917]), (6, [7049]), (5, [7049, 6989]), (5, [7049, 6917]), (6, [7048]), (5, [7048, 6917]), (5, [7048, 4767]), (5, [7048, 7051]), (5, [7047]), (6, [7010]), (12, [7008]), (5, [7008, 1473]), (6, [7008, 5793]), (5, [7008, 5465]), (6, [7008, 1387]), (5, [7008, 1386]), (5, [7008, 997]), (5, [7008, 1574]), (5, [7008, 939]), (5, [7008, 858]), (5, [7008, 613]), (5, [7008, 944]), (5, [7008, 968]), (5, [7008, 941]), (6, [7000]), (7, [6989]), (5, [6989, 6917]), (5, [6989, 4767]), (8, [6970]), (6, [6969]), (5, [6960]), (6, [6917]), (5, [6832]), (5, [6807]), (5, [6461]), (8, [6452]), (5, [6452, 6420]), (6, [6452, 6410]), (5, [6452, 4767]), (5, [6451]), (6, [6420]), (5, [6414]), (7, [6410]), (5, [6398]), (9, [6361]), (6, [6361, 6360]), (5, [6361, 999]), (8, [6360]), (5, [6229]), (7, [6194]), (5, [6085]), (5, [5996]), (7, [5793]), (6, [5770]), (5, [5683]), (5, [5676]), (5, [5675]), (5, [5672]), (5, [5526]), (6, [5467]), (5, [5467, 5466]), (7, [5466]), (5, [5466, 5465]), (6, [5465]), (6, [5463]), (5, [5239]), (8, [4767]), (5, [4766]), (8, [4477]), (5, [3777]), (9, [3640]), (5, [3640, 8410]), (5, [3640, 8402]), (5, [3640, 613]), (5, [3639]), (7, [3603]), (6, [2590]), (6, [2589]), (5, [2588]), (5, [2586]), (5, [2585]), (5, [2584]), (6, [1714]), (12, [7135]), (5, [7135, 1574]), (5, [7135, 7238]), (5, [7135, 255]), (5, [7135, 1471]), (5, [7135, 8425]), (6, [7129]), (6, [7120]), (7, [7107]), (6, [7099]), (5, [7089]), (5, [7087]), (6, [7249]), (11, [7239]), (6, [7239, 7238]), (5, [7239, 1011]), (7, [7239, 943]), (5, [7239, 255]), (5, [7239, 839]), (5, [7239, 853]), (5, [7239, 460]), (6, [7239, 8425]), (5, [7239, 3640]), (5, [7239, 8411]), (5, [7239, 8402]), (5, [7239, 613]), (5, [7239, 12981]), (9, [7238]), (6, [7237]), (5, [7237, 4767]), (5, [7236]), (7, [7220]), (6, [7212]), (6, [7197]), (5, [7197, 197]), (5, [7176]), (7, [7173]), (7, [7170]), (10, [7161]), (12, [7432]), (5, [7432, 862]), (5, [7432, 461]), (5, [7432, 1599]), (5, [7432, 1211]), (5, [7432, 853]), (5, [7432, 670]), (5, [7432, 941]), (5, [7432, 1117]), (5, [7432, 1116]), (5, [7432, 66]), (5, [7432, 536]), (6, [7432, 939]), (6, [7432, 938]), (5, [7432, 944]), (6, [7432, 8433]), (5, [7432, 1386]), (6, [7432, 999]), (5, [7432, 1555]), (5, [7432, 1003]), (5, [7432, 524]), (7, [7431]), (5, [7420]), (6, [7390]), (5, [7389]), (8, [7387]), (5, [7376]), (8, [7351]), (8, [7348]), (8, [7341]), (6, [7333]), (5, [7333, 772]), (6, [7300]), (5, [7299]), (8, [7284]), (5, [7284, 8433]), (6, [7518]), (7, [7517]), (5, [7517, 1594]), (7, [7503]), (5, [7503, 1604]), (5, [7503, 1473]), (7, [7491]), (5, [7476]), (11, [7457]), (5, [7457, 862]), (5, [8043]), (5, [8042]), (5, [8010]), (6, [8001]), (5, [8000]), (9, [7993]), (5, [7992]), (7, [7976]), (5, [7972]), (5, [8101]), (5, [8080]), (5, [8449]), (6, [8441]), (6, [8434]), (13, [8433]), (5, [8433, 8430]), (5, [8433, 3640]), (6, [8433, 8402]), (5, [8433, 8393]), (5, [8433, 999]), (5, [8433, 862]), (7, [8430]), (5, [8430, 8402]), (10, [8425]), (5, [8425, 3640]), (5, [8425, 8402]), (5, [8425, 613]), (5, [8425, 944]), (7, [8411]), (6, [8411, 8402]), (5, [8411, 613]), (6, [8410]), (5, [8410, 8402]), (5, [8410, 613]), (5, [8403]), (8, [8402]), (5, [8402, 8399]), (5, [8401]), (6, [8399]), (6, [8393]), (5, [8282]), (5, [8281]), (5, [8280]), (5, [12710]), (5, [12698]), (5, [12681]), (5, [12603]), (10, [12981]), (5, [12981, 939]), (5, [12981, 1203]), (5, [12981, 12923]), (6, [12981, 370]), (6, [12981, 613]), (5, [12981, 944]), (5, [12981, 938]), (5, [12981, 968]), (5, [12981, 941]), (5, [12967]), (5, [12962]), (5, [12951]), (6, [12923]), (7, [12851]), (5, [12744]), (9, [13228]), (5, [13228, 862]), (5, [13228, 8433]), (5, [13099]), (5, [13098]), (6, [13330]), (5, [13330, 13322]), (5, [13330, 13321]), (5, [13330, 13317]), (6, [13322]), (6, [13321]), (6, [13320]), (5, [13320, 13319]), (5, [13320, 13317]), (6, [13319]), (5, [13319, 13317]), (5, [13318]), (6, [13316]), (5, [13316, 13317]), (6, [13317]), (6, [13315]), (5, [13315, 13314]), (6, [13314]), (6, [13313]), (5, [13312]), (6, [13295]), (5, [13552]), (5, [13547]), (5, [13521]), (5, [13510]), (5, [13452]), (5, [13440]), (5, [14064]), (5, [14850]), (6, [14599]), (5, [15444])]\n"
     ]
    },
    {
     "name": "stdout",
     "output_type": "stream",
     "text": [
      "[(30, [536]), (29, [943]), (27, [862]), (23, [939]), (23, [1386]), (23, [1387]), (22, [858]), (21, [536, 1387]), (21, [613]), (21, [938]), (21, [941]), (20, [536, 1386]), (20, [943, 939]), (20, [944]), (20, [1473]), (19, [943, 938]), (19, [968]), (19, [996]), (19, [999]), (19, [1574]), (18, [461]), (18, [821]), (17, [943, 944]), (17, [1000]), (17, [1402]), (16, [772]), (16, [786]), (16, [941, 939]), (16, [943, 613]), (16, [997]), (16, [1387, 1386]), (15, [197]), (15, [536, 1387, 1386]), (15, [670]), (15, [938, 939]), (15, [1011]), (15, [1012]), (15, [1211]), (15, [1233]), (14, [255]), (14, [524]), (14, [739]), (14, [839]), (14, [938, 944]), (14, [941, 938]), (14, [1004]), (14, [1203]), (14, [1471]), (13, [943, 938, 939]), (13, [944, 939])]\n"
     ]
    }
   ],
   "source": [
    "#Displaying generator frequent and top k patterns \n",
    "print(ps.frequent(5, generator=True))\n",
    "print(ps.topk(50, generator=True))"
   ]
  },
  {
   "cell_type": "markdown",
   "metadata": {},
   "source": [
    "Now that we have generated the frequent patterns and top k patterns, we will now draw the association rules to mine these frequent patterns and help us get the recommendation of books for the users."
   ]
  },
  {
   "cell_type": "markdown",
   "metadata": {},
   "source": [
    "Here, we are recommending books in two ways, \n",
    "1: Using association rules to get recommendations for frequent itemsets generated                                                  using fp-growth.                                             \n",
    "2: Generating recommendations for prefixspan generated frequent patterns."
   ]
  },
  {
   "cell_type": "code",
   "execution_count": 63,
   "metadata": {},
   "outputs": [],
   "source": [
    "#importing TransactioEncoder and fpgrowth from mlxtend library\n",
    "from mlxtend.preprocessing import TransactionEncoder\n",
    "from mlxtend.frequent_patterns import fpgrowth"
   ]
  },
  {
   "cell_type": "code",
   "execution_count": 64,
   "metadata": {},
   "outputs": [],
   "source": [
    "te = TransactionEncoder()\n",
    "te_ary = te.fit(db).transform(db)\n",
    "df = pd.DataFrame(te_ary, columns=te.columns_)"
   ]
  },
  {
   "cell_type": "code",
   "execution_count": 65,
   "metadata": {},
   "outputs": [
    {
     "data": {
      "text/html": [
       "<div>\n",
       "<style scoped>\n",
       "    .dataframe tbody tr th:only-of-type {\n",
       "        vertical-align: middle;\n",
       "    }\n",
       "\n",
       "    .dataframe tbody tr th {\n",
       "        vertical-align: top;\n",
       "    }\n",
       "\n",
       "    .dataframe thead th {\n",
       "        text-align: right;\n",
       "    }\n",
       "</style>\n",
       "<table border=\"1\" class=\"dataframe\">\n",
       "  <thead>\n",
       "    <tr style=\"text-align: right;\">\n",
       "      <th></th>\n",
       "      <th>support</th>\n",
       "      <th>itemsets</th>\n",
       "    </tr>\n",
       "  </thead>\n",
       "  <tbody>\n",
       "    <tr>\n",
       "      <th>0</th>\n",
       "      <td>0.5882352941176471</td>\n",
       "      <td>(536)</td>\n",
       "    </tr>\n",
       "    <tr>\n",
       "      <th>1</th>\n",
       "      <td>0.5686274509803921</td>\n",
       "      <td>(943)</td>\n",
       "    </tr>\n",
       "    <tr>\n",
       "      <th>2</th>\n",
       "      <td>0.5294117647058824</td>\n",
       "      <td>(862)</td>\n",
       "    </tr>\n",
       "    <tr>\n",
       "      <th>3</th>\n",
       "      <td>0.45098039215686275</td>\n",
       "      <td>(939)</td>\n",
       "    </tr>\n",
       "    <tr>\n",
       "      <th>4</th>\n",
       "      <td>0.43137254901960786</td>\n",
       "      <td>(858)</td>\n",
       "    </tr>\n",
       "    <tr>\n",
       "      <th>...</th>\n",
       "      <td>...</td>\n",
       "      <td>...</td>\n",
       "    </tr>\n",
       "    <tr>\n",
       "      <th>148</th>\n",
       "      <td>0.4117647058823529</td>\n",
       "      <td>(536, 1386)</td>\n",
       "    </tr>\n",
       "    <tr>\n",
       "      <th>149</th>\n",
       "      <td>0.3137254901960784</td>\n",
       "      <td>(1386, 943)</td>\n",
       "    </tr>\n",
       "    <tr>\n",
       "      <th>150</th>\n",
       "      <td>0.37254901960784315</td>\n",
       "      <td>(536, 1386, 1387)</td>\n",
       "    </tr>\n",
       "    <tr>\n",
       "      <th>151</th>\n",
       "      <td>0.3137254901960784</td>\n",
       "      <td>(536, 1386, 943)</td>\n",
       "    </tr>\n",
       "    <tr>\n",
       "      <th>152</th>\n",
       "      <td>0.3137254901960784</td>\n",
       "      <td>(536, 1473)</td>\n",
       "    </tr>\n",
       "  </tbody>\n",
       "</table>\n",
       "<p>153 rows × 2 columns</p>\n",
       "</div>"
      ],
      "text/plain": [
       "                support           itemsets\n",
       "0    0.5882352941176471              (536)\n",
       "1    0.5686274509803921              (943)\n",
       "2    0.5294117647058824              (862)\n",
       "3   0.45098039215686275              (939)\n",
       "4   0.43137254901960786              (858)\n",
       "..                  ...                ...\n",
       "148  0.4117647058823529        (536, 1386)\n",
       "149  0.3137254901960784        (1386, 943)\n",
       "150 0.37254901960784315  (536, 1386, 1387)\n",
       "151  0.3137254901960784   (536, 1386, 943)\n",
       "152  0.3137254901960784        (536, 1473)\n",
       "\n",
       "[153 rows x 2 columns]"
      ]
     },
     "execution_count": 65,
     "metadata": {},
     "output_type": "execute_result"
    }
   ],
   "source": [
    "#Generating frequent itemsets using fpgrowth\n",
    "frequent_itemsets = fpgrowth(df, min_support=0.3, use_colnames=True)\n",
    "frequent_itemsets"
   ]
  },
  {
   "cell_type": "code",
   "execution_count": 66,
   "metadata": {},
   "outputs": [
    {
     "data": {
      "text/html": [
       "<div>\n",
       "<style scoped>\n",
       "    .dataframe tbody tr th:only-of-type {\n",
       "        vertical-align: middle;\n",
       "    }\n",
       "\n",
       "    .dataframe tbody tr th {\n",
       "        vertical-align: top;\n",
       "    }\n",
       "\n",
       "    .dataframe thead th {\n",
       "        text-align: right;\n",
       "    }\n",
       "</style>\n",
       "<table border=\"1\" class=\"dataframe\">\n",
       "  <thead>\n",
       "    <tr style=\"text-align: right;\">\n",
       "      <th></th>\n",
       "      <th>antecedents</th>\n",
       "      <th>consequents</th>\n",
       "      <th>antecedent support</th>\n",
       "      <th>consequent support</th>\n",
       "      <th>support</th>\n",
       "      <th>confidence</th>\n",
       "      <th>lift</th>\n",
       "      <th>leverage</th>\n",
       "      <th>conviction</th>\n",
       "    </tr>\n",
       "  </thead>\n",
       "  <tbody>\n",
       "    <tr>\n",
       "      <th>0</th>\n",
       "      <td>(536)</td>\n",
       "      <td>(943)</td>\n",
       "      <td>0.5882352941176471</td>\n",
       "      <td>0.5686274509803921</td>\n",
       "      <td>0.43137254901960786</td>\n",
       "      <td>0.7333333333333334</td>\n",
       "      <td>1.2896551724137932</td>\n",
       "      <td>0.09688581314878897</td>\n",
       "      <td>1.6176470588235299</td>\n",
       "    </tr>\n",
       "    <tr>\n",
       "      <th>1</th>\n",
       "      <td>(943)</td>\n",
       "      <td>(536)</td>\n",
       "      <td>0.5686274509803921</td>\n",
       "      <td>0.5882352941176471</td>\n",
       "      <td>0.43137254901960786</td>\n",
       "      <td>0.7586206896551725</td>\n",
       "      <td>1.2896551724137932</td>\n",
       "      <td>0.09688581314878897</td>\n",
       "      <td>1.7058823529411768</td>\n",
       "    </tr>\n",
       "    <tr>\n",
       "      <th>2</th>\n",
       "      <td>(862)</td>\n",
       "      <td>(943)</td>\n",
       "      <td>0.5294117647058824</td>\n",
       "      <td>0.5686274509803921</td>\n",
       "      <td>0.4117647058823529</td>\n",
       "      <td>0.7777777777777777</td>\n",
       "      <td>1.3678160919540228</td>\n",
       "      <td>0.11072664359861589</td>\n",
       "      <td>1.9411764705882346</td>\n",
       "    </tr>\n",
       "    <tr>\n",
       "      <th>3</th>\n",
       "      <td>(943)</td>\n",
       "      <td>(862)</td>\n",
       "      <td>0.5686274509803921</td>\n",
       "      <td>0.5294117647058824</td>\n",
       "      <td>0.4117647058823529</td>\n",
       "      <td>0.7241379310344828</td>\n",
       "      <td>1.367816091954023</td>\n",
       "      <td>0.11072664359861589</td>\n",
       "      <td>1.7058823529411764</td>\n",
       "    </tr>\n",
       "    <tr>\n",
       "      <th>4</th>\n",
       "      <td>(536)</td>\n",
       "      <td>(862)</td>\n",
       "      <td>0.5882352941176471</td>\n",
       "      <td>0.5294117647058824</td>\n",
       "      <td>0.37254901960784315</td>\n",
       "      <td>0.6333333333333333</td>\n",
       "      <td>1.1962962962962962</td>\n",
       "      <td>0.06113033448673588</td>\n",
       "      <td>1.283422459893048</td>\n",
       "    </tr>\n",
       "    <tr>\n",
       "      <th>...</th>\n",
       "      <td>...</td>\n",
       "      <td>...</td>\n",
       "      <td>...</td>\n",
       "      <td>...</td>\n",
       "      <td>...</td>\n",
       "      <td>...</td>\n",
       "      <td>...</td>\n",
       "      <td>...</td>\n",
       "      <td>...</td>\n",
       "    </tr>\n",
       "    <tr>\n",
       "      <th>1060</th>\n",
       "      <td>(536, 1386)</td>\n",
       "      <td>(943)</td>\n",
       "      <td>0.4117647058823529</td>\n",
       "      <td>0.5686274509803921</td>\n",
       "      <td>0.3137254901960784</td>\n",
       "      <td>0.761904761904762</td>\n",
       "      <td>1.3399014778325125</td>\n",
       "      <td>0.07958477508650522</td>\n",
       "      <td>1.8117647058823536</td>\n",
       "    </tr>\n",
       "    <tr>\n",
       "      <th>1061</th>\n",
       "      <td>(536, 943)</td>\n",
       "      <td>(1386)</td>\n",
       "      <td>0.43137254901960786</td>\n",
       "      <td>0.45098039215686275</td>\n",
       "      <td>0.3137254901960784</td>\n",
       "      <td>0.7272727272727272</td>\n",
       "      <td>1.6126482213438733</td>\n",
       "      <td>0.11918492887351018</td>\n",
       "      <td>2.013071895424836</td>\n",
       "    </tr>\n",
       "    <tr>\n",
       "      <th>1062</th>\n",
       "      <td>(1386, 943)</td>\n",
       "      <td>(536)</td>\n",
       "      <td>0.3137254901960784</td>\n",
       "      <td>0.5882352941176471</td>\n",
       "      <td>0.3137254901960784</td>\n",
       "      <td>1.0</td>\n",
       "      <td>1.7</td>\n",
       "      <td>0.12918108419838523</td>\n",
       "      <td>inf</td>\n",
       "    </tr>\n",
       "    <tr>\n",
       "      <th>1063</th>\n",
       "      <td>(1386)</td>\n",
       "      <td>(536, 943)</td>\n",
       "      <td>0.45098039215686275</td>\n",
       "      <td>0.43137254901960786</td>\n",
       "      <td>0.3137254901960784</td>\n",
       "      <td>0.6956521739130435</td>\n",
       "      <td>1.6126482213438733</td>\n",
       "      <td>0.11918492887351018</td>\n",
       "      <td>1.868347338935574</td>\n",
       "    </tr>\n",
       "    <tr>\n",
       "      <th>1064</th>\n",
       "      <td>(1473)</td>\n",
       "      <td>(536)</td>\n",
       "      <td>0.39215686274509803</td>\n",
       "      <td>0.5882352941176471</td>\n",
       "      <td>0.3137254901960784</td>\n",
       "      <td>0.8</td>\n",
       "      <td>1.36</td>\n",
       "      <td>0.08304498269896193</td>\n",
       "      <td>2.058823529411765</td>\n",
       "    </tr>\n",
       "  </tbody>\n",
       "</table>\n",
       "<p>1065 rows × 9 columns</p>\n",
       "</div>"
      ],
      "text/plain": [
       "      antecedents consequents  antecedent support  consequent support  \\\n",
       "0           (536)       (943)  0.5882352941176471  0.5686274509803921   \n",
       "1           (943)       (536)  0.5686274509803921  0.5882352941176471   \n",
       "2           (862)       (943)  0.5294117647058824  0.5686274509803921   \n",
       "3           (943)       (862)  0.5686274509803921  0.5294117647058824   \n",
       "4           (536)       (862)  0.5882352941176471  0.5294117647058824   \n",
       "...           ...         ...                 ...                 ...   \n",
       "1060  (536, 1386)       (943)  0.4117647058823529  0.5686274509803921   \n",
       "1061   (536, 943)      (1386) 0.43137254901960786 0.45098039215686275   \n",
       "1062  (1386, 943)       (536)  0.3137254901960784  0.5882352941176471   \n",
       "1063       (1386)  (536, 943) 0.45098039215686275 0.43137254901960786   \n",
       "1064       (1473)       (536) 0.39215686274509803  0.5882352941176471   \n",
       "\n",
       "                 support         confidence               lift  \\\n",
       "0    0.43137254901960786 0.7333333333333334 1.2896551724137932   \n",
       "1    0.43137254901960786 0.7586206896551725 1.2896551724137932   \n",
       "2     0.4117647058823529 0.7777777777777777 1.3678160919540228   \n",
       "3     0.4117647058823529 0.7241379310344828  1.367816091954023   \n",
       "4    0.37254901960784315 0.6333333333333333 1.1962962962962962   \n",
       "...                  ...                ...                ...   \n",
       "1060  0.3137254901960784  0.761904761904762 1.3399014778325125   \n",
       "1061  0.3137254901960784 0.7272727272727272 1.6126482213438733   \n",
       "1062  0.3137254901960784                1.0                1.7   \n",
       "1063  0.3137254901960784 0.6956521739130435 1.6126482213438733   \n",
       "1064  0.3137254901960784                0.8               1.36   \n",
       "\n",
       "                leverage         conviction  \n",
       "0    0.09688581314878897 1.6176470588235299  \n",
       "1    0.09688581314878897 1.7058823529411768  \n",
       "2    0.11072664359861589 1.9411764705882346  \n",
       "3    0.11072664359861589 1.7058823529411764  \n",
       "4    0.06113033448673588  1.283422459893048  \n",
       "...                  ...                ...  \n",
       "1060 0.07958477508650522 1.8117647058823536  \n",
       "1061 0.11918492887351018  2.013071895424836  \n",
       "1062 0.12918108419838523                inf  \n",
       "1063 0.11918492887351018  1.868347338935574  \n",
       "1064 0.08304498269896193  2.058823529411765  \n",
       "\n",
       "[1065 rows x 9 columns]"
      ]
     },
     "execution_count": 66,
     "metadata": {},
     "output_type": "execute_result"
    }
   ],
   "source": [
    "#Generating association rules using association_rules library for the generated frequent itemsets using fp-growth\n",
    "from mlxtend.frequent_patterns import association_rules\n",
    "\n",
    "association_rules(frequent_itemsets, metric=\"confidence\", min_threshold=0.6)"
   ]
  },
  {
   "cell_type": "code",
   "execution_count": 67,
   "metadata": {
    "scrolled": true
   },
   "outputs": [
    {
     "data": {
      "text/html": [
       "<div>\n",
       "<style scoped>\n",
       "    .dataframe tbody tr th:only-of-type {\n",
       "        vertical-align: middle;\n",
       "    }\n",
       "\n",
       "    .dataframe tbody tr th {\n",
       "        vertical-align: top;\n",
       "    }\n",
       "\n",
       "    .dataframe thead th {\n",
       "        text-align: right;\n",
       "    }\n",
       "</style>\n",
       "<table border=\"1\" class=\"dataframe\">\n",
       "  <thead>\n",
       "    <tr style=\"text-align: right;\">\n",
       "      <th></th>\n",
       "      <th>antecedents</th>\n",
       "      <th>consequents</th>\n",
       "      <th>antecedent support</th>\n",
       "      <th>consequent support</th>\n",
       "      <th>support</th>\n",
       "      <th>confidence</th>\n",
       "      <th>lift</th>\n",
       "      <th>leverage</th>\n",
       "      <th>conviction</th>\n",
       "    </tr>\n",
       "  </thead>\n",
       "  <tbody>\n",
       "    <tr>\n",
       "      <th>0</th>\n",
       "      <td>(939)</td>\n",
       "      <td>(943)</td>\n",
       "      <td>0.45098039215686275</td>\n",
       "      <td>0.5686274509803921</td>\n",
       "      <td>0.43137254901960786</td>\n",
       "      <td>0.9565217391304348</td>\n",
       "      <td>1.6821589205397303</td>\n",
       "      <td>0.17493271818531336</td>\n",
       "      <td>9.921568627450988</td>\n",
       "    </tr>\n",
       "    <tr>\n",
       "      <th>1</th>\n",
       "      <td>(943)</td>\n",
       "      <td>(939)</td>\n",
       "      <td>0.5686274509803921</td>\n",
       "      <td>0.45098039215686275</td>\n",
       "      <td>0.43137254901960786</td>\n",
       "      <td>0.7586206896551725</td>\n",
       "      <td>1.6821589205397303</td>\n",
       "      <td>0.17493271818531336</td>\n",
       "      <td>2.2745098039215694</td>\n",
       "    </tr>\n",
       "    <tr>\n",
       "      <th>2</th>\n",
       "      <td>(536, 939)</td>\n",
       "      <td>(943)</td>\n",
       "      <td>0.3333333333333333</td>\n",
       "      <td>0.5686274509803921</td>\n",
       "      <td>0.3333333333333333</td>\n",
       "      <td>1.0</td>\n",
       "      <td>1.7586206896551724</td>\n",
       "      <td>0.1437908496732026</td>\n",
       "      <td>inf</td>\n",
       "    </tr>\n",
       "    <tr>\n",
       "      <th>3</th>\n",
       "      <td>(536, 943)</td>\n",
       "      <td>(939)</td>\n",
       "      <td>0.43137254901960786</td>\n",
       "      <td>0.45098039215686275</td>\n",
       "      <td>0.3333333333333333</td>\n",
       "      <td>0.7727272727272726</td>\n",
       "      <td>1.7134387351778653</td>\n",
       "      <td>0.13879277201076506</td>\n",
       "      <td>2.415686274509803</td>\n",
       "    </tr>\n",
       "    <tr>\n",
       "      <th>4</th>\n",
       "      <td>(939)</td>\n",
       "      <td>(536, 943)</td>\n",
       "      <td>0.45098039215686275</td>\n",
       "      <td>0.43137254901960786</td>\n",
       "      <td>0.3333333333333333</td>\n",
       "      <td>0.7391304347826086</td>\n",
       "      <td>1.7134387351778655</td>\n",
       "      <td>0.13879277201076506</td>\n",
       "      <td>2.1797385620915026</td>\n",
       "    </tr>\n",
       "    <tr>\n",
       "      <th>...</th>\n",
       "      <td>...</td>\n",
       "      <td>...</td>\n",
       "      <td>...</td>\n",
       "      <td>...</td>\n",
       "      <td>...</td>\n",
       "      <td>...</td>\n",
       "      <td>...</td>\n",
       "      <td>...</td>\n",
       "      <td>...</td>\n",
       "    </tr>\n",
       "    <tr>\n",
       "      <th>1057</th>\n",
       "      <td>(1387)</td>\n",
       "      <td>(536, 1386)</td>\n",
       "      <td>0.45098039215686275</td>\n",
       "      <td>0.4117647058823529</td>\n",
       "      <td>0.37254901960784315</td>\n",
       "      <td>0.8260869565217391</td>\n",
       "      <td>2.0062111801242235</td>\n",
       "      <td>0.18685121107266436</td>\n",
       "      <td>3.382352941176471</td>\n",
       "    </tr>\n",
       "    <tr>\n",
       "      <th>1058</th>\n",
       "      <td>(536, 943)</td>\n",
       "      <td>(1386)</td>\n",
       "      <td>0.43137254901960786</td>\n",
       "      <td>0.45098039215686275</td>\n",
       "      <td>0.3137254901960784</td>\n",
       "      <td>0.7272727272727272</td>\n",
       "      <td>1.6126482213438733</td>\n",
       "      <td>0.11918492887351018</td>\n",
       "      <td>2.013071895424836</td>\n",
       "    </tr>\n",
       "    <tr>\n",
       "      <th>1059</th>\n",
       "      <td>(1386, 943)</td>\n",
       "      <td>(536)</td>\n",
       "      <td>0.3137254901960784</td>\n",
       "      <td>0.5882352941176471</td>\n",
       "      <td>0.3137254901960784</td>\n",
       "      <td>1.0</td>\n",
       "      <td>1.7</td>\n",
       "      <td>0.12918108419838523</td>\n",
       "      <td>inf</td>\n",
       "    </tr>\n",
       "    <tr>\n",
       "      <th>1060</th>\n",
       "      <td>(536)</td>\n",
       "      <td>(1386, 943)</td>\n",
       "      <td>0.5882352941176471</td>\n",
       "      <td>0.3137254901960784</td>\n",
       "      <td>0.3137254901960784</td>\n",
       "      <td>0.5333333333333333</td>\n",
       "      <td>1.7</td>\n",
       "      <td>0.12918108419838523</td>\n",
       "      <td>1.4705882352941175</td>\n",
       "    </tr>\n",
       "    <tr>\n",
       "      <th>1061</th>\n",
       "      <td>(1386)</td>\n",
       "      <td>(536, 943)</td>\n",
       "      <td>0.45098039215686275</td>\n",
       "      <td>0.43137254901960786</td>\n",
       "      <td>0.3137254901960784</td>\n",
       "      <td>0.6956521739130435</td>\n",
       "      <td>1.6126482213438733</td>\n",
       "      <td>0.11918492887351018</td>\n",
       "      <td>1.868347338935574</td>\n",
       "    </tr>\n",
       "  </tbody>\n",
       "</table>\n",
       "<p>1062 rows × 9 columns</p>\n",
       "</div>"
      ],
      "text/plain": [
       "      antecedents  consequents  antecedent support  consequent support  \\\n",
       "0           (939)        (943) 0.45098039215686275  0.5686274509803921   \n",
       "1           (943)        (939)  0.5686274509803921 0.45098039215686275   \n",
       "2      (536, 939)        (943)  0.3333333333333333  0.5686274509803921   \n",
       "3      (536, 943)        (939) 0.43137254901960786 0.45098039215686275   \n",
       "4           (939)   (536, 943) 0.45098039215686275 0.43137254901960786   \n",
       "...           ...          ...                 ...                 ...   \n",
       "1057       (1387)  (536, 1386) 0.45098039215686275  0.4117647058823529   \n",
       "1058   (536, 943)       (1386) 0.43137254901960786 0.45098039215686275   \n",
       "1059  (1386, 943)        (536)  0.3137254901960784  0.5882352941176471   \n",
       "1060        (536)  (1386, 943)  0.5882352941176471  0.3137254901960784   \n",
       "1061       (1386)   (536, 943) 0.45098039215686275 0.43137254901960786   \n",
       "\n",
       "                 support         confidence               lift  \\\n",
       "0    0.43137254901960786 0.9565217391304348 1.6821589205397303   \n",
       "1    0.43137254901960786 0.7586206896551725 1.6821589205397303   \n",
       "2     0.3333333333333333                1.0 1.7586206896551724   \n",
       "3     0.3333333333333333 0.7727272727272726 1.7134387351778653   \n",
       "4     0.3333333333333333 0.7391304347826086 1.7134387351778655   \n",
       "...                  ...                ...                ...   \n",
       "1057 0.37254901960784315 0.8260869565217391 2.0062111801242235   \n",
       "1058  0.3137254901960784 0.7272727272727272 1.6126482213438733   \n",
       "1059  0.3137254901960784                1.0                1.7   \n",
       "1060  0.3137254901960784 0.5333333333333333                1.7   \n",
       "1061  0.3137254901960784 0.6956521739130435 1.6126482213438733   \n",
       "\n",
       "                leverage         conviction  \n",
       "0    0.17493271818531336  9.921568627450988  \n",
       "1    0.17493271818531336 2.2745098039215694  \n",
       "2     0.1437908496732026                inf  \n",
       "3    0.13879277201076506  2.415686274509803  \n",
       "4    0.13879277201076506 2.1797385620915026  \n",
       "...                  ...                ...  \n",
       "1057 0.18685121107266436  3.382352941176471  \n",
       "1058 0.11918492887351018  2.013071895424836  \n",
       "1059 0.12918108419838523                inf  \n",
       "1060 0.12918108419838523 1.4705882352941175  \n",
       "1061 0.11918492887351018  1.868347338935574  \n",
       "\n",
       "[1062 rows x 9 columns]"
      ]
     },
     "execution_count": 67,
     "metadata": {},
     "output_type": "execute_result"
    }
   ],
   "source": [
    "#Generating association rules uing metric 'lift' and setting our min_threshold to 1.5\n",
    "rules = association_rules(frequent_itemsets, metric=\"lift\", min_threshold=1.5)\n",
    "rules\n",
    "\n",
    "\n",
    "\n"
   ]
  },
  {
   "cell_type": "code",
   "execution_count": 72,
   "metadata": {},
   "outputs": [],
   "source": [
    "rules.to_pickle('rules.pkle')"
   ]
  },
  {
   "cell_type": "code",
   "execution_count": 69,
   "metadata": {},
   "outputs": [],
   "source": [
    "#function to convert the rules generated to dictionary\n",
    "def convert_df(rules):\n",
    "    '''\n",
    "    Convert df to dict for easy processing\n",
    "    :param rules_df: df read from csv\n",
    "    :return: dict of rules\n",
    "    '''\n",
    "    rules_dict = {}\n",
    "    for i in rules.values:\n",
    "        ante = i[0]\n",
    "        ante_parsed = re.findall(r\"\\d{1,}\", str(ante))\n",
    "        conse = i[1]\n",
    "        conse_parsed = re.findall(r\"\\d{1,}\", str(conse))\n",
    "\n",
    "        #Account for duplicate ante\n",
    "        if tuple(ante_parsed) in rules_dict:\n",
    "            rules_dict[tuple(ante_parsed)].append(tuple(conse_parsed))\n",
    "        else:\n",
    "            rules_dict[tuple(ante_parsed)] = [tuple(conse_parsed)]\n",
    "    return rules_dict\n"
   ]
  },
  {
   "cell_type": "code",
   "execution_count": 70,
   "metadata": {},
   "outputs": [],
   "source": [
    "#function to generate suggestions\n",
    "def gen_suggestions(read_book):\n",
    "    '''\n",
    "    Generate suggestions\n",
    "    :param book_read: user read books as a list\n",
    "    :return: list of suggestions\n",
    "    '''\n",
    "    read_books = set(read_book)\n",
    "    suggestions = set()\n",
    "    for ante,conse in rules_dict.items():\n",
    "        if set(ante).issubset(read_books):\n",
    "            for co in conse:\n",
    "                added = set([i for i in co if i not in read_books ])\n",
    "                suggestions.update(added)\n",
    "    return suggestions"
   ]
  },
  {
   "cell_type": "code",
   "execution_count": null,
   "metadata": {},
   "outputs": [],
   "source": []
  },
  {
   "cell_type": "code",
   "execution_count": null,
   "metadata": {},
   "outputs": [],
   "source": []
  },
  {
   "cell_type": "code",
   "execution_count": 43,
   "metadata": {},
   "outputs": [],
   "source": [
    "\n"
   ]
  },
  {
   "cell_type": "code",
   "execution_count": null,
   "metadata": {},
   "outputs": [],
   "source": []
  },
  {
   "cell_type": "code",
   "execution_count": null,
   "metadata": {},
   "outputs": [],
   "source": [
    "\n",
    "    "
   ]
  },
  {
   "cell_type": "code",
   "execution_count": null,
   "metadata": {},
   "outputs": [],
   "source": []
  },
  {
   "cell_type": "code",
   "execution_count": null,
   "metadata": {},
   "outputs": [],
   "source": []
  },
  {
   "cell_type": "code",
   "execution_count": null,
   "metadata": {},
   "outputs": [],
   "source": []
  },
  {
   "cell_type": "code",
   "execution_count": null,
   "metadata": {},
   "outputs": [],
   "source": []
  },
  {
   "cell_type": "code",
   "execution_count": null,
   "metadata": {},
   "outputs": [],
   "source": []
  },
  {
   "cell_type": "code",
   "execution_count": null,
   "metadata": {},
   "outputs": [],
   "source": []
  },
  {
   "cell_type": "code",
   "execution_count": null,
   "metadata": {},
   "outputs": [],
   "source": []
  },
  {
   "cell_type": "code",
   "execution_count": null,
   "metadata": {},
   "outputs": [],
   "source": []
  },
  {
   "cell_type": "code",
   "execution_count": null,
   "metadata": {},
   "outputs": [],
   "source": []
  },
  {
   "cell_type": "code",
   "execution_count": null,
   "metadata": {},
   "outputs": [],
   "source": []
  },
  {
   "cell_type": "code",
   "execution_count": null,
   "metadata": {},
   "outputs": [],
   "source": []
  },
  {
   "cell_type": "code",
   "execution_count": null,
   "metadata": {},
   "outputs": [],
   "source": []
  },
  {
   "cell_type": "code",
   "execution_count": null,
   "metadata": {},
   "outputs": [],
   "source": []
  },
  {
   "cell_type": "code",
   "execution_count": null,
   "metadata": {},
   "outputs": [],
   "source": []
  },
  {
   "cell_type": "code",
   "execution_count": null,
   "metadata": {},
   "outputs": [],
   "source": []
  },
  {
   "cell_type": "code",
   "execution_count": null,
   "metadata": {},
   "outputs": [],
   "source": []
  },
  {
   "cell_type": "code",
   "execution_count": null,
   "metadata": {},
   "outputs": [],
   "source": []
  },
  {
   "cell_type": "code",
   "execution_count": null,
   "metadata": {},
   "outputs": [],
   "source": []
  },
  {
   "cell_type": "code",
   "execution_count": null,
   "metadata": {},
   "outputs": [],
   "source": []
  },
  {
   "cell_type": "code",
   "execution_count": null,
   "metadata": {},
   "outputs": [],
   "source": []
  },
  {
   "cell_type": "code",
   "execution_count": null,
   "metadata": {},
   "outputs": [],
   "source": []
  },
  {
   "cell_type": "code",
   "execution_count": null,
   "metadata": {},
   "outputs": [],
   "source": []
  },
  {
   "cell_type": "code",
   "execution_count": null,
   "metadata": {},
   "outputs": [],
   "source": []
  },
  {
   "cell_type": "code",
   "execution_count": null,
   "metadata": {},
   "outputs": [],
   "source": []
  },
  {
   "cell_type": "code",
   "execution_count": null,
   "metadata": {},
   "outputs": [],
   "source": []
  },
  {
   "cell_type": "code",
   "execution_count": null,
   "metadata": {},
   "outputs": [],
   "source": []
  },
  {
   "cell_type": "code",
   "execution_count": null,
   "metadata": {},
   "outputs": [],
   "source": []
  },
  {
   "cell_type": "code",
   "execution_count": null,
   "metadata": {},
   "outputs": [],
   "source": []
  },
  {
   "cell_type": "code",
   "execution_count": null,
   "metadata": {},
   "outputs": [],
   "source": []
  },
  {
   "cell_type": "code",
   "execution_count": null,
   "metadata": {},
   "outputs": [],
   "source": []
  },
  {
   "cell_type": "code",
   "execution_count": null,
   "metadata": {},
   "outputs": [],
   "source": []
  },
  {
   "cell_type": "code",
   "execution_count": null,
   "metadata": {},
   "outputs": [],
   "source": []
  },
  {
   "cell_type": "code",
   "execution_count": null,
   "metadata": {},
   "outputs": [],
   "source": []
  },
  {
   "cell_type": "code",
   "execution_count": null,
   "metadata": {},
   "outputs": [],
   "source": []
  },
  {
   "cell_type": "code",
   "execution_count": null,
   "metadata": {},
   "outputs": [],
   "source": []
  },
  {
   "cell_type": "code",
   "execution_count": null,
   "metadata": {},
   "outputs": [],
   "source": []
  },
  {
   "cell_type": "code",
   "execution_count": null,
   "metadata": {},
   "outputs": [],
   "source": []
  },
  {
   "cell_type": "code",
   "execution_count": null,
   "metadata": {},
   "outputs": [],
   "source": []
  },
  {
   "cell_type": "code",
   "execution_count": null,
   "metadata": {},
   "outputs": [],
   "source": []
  },
  {
   "cell_type": "code",
   "execution_count": null,
   "metadata": {},
   "outputs": [],
   "source": []
  },
  {
   "cell_type": "code",
   "execution_count": null,
   "metadata": {},
   "outputs": [],
   "source": []
  },
  {
   "cell_type": "code",
   "execution_count": null,
   "metadata": {},
   "outputs": [],
   "source": []
  },
  {
   "cell_type": "code",
   "execution_count": null,
   "metadata": {},
   "outputs": [],
   "source": []
  },
  {
   "cell_type": "code",
   "execution_count": null,
   "metadata": {},
   "outputs": [],
   "source": []
  },
  {
   "cell_type": "code",
   "execution_count": null,
   "metadata": {},
   "outputs": [],
   "source": []
  },
  {
   "cell_type": "code",
   "execution_count": null,
   "metadata": {},
   "outputs": [],
   "source": []
  }
 ],
 "metadata": {
  "kernelspec": {
   "display_name": "Python 3",
   "language": "python",
   "name": "python3"
  },
  "language_info": {
   "codemirror_mode": {
    "name": "ipython",
    "version": 3
   },
   "file_extension": ".py",
   "mimetype": "text/x-python",
   "name": "python",
   "nbconvert_exporter": "python",
   "pygments_lexer": "ipython3",
   "version": "3.6.5"
  }
 },
 "nbformat": 4,
 "nbformat_minor": 2
}
