{
 "cells": [
  {
   "cell_type": "code",
   "execution_count": 4,
   "id": "a4257119",
   "metadata": {},
   "outputs": [],
   "source": [
    "from pathlib import Path\n",
    "import pandas as pd\n",
    "import json\n",
    "from tqdm import tqdm"
   ]
  },
  {
   "cell_type": "code",
   "execution_count": 44,
   "id": "408a97b9",
   "metadata": {},
   "outputs": [
    {
     "data": {
      "text/plain": [
       "PosixPath('/mnt/d/CloudStorage/York Research/6124 Data Mining/Project coding/book-recommendations')"
      ]
     },
     "execution_count": 44,
     "metadata": {},
     "output_type": "execute_result"
    }
   ],
   "source": [
    "path = Path('.')\n",
    "path.resolve()"
   ]
  },
  {
   "cell_type": "code",
   "execution_count": 45,
   "id": "d73c930b",
   "metadata": {},
   "outputs": [
    {
     "name": "stderr",
     "output_type": "stream",
     "text": [
      "100%|███████████████████████████████████████████████████████████████████████████████████████████████████████████████████████████████████████████████████████████████████████████████████████████████| 100000/100000 [00:08<00:00, 11362.35it/s]\n"
     ]
    }
   ],
   "source": [
    "all_books = []\n",
    "with open(path/'data/meta_small.json', 'r') as f:\n",
    "    lines = f.read().splitlines()\n",
    "    for line in tqdm(lines):\n",
    "        all_books.append(json.loads(line))"
   ]
  },
  {
   "cell_type": "code",
   "execution_count": 46,
   "id": "a934d3ef",
   "metadata": {},
   "outputs": [],
   "source": [
    "df = pd.DataFrame(all_books)"
   ]
  },
  {
   "cell_type": "code",
   "execution_count": 110,
   "id": "c4bbe1c8",
   "metadata": {},
   "outputs": [
    {
     "data": {
      "text/html": [
       "<div>\n",
       "<style scoped>\n",
       "    .dataframe tbody tr th:only-of-type {\n",
       "        vertical-align: middle;\n",
       "    }\n",
       "\n",
       "    .dataframe tbody tr th {\n",
       "        vertical-align: top;\n",
       "    }\n",
       "\n",
       "    .dataframe thead th {\n",
       "        text-align: right;\n",
       "    }\n",
       "</style>\n",
       "<table border=\"1\" class=\"dataframe\">\n",
       "  <thead>\n",
       "    <tr style=\"text-align: right;\">\n",
       "      <th></th>\n",
       "      <th>book_id</th>\n",
       "      <th>title</th>\n",
       "      <th>author_id</th>\n",
       "      <th>author_name</th>\n",
       "      <th>description</th>\n",
       "      <th>genre_1</th>\n",
       "      <th>genre_2</th>\n",
       "      <th>genre_3</th>\n",
       "    </tr>\n",
       "  </thead>\n",
       "  <tbody>\n",
       "    <tr>\n",
       "      <th>0</th>\n",
       "      <td>5333265</td>\n",
       "      <td>W.C. Fields: A Life on Film</td>\n",
       "      <td>604031</td>\n",
       "      <td>Ronald J. Fields</td>\n",
       "      <td></td>\n",
       "      <td>history, historical fiction, biography</td>\n",
       "      <td></td>\n",
       "      <td></td>\n",
       "    </tr>\n",
       "    <tr>\n",
       "      <th>1</th>\n",
       "      <td>1333909</td>\n",
       "      <td>Good Harbor</td>\n",
       "      <td>626222</td>\n",
       "      <td>Anita Diamant</td>\n",
       "      <td>Anita Diamant's international bestseller \"The ...</td>\n",
       "      <td>fiction</td>\n",
       "      <td>history, historical fiction, biography</td>\n",
       "      <td></td>\n",
       "    </tr>\n",
       "    <tr>\n",
       "      <th>2</th>\n",
       "      <td>7327624</td>\n",
       "      <td>The Unschooled Wizard (Sun Wolf and Starhawk, ...</td>\n",
       "      <td>10333</td>\n",
       "      <td>Barbara Hambly</td>\n",
       "      <td>Omnibus book club edition containing the Ladie...</td>\n",
       "      <td>fantasy, paranormal</td>\n",
       "      <td>fiction</td>\n",
       "      <td>poetry</td>\n",
       "    </tr>\n",
       "    <tr>\n",
       "      <th>3</th>\n",
       "      <td>6066819</td>\n",
       "      <td>Best Friends Forever</td>\n",
       "      <td>9212</td>\n",
       "      <td>Jennifer Weiner</td>\n",
       "      <td>Addie Downs and Valerie Adler were eight when ...</td>\n",
       "      <td>fiction</td>\n",
       "      <td>romance</td>\n",
       "      <td>mystery, thriller, crime</td>\n",
       "    </tr>\n",
       "    <tr>\n",
       "      <th>4</th>\n",
       "      <td>287140</td>\n",
       "      <td>Runic Astrology: Starcraft and Timekeeping in ...</td>\n",
       "      <td>149918</td>\n",
       "      <td>Nigel Pennick</td>\n",
       "      <td></td>\n",
       "      <td>non-fiction</td>\n",
       "      <td></td>\n",
       "      <td></td>\n",
       "    </tr>\n",
       "  </tbody>\n",
       "</table>\n",
       "</div>"
      ],
      "text/plain": [
       "   book_id                                              title author_id  \\\n",
       "0  5333265                        W.C. Fields: A Life on Film    604031   \n",
       "1  1333909                                        Good Harbor    626222   \n",
       "2  7327624  The Unschooled Wizard (Sun Wolf and Starhawk, ...     10333   \n",
       "3  6066819                               Best Friends Forever      9212   \n",
       "4   287140  Runic Astrology: Starcraft and Timekeeping in ...    149918   \n",
       "\n",
       "        author_name                                        description  \\\n",
       "0  Ronald J. Fields                                                      \n",
       "1     Anita Diamant  Anita Diamant's international bestseller \"The ...   \n",
       "2    Barbara Hambly  Omnibus book club edition containing the Ladie...   \n",
       "3   Jennifer Weiner  Addie Downs and Valerie Adler were eight when ...   \n",
       "4     Nigel Pennick                                                      \n",
       "\n",
       "                                  genre_1  \\\n",
       "0  history, historical fiction, biography   \n",
       "1                                 fiction   \n",
       "2                     fantasy, paranormal   \n",
       "3                                 fiction   \n",
       "4                             non-fiction   \n",
       "\n",
       "                                  genre_2                   genre_3  \n",
       "0                                                                    \n",
       "1  history, historical fiction, biography                            \n",
       "2                                 fiction                    poetry  \n",
       "3                                 romance  mystery, thriller, crime  \n",
       "4                                                                    "
      ]
     },
     "execution_count": 110,
     "metadata": {},
     "output_type": "execute_result"
    }
   ],
   "source": [
    "df.head()"
   ]
  },
  {
   "cell_type": "code",
   "execution_count": 48,
   "id": "7afbb2e6",
   "metadata": {},
   "outputs": [],
   "source": [
    "df = df[['book_id', 'title','authors','description']]"
   ]
  },
  {
   "cell_type": "code",
   "execution_count": 49,
   "id": "3c1fef2c",
   "metadata": {},
   "outputs": [
    {
     "data": {
      "text/html": [
       "<div>\n",
       "<style scoped>\n",
       "    .dataframe tbody tr th:only-of-type {\n",
       "        vertical-align: middle;\n",
       "    }\n",
       "\n",
       "    .dataframe tbody tr th {\n",
       "        vertical-align: top;\n",
       "    }\n",
       "\n",
       "    .dataframe thead th {\n",
       "        text-align: right;\n",
       "    }\n",
       "</style>\n",
       "<table border=\"1\" class=\"dataframe\">\n",
       "  <thead>\n",
       "    <tr style=\"text-align: right;\">\n",
       "      <th></th>\n",
       "      <th>book_id</th>\n",
       "      <th>title</th>\n",
       "      <th>authors</th>\n",
       "      <th>description</th>\n",
       "    </tr>\n",
       "  </thead>\n",
       "  <tbody>\n",
       "    <tr>\n",
       "      <th>0</th>\n",
       "      <td>5333265</td>\n",
       "      <td>W.C. Fields: A Life on Film</td>\n",
       "      <td>[{'author_id': '604031', 'role': ''}]</td>\n",
       "      <td></td>\n",
       "    </tr>\n",
       "    <tr>\n",
       "      <th>1</th>\n",
       "      <td>1333909</td>\n",
       "      <td>Good Harbor</td>\n",
       "      <td>[{'author_id': '626222', 'role': ''}]</td>\n",
       "      <td>Anita Diamant's international bestseller \"The ...</td>\n",
       "    </tr>\n",
       "    <tr>\n",
       "      <th>2</th>\n",
       "      <td>7327624</td>\n",
       "      <td>The Unschooled Wizard (Sun Wolf and Starhawk, ...</td>\n",
       "      <td>[{'author_id': '10333', 'role': ''}]</td>\n",
       "      <td>Omnibus book club edition containing the Ladie...</td>\n",
       "    </tr>\n",
       "    <tr>\n",
       "      <th>3</th>\n",
       "      <td>6066819</td>\n",
       "      <td>Best Friends Forever</td>\n",
       "      <td>[{'author_id': '9212', 'role': ''}]</td>\n",
       "      <td>Addie Downs and Valerie Adler were eight when ...</td>\n",
       "    </tr>\n",
       "    <tr>\n",
       "      <th>4</th>\n",
       "      <td>287140</td>\n",
       "      <td>Runic Astrology: Starcraft and Timekeeping in ...</td>\n",
       "      <td>[{'author_id': '149918', 'role': ''}]</td>\n",
       "      <td></td>\n",
       "    </tr>\n",
       "  </tbody>\n",
       "</table>\n",
       "</div>"
      ],
      "text/plain": [
       "   book_id                                              title  \\\n",
       "0  5333265                        W.C. Fields: A Life on Film   \n",
       "1  1333909                                        Good Harbor   \n",
       "2  7327624  The Unschooled Wizard (Sun Wolf and Starhawk, ...   \n",
       "3  6066819                               Best Friends Forever   \n",
       "4   287140  Runic Astrology: Starcraft and Timekeeping in ...   \n",
       "\n",
       "                                 authors  \\\n",
       "0  [{'author_id': '604031', 'role': ''}]   \n",
       "1  [{'author_id': '626222', 'role': ''}]   \n",
       "2   [{'author_id': '10333', 'role': ''}]   \n",
       "3    [{'author_id': '9212', 'role': ''}]   \n",
       "4  [{'author_id': '149918', 'role': ''}]   \n",
       "\n",
       "                                         description  \n",
       "0                                                     \n",
       "1  Anita Diamant's international bestseller \"The ...  \n",
       "2  Omnibus book club edition containing the Ladie...  \n",
       "3  Addie Downs and Valerie Adler were eight when ...  \n",
       "4                                                     "
      ]
     },
     "execution_count": 49,
     "metadata": {},
     "output_type": "execute_result"
    }
   ],
   "source": [
    "df.head()"
   ]
  },
  {
   "cell_type": "code",
   "execution_count": 50,
   "id": "2b1f1d44",
   "metadata": {},
   "outputs": [],
   "source": [
    "#Parse authors\n",
    "def parse_author(author_string):\n",
    "    for i in author_string:\n",
    "        if i['role'] == '':\n",
    "            return i['author_id']\n",
    "    return ''"
   ]
  },
  {
   "cell_type": "code",
   "execution_count": 51,
   "id": "6f79b829",
   "metadata": {},
   "outputs": [],
   "source": [
    "df['author_id'] = df.apply(lambda row: parse_author(row['authors']), axis = 1)"
   ]
  },
  {
   "cell_type": "code",
   "execution_count": 56,
   "id": "dce8b250",
   "metadata": {},
   "outputs": [
    {
     "name": "stderr",
     "output_type": "stream",
     "text": [
      "100%|█████████████████████████████████████████████████████████████████████████████████████████████████████████████████████████████████████████████████████████████████████████████████████████████| 2360655/2360655 [02:07<00:00, 18482.67it/s]\n"
     ]
    }
   ],
   "source": [
    "book_by_genre = []\n",
    "with open(path/'data/goodreads_book_genres_initial.json', 'r') as f:\n",
    "    lines = f.read().splitlines()\n",
    "    for line in tqdm(lines):\n",
    "        book_by_genre.append(json.loads(line))"
   ]
  },
  {
   "cell_type": "code",
   "execution_count": 57,
   "id": "90071a81",
   "metadata": {},
   "outputs": [],
   "source": [
    "genre_df = pd.DataFrame(book_by_genre)"
   ]
  },
  {
   "cell_type": "code",
   "execution_count": 58,
   "id": "beedb00c",
   "metadata": {},
   "outputs": [
    {
     "data": {
      "text/html": [
       "<div>\n",
       "<style scoped>\n",
       "    .dataframe tbody tr th:only-of-type {\n",
       "        vertical-align: middle;\n",
       "    }\n",
       "\n",
       "    .dataframe tbody tr th {\n",
       "        vertical-align: top;\n",
       "    }\n",
       "\n",
       "    .dataframe thead th {\n",
       "        text-align: right;\n",
       "    }\n",
       "</style>\n",
       "<table border=\"1\" class=\"dataframe\">\n",
       "  <thead>\n",
       "    <tr style=\"text-align: right;\">\n",
       "      <th></th>\n",
       "      <th>book_id</th>\n",
       "      <th>genres</th>\n",
       "    </tr>\n",
       "  </thead>\n",
       "  <tbody>\n",
       "    <tr>\n",
       "      <th>0</th>\n",
       "      <td>5333265</td>\n",
       "      <td>{'history, historical fiction, biography': 1}</td>\n",
       "    </tr>\n",
       "    <tr>\n",
       "      <th>1</th>\n",
       "      <td>1333909</td>\n",
       "      <td>{'fiction': 219, 'history, historical fiction,...</td>\n",
       "    </tr>\n",
       "    <tr>\n",
       "      <th>2</th>\n",
       "      <td>7327624</td>\n",
       "      <td>{'fantasy, paranormal': 31, 'fiction': 8, 'mys...</td>\n",
       "    </tr>\n",
       "    <tr>\n",
       "      <th>3</th>\n",
       "      <td>6066819</td>\n",
       "      <td>{'fiction': 555, 'romance': 23, 'mystery, thri...</td>\n",
       "    </tr>\n",
       "    <tr>\n",
       "      <th>4</th>\n",
       "      <td>287140</td>\n",
       "      <td>{'non-fiction': 3}</td>\n",
       "    </tr>\n",
       "    <tr>\n",
       "      <th>...</th>\n",
       "      <td>...</td>\n",
       "      <td>...</td>\n",
       "    </tr>\n",
       "    <tr>\n",
       "      <th>2360650</th>\n",
       "      <td>3084038</td>\n",
       "      <td>{'non-fiction': 5, 'history, historical fictio...</td>\n",
       "    </tr>\n",
       "    <tr>\n",
       "      <th>2360651</th>\n",
       "      <td>26168430</td>\n",
       "      <td>{'mystery, thriller, crime': 4, 'children': 1,...</td>\n",
       "    </tr>\n",
       "    <tr>\n",
       "      <th>2360652</th>\n",
       "      <td>2342551</td>\n",
       "      <td>{'poetry': 14, 'children': 7, 'young-adult': 1...</td>\n",
       "    </tr>\n",
       "    <tr>\n",
       "      <th>2360653</th>\n",
       "      <td>22017381</td>\n",
       "      <td>{'romance': 13, 'mystery, thriller, crime': 2}</td>\n",
       "    </tr>\n",
       "    <tr>\n",
       "      <th>2360654</th>\n",
       "      <td>11419866</td>\n",
       "      <td>{'romance': 19, 'fiction': 4}</td>\n",
       "    </tr>\n",
       "  </tbody>\n",
       "</table>\n",
       "<p>2360655 rows × 2 columns</p>\n",
       "</div>"
      ],
      "text/plain": [
       "          book_id                                             genres\n",
       "0         5333265      {'history, historical fiction, biography': 1}\n",
       "1         1333909  {'fiction': 219, 'history, historical fiction,...\n",
       "2         7327624  {'fantasy, paranormal': 31, 'fiction': 8, 'mys...\n",
       "3         6066819  {'fiction': 555, 'romance': 23, 'mystery, thri...\n",
       "4          287140                                 {'non-fiction': 3}\n",
       "...           ...                                                ...\n",
       "2360650   3084038  {'non-fiction': 5, 'history, historical fictio...\n",
       "2360651  26168430  {'mystery, thriller, crime': 4, 'children': 1,...\n",
       "2360652   2342551  {'poetry': 14, 'children': 7, 'young-adult': 1...\n",
       "2360653  22017381     {'romance': 13, 'mystery, thriller, crime': 2}\n",
       "2360654  11419866                      {'romance': 19, 'fiction': 4}\n",
       "\n",
       "[2360655 rows x 2 columns]"
      ]
     },
     "execution_count": 58,
     "metadata": {},
     "output_type": "execute_result"
    }
   ],
   "source": [
    "genre_df"
   ]
  },
  {
   "cell_type": "code",
   "execution_count": 61,
   "id": "1b766f16",
   "metadata": {},
   "outputs": [
    {
     "data": {
      "text/html": [
       "<div>\n",
       "<style scoped>\n",
       "    .dataframe tbody tr th:only-of-type {\n",
       "        vertical-align: middle;\n",
       "    }\n",
       "\n",
       "    .dataframe tbody tr th {\n",
       "        vertical-align: top;\n",
       "    }\n",
       "\n",
       "    .dataframe thead th {\n",
       "        text-align: right;\n",
       "    }\n",
       "</style>\n",
       "<table border=\"1\" class=\"dataframe\">\n",
       "  <thead>\n",
       "    <tr style=\"text-align: right;\">\n",
       "      <th></th>\n",
       "      <th>book_id</th>\n",
       "      <th>title</th>\n",
       "      <th>authors</th>\n",
       "      <th>description</th>\n",
       "      <th>author_id</th>\n",
       "    </tr>\n",
       "  </thead>\n",
       "  <tbody>\n",
       "    <tr>\n",
       "      <th>0</th>\n",
       "      <td>5333265</td>\n",
       "      <td>W.C. Fields: A Life on Film</td>\n",
       "      <td>[{'author_id': '604031', 'role': ''}]</td>\n",
       "      <td></td>\n",
       "      <td>604031</td>\n",
       "    </tr>\n",
       "    <tr>\n",
       "      <th>1</th>\n",
       "      <td>1333909</td>\n",
       "      <td>Good Harbor</td>\n",
       "      <td>[{'author_id': '626222', 'role': ''}]</td>\n",
       "      <td>Anita Diamant's international bestseller \"The ...</td>\n",
       "      <td>626222</td>\n",
       "    </tr>\n",
       "    <tr>\n",
       "      <th>2</th>\n",
       "      <td>7327624</td>\n",
       "      <td>The Unschooled Wizard (Sun Wolf and Starhawk, ...</td>\n",
       "      <td>[{'author_id': '10333', 'role': ''}]</td>\n",
       "      <td>Omnibus book club edition containing the Ladie...</td>\n",
       "      <td>10333</td>\n",
       "    </tr>\n",
       "    <tr>\n",
       "      <th>3</th>\n",
       "      <td>6066819</td>\n",
       "      <td>Best Friends Forever</td>\n",
       "      <td>[{'author_id': '9212', 'role': ''}]</td>\n",
       "      <td>Addie Downs and Valerie Adler were eight when ...</td>\n",
       "      <td>9212</td>\n",
       "    </tr>\n",
       "    <tr>\n",
       "      <th>4</th>\n",
       "      <td>287140</td>\n",
       "      <td>Runic Astrology: Starcraft and Timekeeping in ...</td>\n",
       "      <td>[{'author_id': '149918', 'role': ''}]</td>\n",
       "      <td></td>\n",
       "      <td>149918</td>\n",
       "    </tr>\n",
       "  </tbody>\n",
       "</table>\n",
       "</div>"
      ],
      "text/plain": [
       "   book_id                                              title  \\\n",
       "0  5333265                        W.C. Fields: A Life on Film   \n",
       "1  1333909                                        Good Harbor   \n",
       "2  7327624  The Unschooled Wizard (Sun Wolf and Starhawk, ...   \n",
       "3  6066819                               Best Friends Forever   \n",
       "4   287140  Runic Astrology: Starcraft and Timekeeping in ...   \n",
       "\n",
       "                                 authors  \\\n",
       "0  [{'author_id': '604031', 'role': ''}]   \n",
       "1  [{'author_id': '626222', 'role': ''}]   \n",
       "2   [{'author_id': '10333', 'role': ''}]   \n",
       "3    [{'author_id': '9212', 'role': ''}]   \n",
       "4  [{'author_id': '149918', 'role': ''}]   \n",
       "\n",
       "                                         description author_id  \n",
       "0                                                       604031  \n",
       "1  Anita Diamant's international bestseller \"The ...    626222  \n",
       "2  Omnibus book club edition containing the Ladie...     10333  \n",
       "3  Addie Downs and Valerie Adler were eight when ...      9212  \n",
       "4                                                       149918  "
      ]
     },
     "execution_count": 61,
     "metadata": {},
     "output_type": "execute_result"
    }
   ],
   "source": [
    "df.head()"
   ]
  },
  {
   "cell_type": "code",
   "execution_count": 64,
   "id": "898eb097",
   "metadata": {},
   "outputs": [],
   "source": [
    "df = df.merge(genre_df, on='book_id', how='left')"
   ]
  },
  {
   "cell_type": "code",
   "execution_count": 77,
   "id": "866ec523",
   "metadata": {},
   "outputs": [
    {
     "name": "stdout",
     "output_type": "stream",
     "text": [
      "{'fiction': 555, 'romance': 23, 'mystery, thriller, crime': 10}\n",
      "fiction\n",
      "romance\n",
      "mystery, thriller, crime\n"
     ]
    }
   ],
   "source": [
    "print(df.iloc[3]['genres'])\n",
    "for genre in sorted(df.iloc[3]['genres'], key = lambda x:x[1]):\n",
    "    print(genre)"
   ]
  },
  {
   "cell_type": "code",
   "execution_count": 80,
   "id": "00916047",
   "metadata": {},
   "outputs": [],
   "source": [
    "def parse_top_genres(genre_dict):\n",
    "    genres = ['','','']\n",
    "    for i, genre in enumerate(sorted(genre_dict, key = lambda x:x[1])[:3]):\n",
    "        genres[i] = genre\n",
    "    return genres"
   ]
  },
  {
   "cell_type": "code",
   "execution_count": 81,
   "id": "27e11d92",
   "metadata": {},
   "outputs": [],
   "source": [
    "df['top_genres'] = df.apply(lambda row: parse_top_genres(row['genres']), axis = 1)"
   ]
  },
  {
   "cell_type": "code",
   "execution_count": 83,
   "id": "0a68f245",
   "metadata": {},
   "outputs": [],
   "source": [
    "df['genre_1'] = df.apply(lambda row: row['top_genres'][0], axis = 1)\n",
    "df['genre_2'] = df.apply(lambda row: row['top_genres'][1], axis = 1)\n",
    "df['genre_3'] = df.apply(lambda row: row['top_genres'][2], axis = 1)"
   ]
  },
  {
   "cell_type": "code",
   "execution_count": null,
   "id": "a0a534be",
   "metadata": {},
   "outputs": [],
   "source": []
  },
  {
   "cell_type": "code",
   "execution_count": 88,
   "id": "644a5db5",
   "metadata": {},
   "outputs": [
    {
     "name": "stderr",
     "output_type": "stream",
     "text": [
      "100%|██████████████████████████████████████████████████████████████████████████████████████████████████████████████████████████████████████████████████████████████████████████████████████████████| 829529/829529 [00:06<00:00, 136108.70it/s]\n"
     ]
    }
   ],
   "source": [
    "author_name = []\n",
    "with open(path/'data/goodreads_book_authors.json', 'r') as f:\n",
    "    lines = f.read().splitlines()\n",
    "    for line in tqdm(lines):\n",
    "        author_name.append(json.loads(line))"
   ]
  },
  {
   "cell_type": "code",
   "execution_count": 89,
   "id": "801eb878",
   "metadata": {},
   "outputs": [],
   "source": [
    "author_df = pd.DataFrame(author_name)"
   ]
  },
  {
   "cell_type": "code",
   "execution_count": 94,
   "id": "ddb73edd",
   "metadata": {},
   "outputs": [],
   "source": [
    "author_df = author_df[['author_id', 'name']]"
   ]
  },
  {
   "cell_type": "code",
   "execution_count": 95,
   "id": "23cd9c5d",
   "metadata": {},
   "outputs": [],
   "source": [
    "df = df.merge(author_df, on='author_id', how='left')"
   ]
  },
  {
   "cell_type": "code",
   "execution_count": 97,
   "id": "b0254a3f",
   "metadata": {},
   "outputs": [],
   "source": [
    "df.rename(columns = {'name':'author_name'}, inplace = True)"
   ]
  },
  {
   "cell_type": "code",
   "execution_count": 99,
   "id": "56c76ca4",
   "metadata": {},
   "outputs": [
    {
     "data": {
      "text/plain": [
       "Index(['book_id', 'title', 'authors', 'description', 'author_id', 'genres',\n",
       "       'top_genres', 'genre_1', 'genre_2', 'genre_3', 'author_name'],\n",
       "      dtype='object')"
      ]
     },
     "execution_count": 99,
     "metadata": {},
     "output_type": "execute_result"
    }
   ],
   "source": [
    "df.columns"
   ]
  },
  {
   "cell_type": "code",
   "execution_count": 100,
   "id": "87793a8b",
   "metadata": {},
   "outputs": [],
   "source": [
    "df = df[['book_id', 'title','author_id', 'author_name','description', 'genre_1', 'genre_2', 'genre_3']]"
   ]
  },
  {
   "cell_type": "markdown",
   "id": "07f28b8c",
   "metadata": {},
   "source": [
    "### Ready to process and convert to embedding"
   ]
  },
  {
   "cell_type": "code",
   "execution_count": 105,
   "id": "6545c0de",
   "metadata": {},
   "outputs": [
    {
     "data": {
      "text/html": [
       "<div>\n",
       "<style scoped>\n",
       "    .dataframe tbody tr th:only-of-type {\n",
       "        vertical-align: middle;\n",
       "    }\n",
       "\n",
       "    .dataframe tbody tr th {\n",
       "        vertical-align: top;\n",
       "    }\n",
       "\n",
       "    .dataframe thead th {\n",
       "        text-align: right;\n",
       "    }\n",
       "</style>\n",
       "<table border=\"1\" class=\"dataframe\">\n",
       "  <thead>\n",
       "    <tr style=\"text-align: right;\">\n",
       "      <th></th>\n",
       "      <th>book_id</th>\n",
       "      <th>title</th>\n",
       "      <th>author_id</th>\n",
       "      <th>author_name</th>\n",
       "      <th>description</th>\n",
       "      <th>genre_1</th>\n",
       "      <th>genre_2</th>\n",
       "      <th>genre_3</th>\n",
       "    </tr>\n",
       "  </thead>\n",
       "  <tbody>\n",
       "    <tr>\n",
       "      <th>0</th>\n",
       "      <td>5333265</td>\n",
       "      <td>W.C. Fields: A Life on Film</td>\n",
       "      <td>604031</td>\n",
       "      <td>Ronald J. Fields</td>\n",
       "      <td></td>\n",
       "      <td>history, historical fiction, biography</td>\n",
       "      <td></td>\n",
       "      <td></td>\n",
       "    </tr>\n",
       "    <tr>\n",
       "      <th>1</th>\n",
       "      <td>1333909</td>\n",
       "      <td>Good Harbor</td>\n",
       "      <td>626222</td>\n",
       "      <td>Anita Diamant</td>\n",
       "      <td>Anita Diamant's international bestseller \"The ...</td>\n",
       "      <td>fiction</td>\n",
       "      <td>history, historical fiction, biography</td>\n",
       "      <td></td>\n",
       "    </tr>\n",
       "    <tr>\n",
       "      <th>2</th>\n",
       "      <td>7327624</td>\n",
       "      <td>The Unschooled Wizard (Sun Wolf and Starhawk, ...</td>\n",
       "      <td>10333</td>\n",
       "      <td>Barbara Hambly</td>\n",
       "      <td>Omnibus book club edition containing the Ladie...</td>\n",
       "      <td>fantasy, paranormal</td>\n",
       "      <td>fiction</td>\n",
       "      <td>poetry</td>\n",
       "    </tr>\n",
       "    <tr>\n",
       "      <th>3</th>\n",
       "      <td>6066819</td>\n",
       "      <td>Best Friends Forever</td>\n",
       "      <td>9212</td>\n",
       "      <td>Jennifer Weiner</td>\n",
       "      <td>Addie Downs and Valerie Adler were eight when ...</td>\n",
       "      <td>fiction</td>\n",
       "      <td>romance</td>\n",
       "      <td>mystery, thriller, crime</td>\n",
       "    </tr>\n",
       "    <tr>\n",
       "      <th>4</th>\n",
       "      <td>287140</td>\n",
       "      <td>Runic Astrology: Starcraft and Timekeeping in ...</td>\n",
       "      <td>149918</td>\n",
       "      <td>Nigel Pennick</td>\n",
       "      <td></td>\n",
       "      <td>non-fiction</td>\n",
       "      <td></td>\n",
       "      <td></td>\n",
       "    </tr>\n",
       "    <tr>\n",
       "      <th>...</th>\n",
       "      <td>...</td>\n",
       "      <td>...</td>\n",
       "      <td>...</td>\n",
       "      <td>...</td>\n",
       "      <td>...</td>\n",
       "      <td>...</td>\n",
       "      <td>...</td>\n",
       "      <td>...</td>\n",
       "    </tr>\n",
       "    <tr>\n",
       "      <th>99995</th>\n",
       "      <td>36110147</td>\n",
       "      <td>Det växte ett träd i Brooklyn - Del 2</td>\n",
       "      <td>5053136</td>\n",
       "      <td>Betty Smith</td>\n",
       "      <td></td>\n",
       "      <td></td>\n",
       "      <td></td>\n",
       "      <td></td>\n",
       "    </tr>\n",
       "    <tr>\n",
       "      <th>99996</th>\n",
       "      <td>24679885</td>\n",
       "      <td>Shock: A Virals Short Story</td>\n",
       "      <td>26372</td>\n",
       "      <td>Kathy Reichs</td>\n",
       "      <td>A riveting short story that takes us back to t...</td>\n",
       "      <td>fantasy, paranormal</td>\n",
       "      <td>children</td>\n",
       "      <td>fiction</td>\n",
       "    </tr>\n",
       "    <tr>\n",
       "      <th>99997</th>\n",
       "      <td>27883170</td>\n",
       "      <td>The Maiden Thief</td>\n",
       "      <td>175855</td>\n",
       "      <td>Melissa Marr</td>\n",
       "      <td>\"The Maiden Thief\" by Melissa Marr is a dark f...</td>\n",
       "      <td>fantasy, paranormal</td>\n",
       "      <td>fiction</td>\n",
       "      <td>history, historical fiction, biography</td>\n",
       "    </tr>\n",
       "    <tr>\n",
       "      <th>99998</th>\n",
       "      <td>35992614</td>\n",
       "      <td>Caged Warrior (Underground Fighters #1)</td>\n",
       "      <td>15428911</td>\n",
       "      <td>Aislinn Kearns</td>\n",
       "      <td>Meet the Underground Fighters--men battling it...</td>\n",
       "      <td>romance</td>\n",
       "      <td></td>\n",
       "      <td></td>\n",
       "    </tr>\n",
       "    <tr>\n",
       "      <th>99999</th>\n",
       "      <td>8713454</td>\n",
       "      <td>The Raven's Bride</td>\n",
       "      <td>385819</td>\n",
       "      <td>Lenore Hart</td>\n",
       "      <td>When eight-year-old Virginia \"Sissy\" Clemm mee...</td>\n",
       "      <td>fantasy, paranormal</td>\n",
       "      <td>fiction</td>\n",
       "      <td>history, historical fiction, biography</td>\n",
       "    </tr>\n",
       "  </tbody>\n",
       "</table>\n",
       "<p>100000 rows × 8 columns</p>\n",
       "</div>"
      ],
      "text/plain": [
       "        book_id                                              title author_id  \\\n",
       "0       5333265                        W.C. Fields: A Life on Film    604031   \n",
       "1       1333909                                        Good Harbor    626222   \n",
       "2       7327624  The Unschooled Wizard (Sun Wolf and Starhawk, ...     10333   \n",
       "3       6066819                               Best Friends Forever      9212   \n",
       "4        287140  Runic Astrology: Starcraft and Timekeeping in ...    149918   \n",
       "...         ...                                                ...       ...   \n",
       "99995  36110147              Det växte ett träd i Brooklyn - Del 2   5053136   \n",
       "99996  24679885                        Shock: A Virals Short Story     26372   \n",
       "99997  27883170                                   The Maiden Thief    175855   \n",
       "99998  35992614            Caged Warrior (Underground Fighters #1)  15428911   \n",
       "99999   8713454                                  The Raven's Bride    385819   \n",
       "\n",
       "            author_name                                        description  \\\n",
       "0      Ronald J. Fields                                                      \n",
       "1         Anita Diamant  Anita Diamant's international bestseller \"The ...   \n",
       "2        Barbara Hambly  Omnibus book club edition containing the Ladie...   \n",
       "3       Jennifer Weiner  Addie Downs and Valerie Adler were eight when ...   \n",
       "4         Nigel Pennick                                                      \n",
       "...                 ...                                                ...   \n",
       "99995       Betty Smith                                                      \n",
       "99996      Kathy Reichs  A riveting short story that takes us back to t...   \n",
       "99997      Melissa Marr  \"The Maiden Thief\" by Melissa Marr is a dark f...   \n",
       "99998    Aislinn Kearns  Meet the Underground Fighters--men battling it...   \n",
       "99999       Lenore Hart  When eight-year-old Virginia \"Sissy\" Clemm mee...   \n",
       "\n",
       "                                      genre_1  \\\n",
       "0      history, historical fiction, biography   \n",
       "1                                     fiction   \n",
       "2                         fantasy, paranormal   \n",
       "3                                     fiction   \n",
       "4                                 non-fiction   \n",
       "...                                       ...   \n",
       "99995                                           \n",
       "99996                     fantasy, paranormal   \n",
       "99997                     fantasy, paranormal   \n",
       "99998                                 romance   \n",
       "99999                     fantasy, paranormal   \n",
       "\n",
       "                                      genre_2  \\\n",
       "0                                               \n",
       "1      history, historical fiction, biography   \n",
       "2                                     fiction   \n",
       "3                                     romance   \n",
       "4                                               \n",
       "...                                       ...   \n",
       "99995                                           \n",
       "99996                                children   \n",
       "99997                                 fiction   \n",
       "99998                                           \n",
       "99999                                 fiction   \n",
       "\n",
       "                                      genre_3  \n",
       "0                                              \n",
       "1                                              \n",
       "2                                      poetry  \n",
       "3                    mystery, thriller, crime  \n",
       "4                                              \n",
       "...                                       ...  \n",
       "99995                                          \n",
       "99996                                 fiction  \n",
       "99997  history, historical fiction, biography  \n",
       "99998                                          \n",
       "99999  history, historical fiction, biography  \n",
       "\n",
       "[100000 rows x 8 columns]"
      ]
     },
     "execution_count": 105,
     "metadata": {},
     "output_type": "execute_result"
    }
   ],
   "source": [
    "df"
   ]
  },
  {
   "cell_type": "code",
   "execution_count": 106,
   "id": "e582d00c",
   "metadata": {},
   "outputs": [
    {
     "data": {
      "text/plain": [
       "Agatha Christie       187\n",
       "Stephen King          167\n",
       "Anonymous             103\n",
       "James Patterson        92\n",
       "Nora Roberts           90\n",
       "                     ... \n",
       "Winifred L. Frazer      1\n",
       "Adrian Thomas           1\n",
       "C.A. Green              1\n",
       "Ben Mariner             1\n",
       "Lenore Hart             1\n",
       "Name: author_name, Length: 61526, dtype: int64"
      ]
     },
     "execution_count": 106,
     "metadata": {},
     "output_type": "execute_result"
    }
   ],
   "source": [
    "df.author_name.value_counts()"
   ]
  },
  {
   "cell_type": "code",
   "execution_count": 108,
   "id": "bd029a44",
   "metadata": {},
   "outputs": [
    {
     "data": {
      "text/plain": [
       "fiction                                   25860\n",
       "fantasy, paranormal                       22884\n",
       "                                          16996\n",
       "history, historical fiction, biography    12985\n",
       "children                                   6897\n",
       "non-fiction                                6857\n",
       "romance                                    3990\n",
       "poetry                                     1131\n",
       "comics, graphic                            1030\n",
       "mystery, thriller, crime                    979\n",
       "young-adult                                 391\n",
       "Name: genre_1, dtype: int64"
      ]
     },
     "execution_count": 108,
     "metadata": {},
     "output_type": "execute_result"
    }
   ],
   "source": [
    "df.genre_1.value_counts()"
   ]
  },
  {
   "cell_type": "code",
   "execution_count": null,
   "id": "f3f72bcf",
   "metadata": {},
   "outputs": [],
   "source": []
  }
 ],
 "metadata": {
  "kernelspec": {
   "display_name": "Python 3 (ipykernel)",
   "language": "python",
   "name": "python3"
  },
  "language_info": {
   "codemirror_mode": {
    "name": "ipython",
    "version": 3
   },
   "file_extension": ".py",
   "mimetype": "text/x-python",
   "name": "python",
   "nbconvert_exporter": "python",
   "pygments_lexer": "ipython3",
   "version": "3.7.11"
  }
 },
 "nbformat": 4,
 "nbformat_minor": 5
}
